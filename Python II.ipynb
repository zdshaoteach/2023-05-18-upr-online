{
 "cells": [
  {
   "cell_type": "markdown",
   "id": "056de871",
   "metadata": {},
   "source": [
    "# Python II"
   ]
  },
  {
   "cell_type": "markdown",
   "id": "d81ccc51",
   "metadata": {},
   "source": [
    "---\n",
    "\n",
    "reference curriculum: \n",
    "\n",
    "- [Programming with Python](https://swcarpentry.github.io/python-novice-inflammation/)\n",
    "- [Plotting and Programming in Python](https://swcarpentry.github.io/python-novice-gapminder/)"
   ]
  },
  {
   "cell_type": "markdown",
   "id": "9aa3d90c",
   "metadata": {},
   "source": [
    "---\n",
    "\n",
    "Duration:\n",
    "- 90 mins\n",
    "\n",
    "---"
   ]
  },
  {
   "cell_type": "markdown",
   "id": "6479a3b0",
   "metadata": {},
   "source": [
    "## Python modules, libraries, and keywords"
   ]
  },
  {
   "cell_type": "markdown",
   "id": "7e115493-80f4-481a-b5b9-881dd845df6a",
   "metadata": {},
   "source": [
    "- [Language reference](https://docs.python.org/3/reference/index.html)\n",
    "- [Library reference](https://docs.python.org/3/library/index.html)"
   ]
  },
  {
   "cell_type": "code",
   "execution_count": 1,
   "id": "9ff0c2a5",
   "metadata": {
    "tags": []
   },
   "outputs": [
    {
     "name": "stdout",
     "output_type": "stream",
     "text": [
      "pi is 3.141592653589793\n",
      "cos(pi) is -1.0\n"
     ]
    }
   ],
   "source": [
    "# what is the keyword and what is the library in the following code?\n",
    "import math\n",
    "print('pi is', math.pi)\n",
    "print('cos(pi) is', math.cos(math.pi))"
   ]
  },
  {
   "cell_type": "markdown",
   "id": "84ce6934-1657-401a-978d-b3d4a9e7e5b6",
   "metadata": {},
   "source": [
    "> A module is a file containing Python definitions and statements.\n",
    "[modules](https://docs.python.org/3/tutorial/modules.html)"
   ]
  },
  {
   "cell_type": "code",
   "execution_count": 2,
   "id": "7bcf61f1",
   "metadata": {
    "tags": []
   },
   "outputs": [
    {
     "name": "stdout",
     "output_type": "stream",
     "text": [
      "Help on module math:\n",
      "\n",
      "NAME\n",
      "    math\n",
      "\n",
      "MODULE REFERENCE\n",
      "    https://docs.python.org/3.10/library/math.html\n",
      "    \n",
      "    The following documentation is automatically generated from the Python\n",
      "    source files.  It may be incomplete, incorrect or include features that\n",
      "    are considered implementation detail and may vary between Python\n",
      "    implementations.  When in doubt, consult the module reference at the\n",
      "    location listed above.\n",
      "\n",
      "DESCRIPTION\n",
      "    This module provides access to the mathematical functions\n",
      "    defined by the C standard.\n",
      "\n",
      "FUNCTIONS\n",
      "    acos(x, /)\n",
      "        Return the arc cosine (measured in radians) of x.\n",
      "        \n",
      "        The result is between 0 and pi.\n",
      "    \n",
      "    acosh(x, /)\n",
      "        Return the inverse hyperbolic cosine of x.\n",
      "    \n",
      "    asin(x, /)\n",
      "        Return the arc sine (measured in radians) of x.\n",
      "        \n",
      "        The result is between -pi/2 and pi/2.\n",
      "    \n",
      "    asinh(x, /)\n",
      "        Return the inverse hyperbolic sine of x.\n",
      "    \n",
      "    atan(x, /)\n",
      "        Return the arc tangent (measured in radians) of x.\n",
      "        \n",
      "        The result is between -pi/2 and pi/2.\n",
      "    \n",
      "    atan2(y, x, /)\n",
      "        Return the arc tangent (measured in radians) of y/x.\n",
      "        \n",
      "        Unlike atan(y/x), the signs of both x and y are considered.\n",
      "    \n",
      "    atanh(x, /)\n",
      "        Return the inverse hyperbolic tangent of x.\n",
      "    \n",
      "    ceil(x, /)\n",
      "        Return the ceiling of x as an Integral.\n",
      "        \n",
      "        This is the smallest integer >= x.\n",
      "    \n",
      "    comb(n, k, /)\n",
      "        Number of ways to choose k items from n items without repetition and without order.\n",
      "        \n",
      "        Evaluates to n! / (k! * (n - k)!) when k <= n and evaluates\n",
      "        to zero when k > n.\n",
      "        \n",
      "        Also called the binomial coefficient because it is equivalent\n",
      "        to the coefficient of k-th term in polynomial expansion of the\n",
      "        expression (1 + x)**n.\n",
      "        \n",
      "        Raises TypeError if either of the arguments are not integers.\n",
      "        Raises ValueError if either of the arguments are negative.\n",
      "    \n",
      "    copysign(x, y, /)\n",
      "        Return a float with the magnitude (absolute value) of x but the sign of y.\n",
      "        \n",
      "        On platforms that support signed zeros, copysign(1.0, -0.0)\n",
      "        returns -1.0.\n",
      "    \n",
      "    cos(x, /)\n",
      "        Return the cosine of x (measured in radians).\n",
      "    \n",
      "    cosh(x, /)\n",
      "        Return the hyperbolic cosine of x.\n",
      "    \n",
      "    degrees(x, /)\n",
      "        Convert angle x from radians to degrees.\n",
      "    \n",
      "    dist(p, q, /)\n",
      "        Return the Euclidean distance between two points p and q.\n",
      "        \n",
      "        The points should be specified as sequences (or iterables) of\n",
      "        coordinates.  Both inputs must have the same dimension.\n",
      "        \n",
      "        Roughly equivalent to:\n",
      "            sqrt(sum((px - qx) ** 2.0 for px, qx in zip(p, q)))\n",
      "    \n",
      "    erf(x, /)\n",
      "        Error function at x.\n",
      "    \n",
      "    erfc(x, /)\n",
      "        Complementary error function at x.\n",
      "    \n",
      "    exp(x, /)\n",
      "        Return e raised to the power of x.\n",
      "    \n",
      "    expm1(x, /)\n",
      "        Return exp(x)-1.\n",
      "        \n",
      "        This function avoids the loss of precision involved in the direct evaluation of exp(x)-1 for small x.\n",
      "    \n",
      "    fabs(x, /)\n",
      "        Return the absolute value of the float x.\n",
      "    \n",
      "    factorial(x, /)\n",
      "        Find x!.\n",
      "        \n",
      "        Raise a ValueError if x is negative or non-integral.\n",
      "    \n",
      "    floor(x, /)\n",
      "        Return the floor of x as an Integral.\n",
      "        \n",
      "        This is the largest integer <= x.\n",
      "    \n",
      "    fmod(x, y, /)\n",
      "        Return fmod(x, y), according to platform C.\n",
      "        \n",
      "        x % y may differ.\n",
      "    \n",
      "    frexp(x, /)\n",
      "        Return the mantissa and exponent of x, as pair (m, e).\n",
      "        \n",
      "        m is a float and e is an int, such that x = m * 2.**e.\n",
      "        If x is 0, m and e are both 0.  Else 0.5 <= abs(m) < 1.0.\n",
      "    \n",
      "    fsum(seq, /)\n",
      "        Return an accurate floating point sum of values in the iterable seq.\n",
      "        \n",
      "        Assumes IEEE-754 floating point arithmetic.\n",
      "    \n",
      "    gamma(x, /)\n",
      "        Gamma function at x.\n",
      "    \n",
      "    gcd(*integers)\n",
      "        Greatest Common Divisor.\n",
      "    \n",
      "    hypot(...)\n",
      "        hypot(*coordinates) -> value\n",
      "        \n",
      "        Multidimensional Euclidean distance from the origin to a point.\n",
      "        \n",
      "        Roughly equivalent to:\n",
      "            sqrt(sum(x**2 for x in coordinates))\n",
      "        \n",
      "        For a two dimensional point (x, y), gives the hypotenuse\n",
      "        using the Pythagorean theorem:  sqrt(x*x + y*y).\n",
      "        \n",
      "        For example, the hypotenuse of a 3/4/5 right triangle is:\n",
      "        \n",
      "            >>> hypot(3.0, 4.0)\n",
      "            5.0\n",
      "    \n",
      "    isclose(a, b, *, rel_tol=1e-09, abs_tol=0.0)\n",
      "        Determine whether two floating point numbers are close in value.\n",
      "        \n",
      "          rel_tol\n",
      "            maximum difference for being considered \"close\", relative to the\n",
      "            magnitude of the input values\n",
      "          abs_tol\n",
      "            maximum difference for being considered \"close\", regardless of the\n",
      "            magnitude of the input values\n",
      "        \n",
      "        Return True if a is close in value to b, and False otherwise.\n",
      "        \n",
      "        For the values to be considered close, the difference between them\n",
      "        must be smaller than at least one of the tolerances.\n",
      "        \n",
      "        -inf, inf and NaN behave similarly to the IEEE 754 Standard.  That\n",
      "        is, NaN is not close to anything, even itself.  inf and -inf are\n",
      "        only close to themselves.\n",
      "    \n",
      "    isfinite(x, /)\n",
      "        Return True if x is neither an infinity nor a NaN, and False otherwise.\n",
      "    \n",
      "    isinf(x, /)\n",
      "        Return True if x is a positive or negative infinity, and False otherwise.\n",
      "    \n",
      "    isnan(x, /)\n",
      "        Return True if x is a NaN (not a number), and False otherwise.\n",
      "    \n",
      "    isqrt(n, /)\n",
      "        Return the integer part of the square root of the input.\n",
      "    \n",
      "    lcm(*integers)\n",
      "        Least Common Multiple.\n",
      "    \n",
      "    ldexp(x, i, /)\n",
      "        Return x * (2**i).\n",
      "        \n",
      "        This is essentially the inverse of frexp().\n",
      "    \n",
      "    lgamma(x, /)\n",
      "        Natural logarithm of absolute value of Gamma function at x.\n",
      "    \n",
      "    log(...)\n",
      "        log(x, [base=math.e])\n",
      "        Return the logarithm of x to the given base.\n",
      "        \n",
      "        If the base not specified, returns the natural logarithm (base e) of x.\n",
      "    \n",
      "    log10(x, /)\n",
      "        Return the base 10 logarithm of x.\n",
      "    \n",
      "    log1p(x, /)\n",
      "        Return the natural logarithm of 1+x (base e).\n",
      "        \n",
      "        The result is computed in a way which is accurate for x near zero.\n",
      "    \n",
      "    log2(x, /)\n",
      "        Return the base 2 logarithm of x.\n",
      "    \n",
      "    modf(x, /)\n",
      "        Return the fractional and integer parts of x.\n",
      "        \n",
      "        Both results carry the sign of x and are floats.\n",
      "    \n",
      "    nextafter(x, y, /)\n",
      "        Return the next floating-point value after x towards y.\n",
      "    \n",
      "    perm(n, k=None, /)\n",
      "        Number of ways to choose k items from n items without repetition and with order.\n",
      "        \n",
      "        Evaluates to n! / (n - k)! when k <= n and evaluates\n",
      "        to zero when k > n.\n",
      "        \n",
      "        If k is not specified or is None, then k defaults to n\n",
      "        and the function returns n!.\n",
      "        \n",
      "        Raises TypeError if either of the arguments are not integers.\n",
      "        Raises ValueError if either of the arguments are negative.\n",
      "    \n",
      "    pow(x, y, /)\n",
      "        Return x**y (x to the power of y).\n",
      "    \n",
      "    prod(iterable, /, *, start=1)\n",
      "        Calculate the product of all the elements in the input iterable.\n",
      "        \n",
      "        The default start value for the product is 1.\n",
      "        \n",
      "        When the iterable is empty, return the start value.  This function is\n",
      "        intended specifically for use with numeric values and may reject\n",
      "        non-numeric types.\n",
      "    \n",
      "    radians(x, /)\n",
      "        Convert angle x from degrees to radians.\n",
      "    \n",
      "    remainder(x, y, /)\n",
      "        Difference between x and the closest integer multiple of y.\n",
      "        \n",
      "        Return x - n*y where n*y is the closest integer multiple of y.\n",
      "        In the case where x is exactly halfway between two multiples of\n",
      "        y, the nearest even value of n is used. The result is always exact.\n",
      "    \n",
      "    sin(x, /)\n",
      "        Return the sine of x (measured in radians).\n",
      "    \n",
      "    sinh(x, /)\n",
      "        Return the hyperbolic sine of x.\n",
      "    \n",
      "    sqrt(x, /)\n",
      "        Return the square root of x.\n",
      "    \n",
      "    tan(x, /)\n",
      "        Return the tangent of x (measured in radians).\n",
      "    \n",
      "    tanh(x, /)\n",
      "        Return the hyperbolic tangent of x.\n",
      "    \n",
      "    trunc(x, /)\n",
      "        Truncates the Real x to the nearest Integral toward 0.\n",
      "        \n",
      "        Uses the __trunc__ magic method.\n",
      "    \n",
      "    ulp(x, /)\n",
      "        Return the value of the least significant bit of the float x.\n",
      "\n",
      "DATA\n",
      "    e = 2.718281828459045\n",
      "    inf = inf\n",
      "    nan = nan\n",
      "    pi = 3.141592653589793\n",
      "    tau = 6.283185307179586\n",
      "\n",
      "FILE\n",
      "    /Users/doris/mambaforge/lib/python3.10/lib-dynload/math.cpython-310-darwin.so\n",
      "\n",
      "\n"
     ]
    }
   ],
   "source": [
    "# is help a keyword or a library?\n",
    "help(math)"
   ]
  },
  {
   "cell_type": "markdown",
   "id": "c2b0b3b7",
   "metadata": {},
   "source": [
    "library reference\n",
    "[docs.python.org](https://docs.python.org/3/library/index.html)"
   ]
  },
  {
   "cell_type": "code",
   "execution_count": 3,
   "id": "3e73c150",
   "metadata": {
    "tags": []
   },
   "outputs": [
    {
     "name": "stdout",
     "output_type": "stream",
     "text": [
      "['__doc__', '__file__', '__loader__', '__name__', '__package__', '__spec__', 'acos', 'acosh', 'asin', 'asinh', 'atan', 'atan2', 'atanh', 'ceil', 'comb', 'copysign', 'cos', 'cosh', 'degrees', 'dist', 'e', 'erf', 'erfc', 'exp', 'expm1', 'fabs', 'factorial', 'floor', 'fmod', 'frexp', 'fsum', 'gamma', 'gcd', 'hypot', 'inf', 'isclose', 'isfinite', 'isinf', 'isnan', 'isqrt', 'lcm', 'ldexp', 'lgamma', 'log', 'log10', 'log1p', 'log2', 'modf', 'nan', 'nextafter', 'perm', 'pi', 'pow', 'prod', 'radians', 'remainder', 'sin', 'sinh', 'sqrt', 'tan', 'tanh', 'tau', 'trunc', 'ulp']\n"
     ]
    }
   ],
   "source": [
    "# list available attributes and functions\n",
    "print(dir(math))"
   ]
  },
  {
   "cell_type": "code",
   "execution_count": 4,
   "id": "d1deaf37-a72f-48f7-aa1f-510ea25f3541",
   "metadata": {
    "tags": []
   },
   "outputs": [
    {
     "data": {
      "text/plain": [
       "<module 'math' from '/Users/doris/mambaforge/lib/python3.10/lib-dynload/math.cpython-310-darwin.so'>"
      ]
     },
     "execution_count": 4,
     "metadata": {},
     "output_type": "execute_result"
    }
   ],
   "source": [
    "math"
   ]
  },
  {
   "cell_type": "code",
   "execution_count": 5,
   "id": "f2a30d71",
   "metadata": {
    "tags": []
   },
   "outputs": [
    {
     "data": {
      "text/plain": [
       "<function math.tan(x, /)>"
      ]
     },
     "execution_count": 5,
     "metadata": {},
     "output_type": "execute_result"
    }
   ],
   "source": [
    "math.tan"
   ]
  },
  {
   "cell_type": "code",
   "execution_count": 6,
   "id": "5ed2878f",
   "metadata": {
    "tags": []
   },
   "outputs": [
    {
     "data": {
      "text/plain": [
       "'This module provides access to the mathematical functions\\ndefined by the C standard.'"
      ]
     },
     "execution_count": 6,
     "metadata": {},
     "output_type": "execute_result"
    }
   ],
   "source": [
    "math.__doc__"
   ]
  },
  {
   "cell_type": "code",
   "execution_count": 7,
   "id": "8732347c",
   "metadata": {
    "tags": []
   },
   "outputs": [
    {
     "data": {
      "text/plain": [
       "'math'"
      ]
     },
     "execution_count": 7,
     "metadata": {},
     "output_type": "execute_result"
    }
   ],
   "source": [
    "########################################\n",
    "# exercise: display library name\n",
    "# objective: understand attributes of a module\n",
    "math.__name__"
   ]
  },
  {
   "cell_type": "code",
   "execution_count": 8,
   "id": "9b3d7123-0d65-4ba9-bfd2-58704a4c9a7a",
   "metadata": {
    "tags": []
   },
   "outputs": [
    {
     "ename": "AttributeError",
     "evalue": "module 'math' has no attribute '__version__'",
     "output_type": "error",
     "traceback": [
      "\u001b[0;31m---------------------------------------------------------------------------\u001b[0m",
      "\u001b[0;31mAttributeError\u001b[0m                            Traceback (most recent call last)",
      "Cell \u001b[0;32mIn[8], line 1\u001b[0m\n\u001b[0;32m----> 1\u001b[0m \u001b[43mmath\u001b[49m\u001b[38;5;241;43m.\u001b[39;49m\u001b[43m__version__\u001b[49m\n",
      "\u001b[0;31mAttributeError\u001b[0m: module 'math' has no attribute '__version__'"
     ]
    }
   ],
   "source": [
    "math.__version__"
   ]
  },
  {
   "cell_type": "code",
   "execution_count": 9,
   "id": "b95ed880-f6a7-4b2e-b61f-012d6a5d3105",
   "metadata": {
    "tags": []
   },
   "outputs": [
    {
     "data": {
      "text/plain": [
       "'1.24.3'"
      ]
     },
     "execution_count": 9,
     "metadata": {},
     "output_type": "execute_result"
    }
   ],
   "source": [
    "import numpy as np\n",
    "np.__version__"
   ]
  },
  {
   "cell_type": "code",
   "execution_count": 10,
   "id": "87b0b7fc",
   "metadata": {
    "tags": []
   },
   "outputs": [
    {
     "name": "stdout",
     "output_type": "stream",
     "text": [
      "cos(pi) is -1.0\n"
     ]
    }
   ],
   "source": [
    "# Create an alias for a library module when importing it to shorten programs.\n",
    "import math as m\n",
    "print('cos(pi) is', m.cos(m.pi))"
   ]
  },
  {
   "cell_type": "code",
   "execution_count": 11,
   "id": "f2e3dcdd",
   "metadata": {
    "tags": []
   },
   "outputs": [
    {
     "name": "stdout",
     "output_type": "stream",
     "text": [
      "['__doc__', '__file__', '__loader__', '__name__', '__package__', '__spec__', 'acos', 'acosh', 'asin', 'asinh', 'atan', 'atan2', 'atanh', 'ceil', 'comb', 'copysign', 'cos', 'cosh', 'degrees', 'dist', 'e', 'erf', 'erfc', 'exp', 'expm1', 'fabs', 'factorial', 'floor', 'fmod', 'frexp', 'fsum', 'gamma', 'gcd', 'hypot', 'inf', 'isclose', 'isfinite', 'isinf', 'isnan', 'isqrt', 'lcm', 'ldexp', 'lgamma', 'log', 'log10', 'log1p', 'log2', 'modf', 'nan', 'nextafter', 'perm', 'pi', 'pow', 'prod', 'radians', 'remainder', 'sin', 'sinh', 'sqrt', 'tan', 'tanh', 'tau', 'trunc', 'ulp']\n",
      "----------------------------------------\n",
      "the library name is math\n"
     ]
    }
   ],
   "source": [
    "########################################\n",
    "# exercise: list available attributes/functions for a library alias \n",
    "# objective: understand import names\n",
    "import math as m\n",
    "print(dir(m))\n",
    "print('-----'*8)\n",
    "print('the library name is', m.__name__)"
   ]
  },
  {
   "cell_type": "code",
   "execution_count": 12,
   "id": "35494cf4",
   "metadata": {
    "tags": []
   },
   "outputs": [
    {
     "data": {
      "text/plain": [
       "True"
      ]
     },
     "execution_count": 12,
     "metadata": {},
     "output_type": "execute_result"
    }
   ],
   "source": [
    "dir(m) == dir(math)"
   ]
  },
  {
   "cell_type": "code",
   "execution_count": 13,
   "id": "44b5376d",
   "metadata": {},
   "outputs": [
    {
     "ename": "NameError",
     "evalue": "name 'random' is not defined",
     "output_type": "error",
     "traceback": [
      "\u001b[0;31m---------------------------------------------------------------------------\u001b[0m",
      "\u001b[0;31mNameError\u001b[0m                                 Traceback (most recent call last)",
      "Cell \u001b[0;32mIn[13], line 5\u001b[0m\n\u001b[1;32m      1\u001b[0m \u001b[38;5;66;03m########################################\u001b[39;00m\n\u001b[1;32m      2\u001b[0m \u001b[38;5;66;03m# exercise: run help on a module that exists but not imported\u001b[39;00m\n\u001b[1;32m      3\u001b[0m \u001b[38;5;66;03m# objective: understand the use of an imported module/library\u001b[39;00m\n\u001b[1;32m      4\u001b[0m \u001b[38;5;66;03m#del random\u001b[39;00m\n\u001b[0;32m----> 5\u001b[0m help(\u001b[43mrandom\u001b[49m)\n",
      "\u001b[0;31mNameError\u001b[0m: name 'random' is not defined"
     ]
    }
   ],
   "source": [
    "########################################\n",
    "# exercise: run help on a module that exists but not imported\n",
    "# objective: understand the use of an imported module/library\n",
    "#del random\n",
    "help(random)"
   ]
  },
  {
   "cell_type": "code",
   "execution_count": 14,
   "id": "41da36d4",
   "metadata": {},
   "outputs": [
    {
     "name": "stdout",
     "output_type": "stream",
     "text": [
      "Help on module random:\n",
      "\n",
      "NAME\n",
      "    random - Random variable generators.\n",
      "\n",
      "MODULE REFERENCE\n",
      "    https://docs.python.org/3.10/library/random.html\n",
      "    \n",
      "    The following documentation is automatically generated from the Python\n",
      "    source files.  It may be incomplete, incorrect or include features that\n",
      "    are considered implementation detail and may vary between Python\n",
      "    implementations.  When in doubt, consult the module reference at the\n",
      "    location listed above.\n",
      "\n",
      "DESCRIPTION\n",
      "        bytes\n",
      "        -----\n",
      "               uniform bytes (values between 0 and 255)\n",
      "    \n",
      "        integers\n",
      "        --------\n",
      "               uniform within range\n",
      "    \n",
      "        sequences\n",
      "        ---------\n",
      "               pick random element\n",
      "               pick random sample\n",
      "               pick weighted random sample\n",
      "               generate random permutation\n",
      "    \n",
      "        distributions on the real line:\n",
      "        ------------------------------\n",
      "               uniform\n",
      "               triangular\n",
      "               normal (Gaussian)\n",
      "               lognormal\n",
      "               negative exponential\n",
      "               gamma\n",
      "               beta\n",
      "               pareto\n",
      "               Weibull\n",
      "    \n",
      "        distributions on the circle (angles 0 to 2pi)\n",
      "        ---------------------------------------------\n",
      "               circular uniform\n",
      "               von Mises\n",
      "    \n",
      "    General notes on the underlying Mersenne Twister core generator:\n",
      "    \n",
      "    * The period is 2**19937-1.\n",
      "    * It is one of the most extensively tested generators in existence.\n",
      "    * The random() method is implemented in C, executes in a single Python step,\n",
      "      and is, therefore, threadsafe.\n",
      "\n",
      "CLASSES\n",
      "    _random.Random(builtins.object)\n",
      "        Random\n",
      "            SystemRandom\n",
      "    \n",
      "    class Random(_random.Random)\n",
      "     |  Random(x=None)\n",
      "     |  \n",
      "     |  Random number generator base class used by bound module functions.\n",
      "     |  \n",
      "     |  Used to instantiate instances of Random to get generators that don't\n",
      "     |  share state.\n",
      "     |  \n",
      "     |  Class Random can also be subclassed if you want to use a different basic\n",
      "     |  generator of your own devising: in that case, override the following\n",
      "     |  methods:  random(), seed(), getstate(), and setstate().\n",
      "     |  Optionally, implement a getrandbits() method so that randrange()\n",
      "     |  can cover arbitrarily large ranges.\n",
      "     |  \n",
      "     |  Method resolution order:\n",
      "     |      Random\n",
      "     |      _random.Random\n",
      "     |      builtins.object\n",
      "     |  \n",
      "     |  Methods defined here:\n",
      "     |  \n",
      "     |  __getstate__(self)\n",
      "     |      # Issue 17489: Since __reduce__ was defined to fix #759889 this is no\n",
      "     |      # longer called; we leave it here because it has been here since random was\n",
      "     |      # rewritten back in 2001 and why risk breaking something.\n",
      "     |  \n",
      "     |  __init__(self, x=None)\n",
      "     |      Initialize an instance.\n",
      "     |      \n",
      "     |      Optional argument x controls seeding, as for Random.seed().\n",
      "     |  \n",
      "     |  __reduce__(self)\n",
      "     |      Helper for pickle.\n",
      "     |  \n",
      "     |  __setstate__(self, state)\n",
      "     |  \n",
      "     |  betavariate(self, alpha, beta)\n",
      "     |      Beta distribution.\n",
      "     |      \n",
      "     |      Conditions on the parameters are alpha > 0 and beta > 0.\n",
      "     |      Returned values range between 0 and 1.\n",
      "     |  \n",
      "     |  choice(self, seq)\n",
      "     |      Choose a random element from a non-empty sequence.\n",
      "     |  \n",
      "     |  choices(self, population, weights=None, *, cum_weights=None, k=1)\n",
      "     |      Return a k sized list of population elements chosen with replacement.\n",
      "     |      \n",
      "     |      If the relative weights or cumulative weights are not specified,\n",
      "     |      the selections are made with equal probability.\n",
      "     |  \n",
      "     |  expovariate(self, lambd)\n",
      "     |      Exponential distribution.\n",
      "     |      \n",
      "     |      lambd is 1.0 divided by the desired mean.  It should be\n",
      "     |      nonzero.  (The parameter would be called \"lambda\", but that is\n",
      "     |      a reserved word in Python.)  Returned values range from 0 to\n",
      "     |      positive infinity if lambd is positive, and from negative\n",
      "     |      infinity to 0 if lambd is negative.\n",
      "     |  \n",
      "     |  gammavariate(self, alpha, beta)\n",
      "     |      Gamma distribution.  Not the gamma function!\n",
      "     |      \n",
      "     |      Conditions on the parameters are alpha > 0 and beta > 0.\n",
      "     |      \n",
      "     |      The probability distribution function is:\n",
      "     |      \n",
      "     |                  x ** (alpha - 1) * math.exp(-x / beta)\n",
      "     |        pdf(x) =  --------------------------------------\n",
      "     |                    math.gamma(alpha) * beta ** alpha\n",
      "     |  \n",
      "     |  gauss(self, mu, sigma)\n",
      "     |      Gaussian distribution.\n",
      "     |      \n",
      "     |      mu is the mean, and sigma is the standard deviation.  This is\n",
      "     |      slightly faster than the normalvariate() function.\n",
      "     |      \n",
      "     |      Not thread-safe without a lock around calls.\n",
      "     |  \n",
      "     |  getstate(self)\n",
      "     |      Return internal state; can be passed to setstate() later.\n",
      "     |  \n",
      "     |  lognormvariate(self, mu, sigma)\n",
      "     |      Log normal distribution.\n",
      "     |      \n",
      "     |      If you take the natural logarithm of this distribution, you'll get a\n",
      "     |      normal distribution with mean mu and standard deviation sigma.\n",
      "     |      mu can have any value, and sigma must be greater than zero.\n",
      "     |  \n",
      "     |  normalvariate(self, mu, sigma)\n",
      "     |      Normal distribution.\n",
      "     |      \n",
      "     |      mu is the mean, and sigma is the standard deviation.\n",
      "     |  \n",
      "     |  paretovariate(self, alpha)\n",
      "     |      Pareto distribution.  alpha is the shape parameter.\n",
      "     |  \n",
      "     |  randbytes(self, n)\n",
      "     |      Generate n random bytes.\n",
      "     |  \n",
      "     |  randint(self, a, b)\n",
      "     |      Return random integer in range [a, b], including both end points.\n",
      "     |  \n",
      "     |  randrange(self, start, stop=None, step=1)\n",
      "     |      Choose a random item from range(start, stop[, step]).\n",
      "     |      \n",
      "     |      This fixes the problem with randint() which includes the\n",
      "     |      endpoint; in Python this is usually not what you want.\n",
      "     |  \n",
      "     |  sample(self, population, k, *, counts=None)\n",
      "     |      Chooses k unique random elements from a population sequence or set.\n",
      "     |      \n",
      "     |      Returns a new list containing elements from the population while\n",
      "     |      leaving the original population unchanged.  The resulting list is\n",
      "     |      in selection order so that all sub-slices will also be valid random\n",
      "     |      samples.  This allows raffle winners (the sample) to be partitioned\n",
      "     |      into grand prize and second place winners (the subslices).\n",
      "     |      \n",
      "     |      Members of the population need not be hashable or unique.  If the\n",
      "     |      population contains repeats, then each occurrence is a possible\n",
      "     |      selection in the sample.\n",
      "     |      \n",
      "     |      Repeated elements can be specified one at a time or with the optional\n",
      "     |      counts parameter.  For example:\n",
      "     |      \n",
      "     |          sample(['red', 'blue'], counts=[4, 2], k=5)\n",
      "     |      \n",
      "     |      is equivalent to:\n",
      "     |      \n",
      "     |          sample(['red', 'red', 'red', 'red', 'blue', 'blue'], k=5)\n",
      "     |      \n",
      "     |      To choose a sample from a range of integers, use range() for the\n",
      "     |      population argument.  This is especially fast and space efficient\n",
      "     |      for sampling from a large population:\n",
      "     |      \n",
      "     |          sample(range(10000000), 60)\n",
      "     |  \n",
      "     |  seed(self, a=None, version=2)\n",
      "     |      Initialize internal state from a seed.\n",
      "     |      \n",
      "     |      The only supported seed types are None, int, float,\n",
      "     |      str, bytes, and bytearray.\n",
      "     |      \n",
      "     |      None or no argument seeds from current time or from an operating\n",
      "     |      system specific randomness source if available.\n",
      "     |      \n",
      "     |      If *a* is an int, all bits are used.\n",
      "     |      \n",
      "     |      For version 2 (the default), all of the bits are used if *a* is a str,\n",
      "     |      bytes, or bytearray.  For version 1 (provided for reproducing random\n",
      "     |      sequences from older versions of Python), the algorithm for str and\n",
      "     |      bytes generates a narrower range of seeds.\n",
      "     |  \n",
      "     |  setstate(self, state)\n",
      "     |      Restore internal state from object returned by getstate().\n",
      "     |  \n",
      "     |  shuffle(self, x, random=None)\n",
      "     |      Shuffle list x in place, and return None.\n",
      "     |      \n",
      "     |      Optional argument random is a 0-argument function returning a\n",
      "     |      random float in [0.0, 1.0); if it is the default None, the\n",
      "     |      standard random.random will be used.\n",
      "     |  \n",
      "     |  triangular(self, low=0.0, high=1.0, mode=None)\n",
      "     |      Triangular distribution.\n",
      "     |      \n",
      "     |      Continuous distribution bounded by given lower and upper limits,\n",
      "     |      and having a given mode value in-between.\n",
      "     |      \n",
      "     |      http://en.wikipedia.org/wiki/Triangular_distribution\n",
      "     |  \n",
      "     |  uniform(self, a, b)\n",
      "     |      Get a random number in the range [a, b) or [a, b] depending on rounding.\n",
      "     |  \n",
      "     |  vonmisesvariate(self, mu, kappa)\n",
      "     |      Circular data distribution.\n",
      "     |      \n",
      "     |      mu is the mean angle, expressed in radians between 0 and 2*pi, and\n",
      "     |      kappa is the concentration parameter, which must be greater than or\n",
      "     |      equal to zero.  If kappa is equal to zero, this distribution reduces\n",
      "     |      to a uniform random angle over the range 0 to 2*pi.\n",
      "     |  \n",
      "     |  weibullvariate(self, alpha, beta)\n",
      "     |      Weibull distribution.\n",
      "     |      \n",
      "     |      alpha is the scale parameter and beta is the shape parameter.\n",
      "     |  \n",
      "     |  ----------------------------------------------------------------------\n",
      "     |  Class methods defined here:\n",
      "     |  \n",
      "     |  __init_subclass__(**kwargs) from builtins.type\n",
      "     |      Control how subclasses generate random integers.\n",
      "     |      \n",
      "     |      The algorithm a subclass can use depends on the random() and/or\n",
      "     |      getrandbits() implementation available to it and determines\n",
      "     |      whether it can generate random integers from arbitrarily large\n",
      "     |      ranges.\n",
      "     |  \n",
      "     |  ----------------------------------------------------------------------\n",
      "     |  Data descriptors defined here:\n",
      "     |  \n",
      "     |  __dict__\n",
      "     |      dictionary for instance variables (if defined)\n",
      "     |  \n",
      "     |  __weakref__\n",
      "     |      list of weak references to the object (if defined)\n",
      "     |  \n",
      "     |  ----------------------------------------------------------------------\n",
      "     |  Data and other attributes defined here:\n",
      "     |  \n",
      "     |  VERSION = 3\n",
      "     |  \n",
      "     |  ----------------------------------------------------------------------\n",
      "     |  Methods inherited from _random.Random:\n",
      "     |  \n",
      "     |  getrandbits(self, k, /)\n",
      "     |      getrandbits(k) -> x.  Generates an int with k random bits.\n",
      "     |  \n",
      "     |  random(self, /)\n",
      "     |      random() -> x in the interval [0, 1).\n",
      "     |  \n",
      "     |  ----------------------------------------------------------------------\n",
      "     |  Static methods inherited from _random.Random:\n",
      "     |  \n",
      "     |  __new__(*args, **kwargs) from builtins.type\n",
      "     |      Create and return a new object.  See help(type) for accurate signature.\n",
      "    \n",
      "    class SystemRandom(Random)\n",
      "     |  SystemRandom(x=None)\n",
      "     |  \n",
      "     |  Alternate random number generator using sources provided\n",
      "     |  by the operating system (such as /dev/urandom on Unix or\n",
      "     |  CryptGenRandom on Windows).\n",
      "     |  \n",
      "     |   Not available on all systems (see os.urandom() for details).\n",
      "     |  \n",
      "     |  Method resolution order:\n",
      "     |      SystemRandom\n",
      "     |      Random\n",
      "     |      _random.Random\n",
      "     |      builtins.object\n",
      "     |  \n",
      "     |  Methods defined here:\n",
      "     |  \n",
      "     |  getrandbits(self, k)\n",
      "     |      getrandbits(k) -> x.  Generates an int with k random bits.\n",
      "     |  \n",
      "     |  getstate = _notimplemented(self, *args, **kwds)\n",
      "     |  \n",
      "     |  randbytes(self, n)\n",
      "     |      Generate n random bytes.\n",
      "     |  \n",
      "     |  random(self)\n",
      "     |      Get the next random number in the range [0.0, 1.0).\n",
      "     |  \n",
      "     |  seed(self, *args, **kwds)\n",
      "     |      Stub method.  Not used for a system random number generator.\n",
      "     |  \n",
      "     |  setstate = _notimplemented(self, *args, **kwds)\n",
      "     |  \n",
      "     |  ----------------------------------------------------------------------\n",
      "     |  Methods inherited from Random:\n",
      "     |  \n",
      "     |  __getstate__(self)\n",
      "     |      # Issue 17489: Since __reduce__ was defined to fix #759889 this is no\n",
      "     |      # longer called; we leave it here because it has been here since random was\n",
      "     |      # rewritten back in 2001 and why risk breaking something.\n",
      "     |  \n",
      "     |  __init__(self, x=None)\n",
      "     |      Initialize an instance.\n",
      "     |      \n",
      "     |      Optional argument x controls seeding, as for Random.seed().\n",
      "     |  \n",
      "     |  __reduce__(self)\n",
      "     |      Helper for pickle.\n",
      "     |  \n",
      "     |  __setstate__(self, state)\n",
      "     |  \n",
      "     |  betavariate(self, alpha, beta)\n",
      "     |      Beta distribution.\n",
      "     |      \n",
      "     |      Conditions on the parameters are alpha > 0 and beta > 0.\n",
      "     |      Returned values range between 0 and 1.\n",
      "     |  \n",
      "     |  choice(self, seq)\n",
      "     |      Choose a random element from a non-empty sequence.\n",
      "     |  \n",
      "     |  choices(self, population, weights=None, *, cum_weights=None, k=1)\n",
      "     |      Return a k sized list of population elements chosen with replacement.\n",
      "     |      \n",
      "     |      If the relative weights or cumulative weights are not specified,\n",
      "     |      the selections are made with equal probability.\n",
      "     |  \n",
      "     |  expovariate(self, lambd)\n",
      "     |      Exponential distribution.\n",
      "     |      \n",
      "     |      lambd is 1.0 divided by the desired mean.  It should be\n",
      "     |      nonzero.  (The parameter would be called \"lambda\", but that is\n",
      "     |      a reserved word in Python.)  Returned values range from 0 to\n",
      "     |      positive infinity if lambd is positive, and from negative\n",
      "     |      infinity to 0 if lambd is negative.\n",
      "     |  \n",
      "     |  gammavariate(self, alpha, beta)\n",
      "     |      Gamma distribution.  Not the gamma function!\n",
      "     |      \n",
      "     |      Conditions on the parameters are alpha > 0 and beta > 0.\n",
      "     |      \n",
      "     |      The probability distribution function is:\n",
      "     |      \n",
      "     |                  x ** (alpha - 1) * math.exp(-x / beta)\n",
      "     |        pdf(x) =  --------------------------------------\n",
      "     |                    math.gamma(alpha) * beta ** alpha\n",
      "     |  \n",
      "     |  gauss(self, mu, sigma)\n",
      "     |      Gaussian distribution.\n",
      "     |      \n",
      "     |      mu is the mean, and sigma is the standard deviation.  This is\n",
      "     |      slightly faster than the normalvariate() function.\n",
      "     |      \n",
      "     |      Not thread-safe without a lock around calls.\n",
      "     |  \n",
      "     |  lognormvariate(self, mu, sigma)\n",
      "     |      Log normal distribution.\n",
      "     |      \n",
      "     |      If you take the natural logarithm of this distribution, you'll get a\n",
      "     |      normal distribution with mean mu and standard deviation sigma.\n",
      "     |      mu can have any value, and sigma must be greater than zero.\n",
      "     |  \n",
      "     |  normalvariate(self, mu, sigma)\n",
      "     |      Normal distribution.\n",
      "     |      \n",
      "     |      mu is the mean, and sigma is the standard deviation.\n",
      "     |  \n",
      "     |  paretovariate(self, alpha)\n",
      "     |      Pareto distribution.  alpha is the shape parameter.\n",
      "     |  \n",
      "     |  randint(self, a, b)\n",
      "     |      Return random integer in range [a, b], including both end points.\n",
      "     |  \n",
      "     |  randrange(self, start, stop=None, step=1)\n",
      "     |      Choose a random item from range(start, stop[, step]).\n",
      "     |      \n",
      "     |      This fixes the problem with randint() which includes the\n",
      "     |      endpoint; in Python this is usually not what you want.\n",
      "     |  \n",
      "     |  sample(self, population, k, *, counts=None)\n",
      "     |      Chooses k unique random elements from a population sequence or set.\n",
      "     |      \n",
      "     |      Returns a new list containing elements from the population while\n",
      "     |      leaving the original population unchanged.  The resulting list is\n",
      "     |      in selection order so that all sub-slices will also be valid random\n",
      "     |      samples.  This allows raffle winners (the sample) to be partitioned\n",
      "     |      into grand prize and second place winners (the subslices).\n",
      "     |      \n",
      "     |      Members of the population need not be hashable or unique.  If the\n",
      "     |      population contains repeats, then each occurrence is a possible\n",
      "     |      selection in the sample.\n",
      "     |      \n",
      "     |      Repeated elements can be specified one at a time or with the optional\n",
      "     |      counts parameter.  For example:\n",
      "     |      \n",
      "     |          sample(['red', 'blue'], counts=[4, 2], k=5)\n",
      "     |      \n",
      "     |      is equivalent to:\n",
      "     |      \n",
      "     |          sample(['red', 'red', 'red', 'red', 'blue', 'blue'], k=5)\n",
      "     |      \n",
      "     |      To choose a sample from a range of integers, use range() for the\n",
      "     |      population argument.  This is especially fast and space efficient\n",
      "     |      for sampling from a large population:\n",
      "     |      \n",
      "     |          sample(range(10000000), 60)\n",
      "     |  \n",
      "     |  shuffle(self, x, random=None)\n",
      "     |      Shuffle list x in place, and return None.\n",
      "     |      \n",
      "     |      Optional argument random is a 0-argument function returning a\n",
      "     |      random float in [0.0, 1.0); if it is the default None, the\n",
      "     |      standard random.random will be used.\n",
      "     |  \n",
      "     |  triangular(self, low=0.0, high=1.0, mode=None)\n",
      "     |      Triangular distribution.\n",
      "     |      \n",
      "     |      Continuous distribution bounded by given lower and upper limits,\n",
      "     |      and having a given mode value in-between.\n",
      "     |      \n",
      "     |      http://en.wikipedia.org/wiki/Triangular_distribution\n",
      "     |  \n",
      "     |  uniform(self, a, b)\n",
      "     |      Get a random number in the range [a, b) or [a, b] depending on rounding.\n",
      "     |  \n",
      "     |  vonmisesvariate(self, mu, kappa)\n",
      "     |      Circular data distribution.\n",
      "     |      \n",
      "     |      mu is the mean angle, expressed in radians between 0 and 2*pi, and\n",
      "     |      kappa is the concentration parameter, which must be greater than or\n",
      "     |      equal to zero.  If kappa is equal to zero, this distribution reduces\n",
      "     |      to a uniform random angle over the range 0 to 2*pi.\n",
      "     |  \n",
      "     |  weibullvariate(self, alpha, beta)\n",
      "     |      Weibull distribution.\n",
      "     |      \n",
      "     |      alpha is the scale parameter and beta is the shape parameter.\n",
      "     |  \n",
      "     |  ----------------------------------------------------------------------\n",
      "     |  Class methods inherited from Random:\n",
      "     |  \n",
      "     |  __init_subclass__(**kwargs) from builtins.type\n",
      "     |      Control how subclasses generate random integers.\n",
      "     |      \n",
      "     |      The algorithm a subclass can use depends on the random() and/or\n",
      "     |      getrandbits() implementation available to it and determines\n",
      "     |      whether it can generate random integers from arbitrarily large\n",
      "     |      ranges.\n",
      "     |  \n",
      "     |  ----------------------------------------------------------------------\n",
      "     |  Data descriptors inherited from Random:\n",
      "     |  \n",
      "     |  __dict__\n",
      "     |      dictionary for instance variables (if defined)\n",
      "     |  \n",
      "     |  __weakref__\n",
      "     |      list of weak references to the object (if defined)\n",
      "     |  \n",
      "     |  ----------------------------------------------------------------------\n",
      "     |  Data and other attributes inherited from Random:\n",
      "     |  \n",
      "     |  VERSION = 3\n",
      "     |  \n",
      "     |  ----------------------------------------------------------------------\n",
      "     |  Static methods inherited from _random.Random:\n",
      "     |  \n",
      "     |  __new__(*args, **kwargs) from builtins.type\n",
      "     |      Create and return a new object.  See help(type) for accurate signature.\n",
      "\n",
      "FUNCTIONS\n",
      "    betavariate(alpha, beta) method of Random instance\n",
      "        Beta distribution.\n",
      "        \n",
      "        Conditions on the parameters are alpha > 0 and beta > 0.\n",
      "        Returned values range between 0 and 1.\n",
      "    \n",
      "    choice(seq) method of Random instance\n",
      "        Choose a random element from a non-empty sequence.\n",
      "    \n",
      "    choices(population, weights=None, *, cum_weights=None, k=1) method of Random instance\n",
      "        Return a k sized list of population elements chosen with replacement.\n",
      "        \n",
      "        If the relative weights or cumulative weights are not specified,\n",
      "        the selections are made with equal probability.\n",
      "    \n",
      "    expovariate(lambd) method of Random instance\n",
      "        Exponential distribution.\n",
      "        \n",
      "        lambd is 1.0 divided by the desired mean.  It should be\n",
      "        nonzero.  (The parameter would be called \"lambda\", but that is\n",
      "        a reserved word in Python.)  Returned values range from 0 to\n",
      "        positive infinity if lambd is positive, and from negative\n",
      "        infinity to 0 if lambd is negative.\n",
      "    \n",
      "    gammavariate(alpha, beta) method of Random instance\n",
      "        Gamma distribution.  Not the gamma function!\n",
      "        \n",
      "        Conditions on the parameters are alpha > 0 and beta > 0.\n",
      "        \n",
      "        The probability distribution function is:\n",
      "        \n",
      "                    x ** (alpha - 1) * math.exp(-x / beta)\n",
      "          pdf(x) =  --------------------------------------\n",
      "                      math.gamma(alpha) * beta ** alpha\n",
      "    \n",
      "    gauss(mu, sigma) method of Random instance\n",
      "        Gaussian distribution.\n",
      "        \n",
      "        mu is the mean, and sigma is the standard deviation.  This is\n",
      "        slightly faster than the normalvariate() function.\n",
      "        \n",
      "        Not thread-safe without a lock around calls.\n",
      "    \n",
      "    getrandbits(k, /) method of Random instance\n",
      "        getrandbits(k) -> x.  Generates an int with k random bits.\n",
      "    \n",
      "    getstate() method of Random instance\n",
      "        Return internal state; can be passed to setstate() later.\n",
      "    \n",
      "    lognormvariate(mu, sigma) method of Random instance\n",
      "        Log normal distribution.\n",
      "        \n",
      "        If you take the natural logarithm of this distribution, you'll get a\n",
      "        normal distribution with mean mu and standard deviation sigma.\n",
      "        mu can have any value, and sigma must be greater than zero.\n",
      "    \n",
      "    normalvariate(mu, sigma) method of Random instance\n",
      "        Normal distribution.\n",
      "        \n",
      "        mu is the mean, and sigma is the standard deviation.\n",
      "    \n",
      "    paretovariate(alpha) method of Random instance\n",
      "        Pareto distribution.  alpha is the shape parameter.\n",
      "    \n",
      "    randbytes(n) method of Random instance\n",
      "        Generate n random bytes.\n",
      "    \n",
      "    randint(a, b) method of Random instance\n",
      "        Return random integer in range [a, b], including both end points.\n",
      "    \n",
      "    random() method of Random instance\n",
      "        random() -> x in the interval [0, 1).\n",
      "    \n",
      "    randrange(start, stop=None, step=1) method of Random instance\n",
      "        Choose a random item from range(start, stop[, step]).\n",
      "        \n",
      "        This fixes the problem with randint() which includes the\n",
      "        endpoint; in Python this is usually not what you want.\n",
      "    \n",
      "    sample(population, k, *, counts=None) method of Random instance\n",
      "        Chooses k unique random elements from a population sequence or set.\n",
      "        \n",
      "        Returns a new list containing elements from the population while\n",
      "        leaving the original population unchanged.  The resulting list is\n",
      "        in selection order so that all sub-slices will also be valid random\n",
      "        samples.  This allows raffle winners (the sample) to be partitioned\n",
      "        into grand prize and second place winners (the subslices).\n",
      "        \n",
      "        Members of the population need not be hashable or unique.  If the\n",
      "        population contains repeats, then each occurrence is a possible\n",
      "        selection in the sample.\n",
      "        \n",
      "        Repeated elements can be specified one at a time or with the optional\n",
      "        counts parameter.  For example:\n",
      "        \n",
      "            sample(['red', 'blue'], counts=[4, 2], k=5)\n",
      "        \n",
      "        is equivalent to:\n",
      "        \n",
      "            sample(['red', 'red', 'red', 'red', 'blue', 'blue'], k=5)\n",
      "        \n",
      "        To choose a sample from a range of integers, use range() for the\n",
      "        population argument.  This is especially fast and space efficient\n",
      "        for sampling from a large population:\n",
      "        \n",
      "            sample(range(10000000), 60)\n",
      "    \n",
      "    seed(a=None, version=2) method of Random instance\n",
      "        Initialize internal state from a seed.\n",
      "        \n",
      "        The only supported seed types are None, int, float,\n",
      "        str, bytes, and bytearray.\n",
      "        \n",
      "        None or no argument seeds from current time or from an operating\n",
      "        system specific randomness source if available.\n",
      "        \n",
      "        If *a* is an int, all bits are used.\n",
      "        \n",
      "        For version 2 (the default), all of the bits are used if *a* is a str,\n",
      "        bytes, or bytearray.  For version 1 (provided for reproducing random\n",
      "        sequences from older versions of Python), the algorithm for str and\n",
      "        bytes generates a narrower range of seeds.\n",
      "    \n",
      "    setstate(state) method of Random instance\n",
      "        Restore internal state from object returned by getstate().\n",
      "    \n",
      "    shuffle(x, random=None) method of Random instance\n",
      "        Shuffle list x in place, and return None.\n",
      "        \n",
      "        Optional argument random is a 0-argument function returning a\n",
      "        random float in [0.0, 1.0); if it is the default None, the\n",
      "        standard random.random will be used.\n",
      "    \n",
      "    triangular(low=0.0, high=1.0, mode=None) method of Random instance\n",
      "        Triangular distribution.\n",
      "        \n",
      "        Continuous distribution bounded by given lower and upper limits,\n",
      "        and having a given mode value in-between.\n",
      "        \n",
      "        http://en.wikipedia.org/wiki/Triangular_distribution\n",
      "    \n",
      "    uniform(a, b) method of Random instance\n",
      "        Get a random number in the range [a, b) or [a, b] depending on rounding.\n",
      "    \n",
      "    vonmisesvariate(mu, kappa) method of Random instance\n",
      "        Circular data distribution.\n",
      "        \n",
      "        mu is the mean angle, expressed in radians between 0 and 2*pi, and\n",
      "        kappa is the concentration parameter, which must be greater than or\n",
      "        equal to zero.  If kappa is equal to zero, this distribution reduces\n",
      "        to a uniform random angle over the range 0 to 2*pi.\n",
      "    \n",
      "    weibullvariate(alpha, beta) method of Random instance\n",
      "        Weibull distribution.\n",
      "        \n",
      "        alpha is the scale parameter and beta is the shape parameter.\n",
      "\n",
      "DATA\n",
      "    __all__ = ['Random', 'SystemRandom', 'betavariate', 'choice', 'choices...\n",
      "\n",
      "FILE\n",
      "    /Users/doris/mambaforge/lib/python3.10/random.py\n",
      "\n",
      "\n"
     ]
    }
   ],
   "source": [
    "########################################\n",
    "# exercise: run help on a module that exists but not imported\n",
    "# objective: understand the use of an imported module/library\n",
    "import random\n",
    "help(random)"
   ]
  },
  {
   "cell_type": "markdown",
   "id": "cf71a1ed",
   "metadata": {},
   "source": [
    "[list of python keywords (w3schools)](https://www.w3schools.com/python/python_ref_keywords.asp)"
   ]
  },
  {
   "cell_type": "code",
   "execution_count": 15,
   "id": "309a6cd5",
   "metadata": {},
   "outputs": [
    {
     "ename": "NameError",
     "evalue": "name 'random' is not defined",
     "output_type": "error",
     "traceback": [
      "\u001b[0;31m---------------------------------------------------------------------------\u001b[0m",
      "\u001b[0;31mNameError\u001b[0m                                 Traceback (most recent call last)",
      "Cell \u001b[0;32mIn[15], line 5\u001b[0m\n\u001b[1;32m      1\u001b[0m \u001b[38;5;66;03m########################################\u001b[39;00m\n\u001b[1;32m      2\u001b[0m \u001b[38;5;66;03m# exercise: remove an imported library\u001b[39;00m\n\u001b[1;32m      3\u001b[0m \u001b[38;5;66;03m# objective: understand the use of an imported module/library\u001b[39;00m\n\u001b[1;32m      4\u001b[0m \u001b[38;5;28;01mdel\u001b[39;00m random\n\u001b[0;32m----> 5\u001b[0m help(\u001b[43mrandom\u001b[49m)\n",
      "\u001b[0;31mNameError\u001b[0m: name 'random' is not defined"
     ]
    }
   ],
   "source": [
    "########################################\n",
    "# exercise: remove an imported library\n",
    "# objective: understand the use of an imported module/library\n",
    "del random\n",
    "help(random)"
   ]
  },
  {
   "cell_type": "markdown",
   "id": "1889a677-c495-47e5-b43d-e4ac4a34c960",
   "metadata": {},
   "source": [
    "# Q&A"
   ]
  },
  {
   "cell_type": "markdown",
   "id": "717cf910",
   "metadata": {},
   "source": [
    "## complex data structure: Lists"
   ]
  },
  {
   "cell_type": "markdown",
   "id": "725ed845",
   "metadata": {},
   "source": [
    "see [Built-in Types](https://docs.python.org/3/library/index.html)\n",
    "\n",
    "The most import built-in types: **sequence** types and **mapping** types"
   ]
  },
  {
   "cell_type": "markdown",
   "id": "3398f1be",
   "metadata": {},
   "source": [
    "- why do we need sequence data types?\n",
    "- example of sequence data types: service waiting line, shopping list, etc."
   ]
  },
  {
   "cell_type": "code",
   "execution_count": 16,
   "id": "b922bc55",
   "metadata": {},
   "outputs": [],
   "source": [
    "# create a list\n",
    "shopping_list = ['rice', 'olive oil', 'broccoli', 'apple', 'orange']"
   ]
  },
  {
   "cell_type": "code",
   "execution_count": 17,
   "id": "682073f9",
   "metadata": {},
   "outputs": [
    {
     "data": {
      "text/plain": [
       "'rice'"
      ]
     },
     "execution_count": 17,
     "metadata": {},
     "output_type": "execute_result"
    }
   ],
   "source": [
    "# get elements from a list\n",
    "# index [0,1,2,3,4,...]\n",
    "# ['rice', 'olive oil', 'broccoli', 'apple', 'orange']\n",
    "#   0       1            2           3        4\n",
    "shopping_list[0]"
   ]
  },
  {
   "cell_type": "code",
   "execution_count": 18,
   "id": "230675d1",
   "metadata": {},
   "outputs": [
    {
     "data": {
      "text/plain": [
       "'rice'"
      ]
     },
     "execution_count": 18,
     "metadata": {},
     "output_type": "execute_result"
    }
   ],
   "source": [
    "# get elements from a list\n",
    "# reversed index [...,-6,-5,-4,-3,-2,-1]\n",
    "# ['rice', 'olive oil', 'broccoli', 'apple', 'orange']\n",
    "#   -5      -4           -3          -2       -1\n",
    "shopping_list[-5]"
   ]
  },
  {
   "cell_type": "code",
   "execution_count": 19,
   "id": "4fdc5212",
   "metadata": {},
   "outputs": [
    {
     "ename": "IndexError",
     "evalue": "list index out of range",
     "output_type": "error",
     "traceback": [
      "\u001b[0;31m---------------------------------------------------------------------------\u001b[0m",
      "\u001b[0;31mIndexError\u001b[0m                                Traceback (most recent call last)",
      "Cell \u001b[0;32mIn[19], line 8\u001b[0m\n\u001b[1;32m      1\u001b[0m \u001b[38;5;66;03m########################################\u001b[39;00m\n\u001b[1;32m      2\u001b[0m \u001b[38;5;66;03m# exercise: out of index\u001b[39;00m\n\u001b[1;32m      3\u001b[0m \u001b[38;5;66;03m# index [0,1,2,3,4,...]\u001b[39;00m\n\u001b[0;32m   (...)\u001b[0m\n\u001b[1;32m      6\u001b[0m \u001b[38;5;66;03m#   0       1            2           3        4\u001b[39;00m\n\u001b[1;32m      7\u001b[0m \u001b[38;5;66;03m#   -5      -4           -3          -2       -1\u001b[39;00m\n\u001b[0;32m----> 8\u001b[0m \u001b[43mshopping_list\u001b[49m\u001b[43m[\u001b[49m\u001b[38;5;241;43m5\u001b[39;49m\u001b[43m]\u001b[49m\n",
      "\u001b[0;31mIndexError\u001b[0m: list index out of range"
     ]
    }
   ],
   "source": [
    "########################################\n",
    "# exercise: out of index\n",
    "# index [0,1,2,3,4,...]\n",
    "# reversed index [...,-6,-5,-4,-3,-2,-1]\n",
    "# ['rice', 'olive oil', 'broccoli', 'apple', 'orange']\n",
    "#   0       1            2           3        4\n",
    "#   -5      -4           -3          -2       -1\n",
    "shopping_list[5]"
   ]
  },
  {
   "cell_type": "code",
   "execution_count": 20,
   "id": "84f5e85f",
   "metadata": {},
   "outputs": [
    {
     "ename": "IndexError",
     "evalue": "list index out of range",
     "output_type": "error",
     "traceback": [
      "\u001b[0;31m---------------------------------------------------------------------------\u001b[0m",
      "\u001b[0;31mIndexError\u001b[0m                                Traceback (most recent call last)",
      "Cell \u001b[0;32mIn[20], line 8\u001b[0m\n\u001b[1;32m      1\u001b[0m \u001b[38;5;66;03m########################################\u001b[39;00m\n\u001b[1;32m      2\u001b[0m \u001b[38;5;66;03m# exercise: out of index\u001b[39;00m\n\u001b[1;32m      3\u001b[0m \u001b[38;5;66;03m# index [0,1,2,3,4,...]\u001b[39;00m\n\u001b[0;32m   (...)\u001b[0m\n\u001b[1;32m      6\u001b[0m \u001b[38;5;66;03m#   0       1            2           3        4\u001b[39;00m\n\u001b[1;32m      7\u001b[0m \u001b[38;5;66;03m#   -5      -4           -3          -2       -1\u001b[39;00m\n\u001b[0;32m----> 8\u001b[0m \u001b[43mshopping_list\u001b[49m\u001b[43m[\u001b[49m\u001b[38;5;241;43m-\u001b[39;49m\u001b[38;5;241;43m6\u001b[39;49m\u001b[43m]\u001b[49m\n",
      "\u001b[0;31mIndexError\u001b[0m: list index out of range"
     ]
    }
   ],
   "source": [
    "########################################\n",
    "# exercise: out of index\n",
    "# index [0,1,2,3,4,...]\n",
    "# reversed index [...,-6,-5,-4,-3,-2,-1]\n",
    "# ['rice', 'olive oil', 'broccoli', 'apple', 'orange']\n",
    "#   0       1            2           3        4\n",
    "#   -5      -4           -3          -2       -1\n",
    "shopping_list[-6]"
   ]
  },
  {
   "cell_type": "code",
   "execution_count": 21,
   "id": "fb44bb9d",
   "metadata": {},
   "outputs": [
    {
     "data": {
      "text/plain": [
       "['olive oil', 'broccoli', 'apple', 'orange']"
      ]
     },
     "execution_count": 21,
     "metadata": {},
     "output_type": "execute_result"
    }
   ],
   "source": [
    "# slicing a list\n",
    "# index [0,1,2,3,4,...]\n",
    "# reversed index [...,-6,-5,-4,-3,-2,-1]\n",
    "# ['rice', 'olive oil', 'broccoli', 'apple', 'orange']\n",
    "#   0       1            2           3        4\n",
    "#   -5      -4           -3          -2       -1\n",
    "shopping_list[1:9]"
   ]
  },
  {
   "cell_type": "code",
   "execution_count": 22,
   "id": "972c3468",
   "metadata": {},
   "outputs": [
    {
     "data": {
      "text/plain": [
       "['olive oil', 'broccoli', 'apple', 'orange']"
      ]
     },
     "execution_count": 22,
     "metadata": {},
     "output_type": "execute_result"
    }
   ],
   "source": [
    "# slicing a list\n",
    "# index [0,1,2,3,4,...]\n",
    "# reversed index [...,-6,-5,-4,-3,-2,-1]\n",
    "# ['rice', 'olive oil', 'broccoli', 'apple', 'orange']\n",
    "#   0       1            2           3        4\n",
    "#   -5      -4           -3          -2       -1\n",
    "shopping_list[1:]"
   ]
  },
  {
   "cell_type": "code",
   "execution_count": 23,
   "id": "e00d578e",
   "metadata": {},
   "outputs": [
    {
     "data": {
      "text/plain": [
       "['rice', 'olive oil', 'broccoli']"
      ]
     },
     "execution_count": 23,
     "metadata": {},
     "output_type": "execute_result"
    }
   ],
   "source": [
    "# slicing a list\n",
    "# index [0,1,2,3,4,...]\n",
    "# reversed index [...,-6,-5,-4,-3,-2,-1]\n",
    "# ['rice', 'olive oil', 'broccoli', 'apple', 'orange']\n",
    "#   0       1            2           3        4\n",
    "#   -5      -4           -3          -2       -1\n",
    "shopping_list[:3]"
   ]
  },
  {
   "cell_type": "code",
   "execution_count": 24,
   "id": "3a0f377a",
   "metadata": {},
   "outputs": [
    {
     "name": "stdout",
     "output_type": "stream",
     "text": [
      "[0, 1, 2, 3, 4, 5, 6, 7, 8, 9, 10, 11, 12, 13, 14, 15, 16, 17, 18, 19]\n"
     ]
    }
   ],
   "source": [
    "########################################\n",
    "# exercise: \n",
    "# complex slicing\n",
    "numbers = list(range(0,20))\n",
    "print(numbers)"
   ]
  },
  {
   "cell_type": "code",
   "execution_count": 25,
   "id": "82d901da-c683-46b7-8a1c-f390bf0f376a",
   "metadata": {},
   "outputs": [
    {
     "name": "stdout",
     "output_type": "stream",
     "text": [
      "[1, 4, 7, 10]\n"
     ]
    }
   ],
   "source": [
    "subset = numbers[1:12:3]\n",
    "print(subset)"
   ]
  },
  {
   "cell_type": "code",
   "execution_count": 26,
   "id": "f978926b",
   "metadata": {},
   "outputs": [
    {
     "name": "stdout",
     "output_type": "stream",
     "text": [
      "['__add__', '__class__', '__class_getitem__', '__contains__', '__delattr__', '__delitem__', '__dir__', '__doc__', '__eq__', '__format__', '__ge__', '__getattribute__', '__getitem__', '__gt__', '__hash__', '__iadd__', '__imul__', '__init__', '__init_subclass__', '__iter__', '__le__', '__len__', '__lt__', '__mul__', '__ne__', '__new__', '__reduce__', '__reduce_ex__', '__repr__', '__reversed__', '__rmul__', '__setattr__', '__setitem__', '__sizeof__', '__str__', '__subclasshook__', 'append', 'clear', 'copy', 'count', 'extend', 'index', 'insert', 'pop', 'remove', 'reverse', 'sort']\n"
     ]
    }
   ],
   "source": [
    "########################################\n",
    "# exercise: display attributes and functions of a list object\n",
    "print(dir(shopping_list))"
   ]
  },
  {
   "cell_type": "markdown",
   "id": "597b55c9",
   "metadata": {},
   "source": [
    "key operations of a list object\n",
    "- append/insert/pop\n",
    "- remove\n",
    "- extend\n",
    "- count/sort/etc.\n",
    "- join"
   ]
  },
  {
   "cell_type": "code",
   "execution_count": 27,
   "id": "9fab08c2",
   "metadata": {},
   "outputs": [
    {
     "name": "stdout",
     "output_type": "stream",
     "text": [
      "['rice', 'olive oil', 'broccoli', 'apple', 'orange', 'salt']\n"
     ]
    }
   ],
   "source": [
    "########################################\n",
    "# exercise: append an element\n",
    "shopping_list.append('salt')\n",
    "print(shopping_list)"
   ]
  },
  {
   "cell_type": "code",
   "execution_count": 28,
   "id": "5bd90b91",
   "metadata": {},
   "outputs": [
    {
     "name": "stdout",
     "output_type": "stream",
     "text": [
      "Help on built-in function insert:\n",
      "\n",
      "insert(index, object, /) method of builtins.list instance\n",
      "    Insert object before index.\n",
      "\n"
     ]
    }
   ],
   "source": [
    "help(shopping_list.insert)"
   ]
  },
  {
   "cell_type": "code",
   "execution_count": 29,
   "id": "681030cb",
   "metadata": {},
   "outputs": [
    {
     "name": "stdout",
     "output_type": "stream",
     "text": [
      "['rice', 'olive oil', 'sugar', 'broccoli', 'apple', 'orange', 'salt']\n"
     ]
    }
   ],
   "source": [
    "########################################\n",
    "# exercise: insert an element\n",
    "shopping_list.insert(2, 'sugar')\n",
    "print(shopping_list)"
   ]
  },
  {
   "cell_type": "code",
   "execution_count": 30,
   "id": "41d72767",
   "metadata": {},
   "outputs": [
    {
     "name": "stdout",
     "output_type": "stream",
     "text": [
      "['rice', 'olive oil', 'salt', 'sugar', 'broccoli', 'apple', 'orange', 'salt']\n"
     ]
    }
   ],
   "source": [
    "########################################\n",
    "# exercise: insert an element\n",
    "shopping_list.insert(2, 'salt')\n",
    "print(shopping_list)"
   ]
  },
  {
   "cell_type": "code",
   "execution_count": 31,
   "id": "2ef0534d",
   "metadata": {},
   "outputs": [
    {
     "name": "stdout",
     "output_type": "stream",
     "text": [
      "['rice', 'olive oil', 'sugar', 'broccoli', 'apple', 'orange', 'salt']\n"
     ]
    }
   ],
   "source": [
    "########################################\n",
    "# exercise: remove an element\n",
    "# what is the output?\n",
    "shopping_list.remove('salt')\n",
    "print(shopping_list)"
   ]
  },
  {
   "cell_type": "code",
   "execution_count": 32,
   "id": "049dadcc",
   "metadata": {},
   "outputs": [
    {
     "name": "stdout",
     "output_type": "stream",
     "text": [
      "my shopping list is: rice | olive oil | sugar | broccoli | apple | orange | salt\n"
     ]
    }
   ],
   "source": [
    "########################################\n",
    "# exercise: join a list to a string\n",
    "# what is the output?\n",
    "shopping_str = 'my shopping list is: ' + ' | '.join(shopping_list)\n",
    "print(shopping_str)"
   ]
  },
  {
   "cell_type": "code",
   "execution_count": 33,
   "id": "52aec3d8",
   "metadata": {},
   "outputs": [],
   "source": [
    "# in-ram vs copy\n",
    "alias_list = shopping_list\n",
    "another_list = shopping_list.copy()"
   ]
  },
  {
   "cell_type": "code",
   "execution_count": 34,
   "id": "21fdbef3",
   "metadata": {},
   "outputs": [],
   "source": [
    "shopping_list.append('banana')"
   ]
  },
  {
   "cell_type": "code",
   "execution_count": 35,
   "id": "51f2b4d3",
   "metadata": {},
   "outputs": [
    {
     "name": "stdout",
     "output_type": "stream",
     "text": [
      "['rice', 'olive oil', 'sugar', 'broccoli', 'apple', 'orange', 'salt', 'banana']\n"
     ]
    }
   ],
   "source": [
    "########################################\n",
    "# exercise\n",
    "# what is the output?\n",
    "print(shopping_list)"
   ]
  },
  {
   "cell_type": "code",
   "execution_count": 36,
   "id": "182b81a3-5d01-4b5c-85d9-03ce10aaebd3",
   "metadata": {},
   "outputs": [
    {
     "name": "stdout",
     "output_type": "stream",
     "text": [
      "['rice', 'olive oil', 'sugar', 'broccoli', 'apple', 'orange', 'salt', 'banana']\n"
     ]
    }
   ],
   "source": [
    "########################################\n",
    "# exercise\n",
    "# what is the output?\n",
    "print(alias_list)"
   ]
  },
  {
   "cell_type": "code",
   "execution_count": 37,
   "id": "7e1eed39-c361-4e10-a8a8-f3206f292621",
   "metadata": {},
   "outputs": [
    {
     "name": "stdout",
     "output_type": "stream",
     "text": [
      "['rice', 'olive oil', 'sugar', 'broccoli', 'apple', 'orange', 'salt']\n"
     ]
    }
   ],
   "source": [
    "########################################\n",
    "# exercise\n",
    "# what is the output?\n",
    "print(another_list)"
   ]
  },
  {
   "cell_type": "code",
   "execution_count": 38,
   "id": "36ba9475",
   "metadata": {},
   "outputs": [
    {
     "name": "stdout",
     "output_type": "stream",
     "text": [
      "Help on built-in function sort:\n",
      "\n",
      "sort(*, key=None, reverse=False) method of builtins.list instance\n",
      "    Sort the list in ascending order and return None.\n",
      "    \n",
      "    The sort is in-place (i.e. the list itself is modified) and stable (i.e. the\n",
      "    order of two equal elements is maintained).\n",
      "    \n",
      "    If a key function is given, apply it once to each list item and sort them,\n",
      "    ascending or descending, according to their function values.\n",
      "    \n",
      "    The reverse flag can be set to sort in descending order.\n",
      "\n"
     ]
    }
   ],
   "source": [
    "help(shopping_list.sort)"
   ]
  },
  {
   "cell_type": "code",
   "execution_count": 39,
   "id": "543c0d56",
   "metadata": {},
   "outputs": [
    {
     "name": "stdout",
     "output_type": "stream",
     "text": [
      "['apple', 'banana', 'broccoli', 'olive oil', 'orange', 'rice', 'salt', 'sugar']\n"
     ]
    }
   ],
   "source": [
    "########################################\n",
    "# exercise\n",
    "# sort\n",
    "shopping_list.sort()\n",
    "print(shopping_list)"
   ]
  },
  {
   "cell_type": "code",
   "execution_count": 40,
   "id": "b0a2eced",
   "metadata": {},
   "outputs": [
    {
     "name": "stdout",
     "output_type": "stream",
     "text": [
      "[('apple', 8), ('banana', 7), ('broccoli', 6), ('olive oil', 5), ('orange', 4), ('rice', 3), ('salt', 2), ('sugar', 1)]\n"
     ]
    }
   ],
   "source": [
    "########################################\n",
    "# exercise\n",
    "# assign index with zip\n",
    "index_list = list(zip(shopping_list, range(len(shopping_list), 0, -1)))\n",
    "print(index_list)"
   ]
  },
  {
   "cell_type": "code",
   "execution_count": 41,
   "id": "015c37cf-41e0-4a73-867e-c36350fc688b",
   "metadata": {},
   "outputs": [
    {
     "name": "stdout",
     "output_type": "stream",
     "text": [
      "[('apple', 8), ('banana', 7), ('broccoli', 6), ('olive oil', 5), ('orange', 4), ('rice', 3), ('salt', 2), ('sugar', 1)]\n"
     ]
    }
   ],
   "source": [
    "########################################\n",
    "# exercise\n",
    "# sort\n",
    "index_list.sort()\n",
    "print(index_list)"
   ]
  },
  {
   "cell_type": "code",
   "execution_count": 42,
   "id": "1ebd8f52",
   "metadata": {},
   "outputs": [
    {
     "name": "stdout",
     "output_type": "stream",
     "text": [
      "[('sugar', 1), ('salt', 2), ('rice', 3), ('orange', 4), ('olive oil', 5), ('broccoli', 6), ('banana', 7), ('apple', 8)]\n"
     ]
    }
   ],
   "source": [
    "########################################\n",
    "# exercise\n",
    "# sort\n",
    "index_list.sort(key=lambda a: a[1])\n",
    "print(index_list)"
   ]
  },
  {
   "cell_type": "markdown",
   "id": "07c5209a-3324-4c99-aa0d-fcc11e84b6ea",
   "metadata": {},
   "source": [
    "# Q&A"
   ]
  },
  {
   "cell_type": "markdown",
   "id": "bc18e75e-aa3c-4bbf-a2db-f8b1f5bdb2bf",
   "metadata": {},
   "source": [
    "## Flow control\n",
    "\n",
    "`for` loop, `while` loop, `if-elif-else` conditions"
   ]
  },
  {
   "cell_type": "code",
   "execution_count": 43,
   "id": "d77a32b5",
   "metadata": {},
   "outputs": [
    {
     "name": "stdout",
     "output_type": "stream",
     "text": [
      "[ 0.  0.  1.  3.  1.  2.  4.  7.  8.  3.  3.  3. 10.  5.  7.  4.  7.  7.\n",
      " 12. 18.  6. 13. 11. 11.  7.  7.  4.  6.  8.  8.  4.  4.  5.  7.  3.  4.\n",
      "  2.  3.  0.  0.]\n"
     ]
    }
   ],
   "source": [
    "import numpy as np\n",
    "filename = 'python-data/data/inflammation-01.csv'\n",
    "data = np.loadtxt(fname=filename, delimiter=',')\n",
    "row = data[0]\n",
    "print(row)"
   ]
  },
  {
   "cell_type": "code",
   "execution_count": 44,
   "id": "8dcc61a4",
   "metadata": {},
   "outputs": [
    {
     "name": "stdout",
     "output_type": "stream",
     "text": [
      "12.0\n",
      "18.0\n",
      "13.0\n",
      "11.0\n",
      "11.0\n"
     ]
    }
   ],
   "source": [
    "for i in row:\n",
    "    if i > 10:\n",
    "        print(i)"
   ]
  },
  {
   "cell_type": "code",
   "execution_count": 45,
   "id": "6b0082f2",
   "metadata": {},
   "outputs": [
    {
     "name": "stdout",
     "output_type": "stream",
     "text": [
      "[12.0, 18.0, 13.0, 11.0, 11.0]\n"
     ]
    }
   ],
   "source": [
    "large_values = [i for i in row if i > 10]\n",
    "print(large_values)"
   ]
  },
  {
   "cell_type": "code",
   "execution_count": 46,
   "id": "8dd39282",
   "metadata": {},
   "outputs": [
    {
     "name": "stdout",
     "output_type": "stream",
     "text": [
      "[0, 0, 0, 0, 0, 0, 0, 0, 0, 0, 0, 0, 0, 0, 0, 0, 0, 0, 1, 1, 0, 1, 1, 1, 0, 0, 0, 0, 0, 0, 0, 0, 0, 0, 0, 0, 0, 0, 0, 0]\n"
     ]
    }
   ],
   "source": [
    "binarized_values = [1 if i > 10 else 0 for i in row]\n",
    "print(binarized_values)"
   ]
  },
  {
   "cell_type": "code",
   "execution_count": 47,
   "id": "5f23cc27-b41e-498b-9577-36b511533997",
   "metadata": {},
   "outputs": [
    {
     "name": "stdout",
     "output_type": "stream",
     "text": [
      "['T', '__abs__', '__add__', '__and__', '__array__', '__array_finalize__', '__array_function__', '__array_interface__', '__array_prepare__', '__array_priority__', '__array_struct__', '__array_ufunc__', '__array_wrap__', '__bool__', '__class__', '__class_getitem__', '__complex__', '__contains__', '__copy__', '__deepcopy__', '__delattr__', '__delitem__', '__dir__', '__divmod__', '__dlpack__', '__dlpack_device__', '__doc__', '__eq__', '__float__', '__floordiv__', '__format__', '__ge__', '__getattribute__', '__getitem__', '__gt__', '__hash__', '__iadd__', '__iand__', '__ifloordiv__', '__ilshift__', '__imatmul__', '__imod__', '__imul__', '__index__', '__init__', '__init_subclass__', '__int__', '__invert__', '__ior__', '__ipow__', '__irshift__', '__isub__', '__iter__', '__itruediv__', '__ixor__', '__le__', '__len__', '__lshift__', '__lt__', '__matmul__', '__mod__', '__mul__', '__ne__', '__neg__', '__new__', '__or__', '__pos__', '__pow__', '__radd__', '__rand__', '__rdivmod__', '__reduce__', '__reduce_ex__', '__repr__', '__rfloordiv__', '__rlshift__', '__rmatmul__', '__rmod__', '__rmul__', '__ror__', '__rpow__', '__rrshift__', '__rshift__', '__rsub__', '__rtruediv__', '__rxor__', '__setattr__', '__setitem__', '__setstate__', '__sizeof__', '__str__', '__sub__', '__subclasshook__', '__truediv__', '__xor__', 'all', 'any', 'argmax', 'argmin', 'argpartition', 'argsort', 'astype', 'base', 'byteswap', 'choose', 'clip', 'compress', 'conj', 'conjugate', 'copy', 'ctypes', 'cumprod', 'cumsum', 'data', 'diagonal', 'dot', 'dtype', 'dump', 'dumps', 'fill', 'flags', 'flat', 'flatten', 'getfield', 'imag', 'item', 'itemset', 'itemsize', 'max', 'mean', 'min', 'nbytes', 'ndim', 'newbyteorder', 'nonzero', 'partition', 'prod', 'ptp', 'put', 'ravel', 'real', 'repeat', 'reshape', 'resize', 'round', 'searchsorted', 'setfield', 'setflags', 'shape', 'size', 'sort', 'squeeze', 'std', 'strides', 'sum', 'swapaxes', 'take', 'tobytes', 'tofile', 'tolist', 'tostring', 'trace', 'transpose', 'var', 'view']\n"
     ]
    }
   ],
   "source": [
    "print(dir(row))"
   ]
  },
  {
   "cell_type": "code",
   "execution_count": 48,
   "id": "21b8e9e4-2596-41b7-bf67-0d076b09ea30",
   "metadata": {},
   "outputs": [
    {
     "name": "stdout",
     "output_type": "stream",
     "text": [
      "Help on built-in function tolist:\n",
      "\n",
      "tolist(...) method of numpy.ndarray instance\n",
      "    a.tolist()\n",
      "    \n",
      "    Return the array as an ``a.ndim``-levels deep nested list of Python scalars.\n",
      "    \n",
      "    Return a copy of the array data as a (nested) Python list.\n",
      "    Data items are converted to the nearest compatible builtin Python type, via\n",
      "    the `~numpy.ndarray.item` function.\n",
      "    \n",
      "    If ``a.ndim`` is 0, then since the depth of the nested list is 0, it will\n",
      "    not be a list at all, but a simple Python scalar.\n",
      "    \n",
      "    Parameters\n",
      "    ----------\n",
      "    none\n",
      "    \n",
      "    Returns\n",
      "    -------\n",
      "    y : object, or list of object, or list of list of object, or ...\n",
      "        The possibly nested list of array elements.\n",
      "    \n",
      "    Notes\n",
      "    -----\n",
      "    The array may be recreated via ``a = np.array(a.tolist())``, although this\n",
      "    may sometimes lose precision.\n",
      "    \n",
      "    Examples\n",
      "    --------\n",
      "    For a 1D array, ``a.tolist()`` is almost the same as ``list(a)``,\n",
      "    except that ``tolist`` changes numpy scalars to Python scalars:\n",
      "    \n",
      "    >>> a = np.uint32([1, 2])\n",
      "    >>> a_list = list(a)\n",
      "    >>> a_list\n",
      "    [1, 2]\n",
      "    >>> type(a_list[0])\n",
      "    <class 'numpy.uint32'>\n",
      "    >>> a_tolist = a.tolist()\n",
      "    >>> a_tolist\n",
      "    [1, 2]\n",
      "    >>> type(a_tolist[0])\n",
      "    <class 'int'>\n",
      "    \n",
      "    Additionally, for a 2D array, ``tolist`` applies recursively:\n",
      "    \n",
      "    >>> a = np.array([[1, 2], [3, 4]])\n",
      "    >>> list(a)\n",
      "    [array([1, 2]), array([3, 4])]\n",
      "    >>> a.tolist()\n",
      "    [[1, 2], [3, 4]]\n",
      "    \n",
      "    The base case for this recursion is a 0D array:\n",
      "    \n",
      "    >>> a = np.array(1)\n",
      "    >>> list(a)\n",
      "    Traceback (most recent call last):\n",
      "      ...\n",
      "    TypeError: iteration over a 0-d array\n",
      "    >>> a.tolist()\n",
      "    1\n",
      "\n"
     ]
    }
   ],
   "source": [
    "help(row.tolist)"
   ]
  },
  {
   "cell_type": "code",
   "execution_count": 49,
   "id": "2030e00f",
   "metadata": {},
   "outputs": [
    {
     "data": {
      "text/plain": [
       "18"
      ]
     },
     "execution_count": 49,
     "metadata": {},
     "output_type": "execute_result"
    }
   ],
   "source": [
    "row.tolist().index(12.)"
   ]
  },
  {
   "cell_type": "code",
   "execution_count": 50,
   "id": "881240ff",
   "metadata": {},
   "outputs": [
    {
     "data": {
      "text/plain": [
       "18"
      ]
     },
     "execution_count": 50,
     "metadata": {},
     "output_type": "execute_result"
    }
   ],
   "source": [
    "binarized_values.index(1)"
   ]
  },
  {
   "cell_type": "code",
   "execution_count": 51,
   "id": "a6c03ebb",
   "metadata": {},
   "outputs": [
    {
     "name": "stdout",
     "output_type": "stream",
     "text": [
      "26.0 9\n"
     ]
    }
   ],
   "source": [
    "collected = 0\n",
    "index = 0\n",
    "while collected < 20:\n",
    "    collected += row[index]\n",
    "    index += 1\n",
    "print(collected, index)"
   ]
  },
  {
   "cell_type": "code",
   "execution_count": 52,
   "id": "ac1c9ef2-3d46-417e-9605-7795bfb91282",
   "metadata": {},
   "outputs": [
    {
     "name": "stdout",
     "output_type": "stream",
     "text": [
      "[(0, 'T'), (1, '__abs__'), (2, '__add__'), (3, '__and__'), (4, '__array__'), (5, '__array_finalize__'), (6, '__array_function__'), (7, '__array_interface__'), (8, '__array_prepare__'), (9, '__array_priority__'), (10, '__array_struct__'), (11, '__array_ufunc__'), (12, '__array_wrap__'), (13, '__bool__'), (14, '__class__'), (15, '__class_getitem__'), (16, '__complex__'), (17, '__contains__'), (18, '__copy__'), (19, '__deepcopy__'), (20, '__delattr__'), (21, '__delitem__'), (22, '__dir__'), (23, '__divmod__'), (24, '__dlpack__'), (25, '__dlpack_device__'), (26, '__doc__'), (27, '__eq__'), (28, '__float__'), (29, '__floordiv__'), (30, '__format__'), (31, '__ge__'), (32, '__getattribute__'), (33, '__getitem__'), (34, '__gt__'), (35, '__hash__'), (36, '__iadd__'), (37, '__iand__'), (38, '__ifloordiv__'), (39, '__ilshift__'), (40, '__imatmul__'), (41, '__imod__'), (42, '__imul__'), (43, '__index__'), (44, '__init__'), (45, '__init_subclass__'), (46, '__int__'), (47, '__invert__'), (48, '__ior__'), (49, '__ipow__'), (50, '__irshift__'), (51, '__isub__'), (52, '__iter__'), (53, '__itruediv__'), (54, '__ixor__'), (55, '__le__'), (56, '__len__'), (57, '__lshift__'), (58, '__lt__'), (59, '__matmul__'), (60, '__mod__'), (61, '__mul__'), (62, '__ne__'), (63, '__neg__'), (64, '__new__'), (65, '__or__'), (66, '__pos__'), (67, '__pow__'), (68, '__radd__'), (69, '__rand__'), (70, '__rdivmod__'), (71, '__reduce__'), (72, '__reduce_ex__'), (73, '__repr__'), (74, '__rfloordiv__'), (75, '__rlshift__'), (76, '__rmatmul__'), (77, '__rmod__'), (78, '__rmul__'), (79, '__ror__'), (80, '__rpow__'), (81, '__rrshift__'), (82, '__rshift__'), (83, '__rsub__'), (84, '__rtruediv__'), (85, '__rxor__'), (86, '__setattr__'), (87, '__setitem__'), (88, '__setstate__'), (89, '__sizeof__'), (90, '__str__'), (91, '__sub__'), (92, '__subclasshook__'), (93, '__truediv__'), (94, '__xor__'), (95, 'all'), (96, 'any'), (97, 'argmax'), (98, 'argmin'), (99, 'argpartition'), (100, 'argsort'), (101, 'astype'), (102, 'base'), (103, 'byteswap'), (104, 'choose'), (105, 'clip'), (106, 'compress'), (107, 'conj'), (108, 'conjugate'), (109, 'copy'), (110, 'ctypes'), (111, 'cumprod'), (112, 'cumsum'), (113, 'data'), (114, 'diagonal'), (115, 'dot'), (116, 'dtype'), (117, 'dump'), (118, 'dumps'), (119, 'fill'), (120, 'flags'), (121, 'flat'), (122, 'flatten'), (123, 'getfield'), (124, 'imag'), (125, 'item'), (126, 'itemset'), (127, 'itemsize'), (128, 'max'), (129, 'mean'), (130, 'min'), (131, 'nbytes'), (132, 'ndim'), (133, 'newbyteorder'), (134, 'nonzero'), (135, 'partition'), (136, 'prod'), (137, 'ptp'), (138, 'put'), (139, 'ravel'), (140, 'real'), (141, 'repeat'), (142, 'reshape'), (143, 'resize'), (144, 'round'), (145, 'searchsorted'), (146, 'setfield'), (147, 'setflags'), (148, 'shape'), (149, 'size'), (150, 'sort'), (151, 'squeeze'), (152, 'std'), (153, 'strides'), (154, 'sum'), (155, 'swapaxes'), (156, 'take'), (157, 'tobytes'), (158, 'tofile'), (159, 'tolist'), (160, 'tostring'), (161, 'trace'), (162, 'transpose'), (163, 'var'), (164, 'view')]\n"
     ]
    }
   ],
   "source": [
    "add_index_to_function = [(i,name) for i,name in enumerate(dir(row))]\n",
    "print(add_index_to_function)"
   ]
  },
  {
   "cell_type": "markdown",
   "id": "a834e672-4d4a-41d1-b6f7-bd818fb3650c",
   "metadata": {},
   "source": [
    "# Q&A"
   ]
  },
  {
   "cell_type": "markdown",
   "id": "94639b58-8b79-423c-a25d-1297eecb33ec",
   "metadata": {},
   "source": [
    "## Analyze the data"
   ]
  },
  {
   "cell_type": "code",
   "execution_count": 53,
   "id": "a9b3000c-3284-4a7c-a388-62a3c2074a2c",
   "metadata": {},
   "outputs": [
    {
     "name": "stdout",
     "output_type": "stream",
     "text": [
      "inflammation-01.csv inflammation-05.csv inflammation-09.csv small-01.csv\n",
      "inflammation-02.csv inflammation-06.csv inflammation-10.csv small-02.csv\n",
      "inflammation-03.csv inflammation-07.csv inflammation-11.csv small-03.csv\n",
      "inflammation-04.csv inflammation-08.csv inflammation-12.csv\n"
     ]
    }
   ],
   "source": [
    "!ls python-data/data"
   ]
  },
  {
   "cell_type": "code",
   "execution_count": 54,
   "id": "9d7b245a-7fef-4721-a3ad-7600645ba3e1",
   "metadata": {},
   "outputs": [],
   "source": [
    "import glob"
   ]
  },
  {
   "cell_type": "code",
   "execution_count": 55,
   "id": "49231e84-7f5a-4d78-83c2-48b6ac85e073",
   "metadata": {},
   "outputs": [
    {
     "name": "stdout",
     "output_type": "stream",
     "text": [
      "['__all__', '__builtins__', '__cached__', '__doc__', '__file__', '__loader__', '__name__', '__package__', '__spec__', '_dir_open_flags', '_glob0', '_glob1', '_glob2', '_iglob', '_isdir', '_ishidden', '_isrecursive', '_iterdir', '_join', '_lexists', '_listdir', '_rlistdir', 'contextlib', 'escape', 'fnmatch', 'glob', 'glob0', 'glob1', 'has_magic', 'iglob', 'itertools', 'magic_check', 'magic_check_bytes', 'os', 're', 'stat', 'sys']\n"
     ]
    }
   ],
   "source": [
    "print(dir(glob))"
   ]
  },
  {
   "cell_type": "code",
   "execution_count": 56,
   "id": "4bddfbe7-229a-464c-88ee-dcec7361cce1",
   "metadata": {},
   "outputs": [
    {
     "name": "stdout",
     "output_type": "stream",
     "text": [
      "Help on function glob in module glob:\n",
      "\n",
      "glob(pathname, *, root_dir=None, dir_fd=None, recursive=False)\n",
      "    Return a list of paths matching a pathname pattern.\n",
      "    \n",
      "    The pattern may contain simple shell-style wildcards a la\n",
      "    fnmatch. However, unlike fnmatch, filenames starting with a\n",
      "    dot are special cases that are not matched by '*' and '?'\n",
      "    patterns.\n",
      "    \n",
      "    If recursive is true, the pattern '**' will match any files and\n",
      "    zero or more directories and subdirectories.\n",
      "\n"
     ]
    }
   ],
   "source": [
    "help(glob.glob)"
   ]
  },
  {
   "cell_type": "code",
   "execution_count": 57,
   "id": "0931b584-a6a4-48bf-90d7-4582dec6c9d7",
   "metadata": {},
   "outputs": [
    {
     "name": "stdout",
     "output_type": "stream",
     "text": [
      "['python-data/data/inflammation-05.csv', 'python-data/data/inflammation-11.csv', 'python-data/data/inflammation-10.csv', 'python-data/data/inflammation-04.csv', 'python-data/data/inflammation-12.csv', 'python-data/data/inflammation-06.csv', 'python-data/data/inflammation-07.csv', 'python-data/data/inflammation-03.csv', 'python-data/data/small-02.csv', 'python-data/data/small-03.csv', 'python-data/data/inflammation-02.csv', 'python-data/data/small-01.csv', 'python-data/data/inflammation-01.csv', 'python-data/data/inflammation-09.csv', 'python-data/data/inflammation-08.csv']\n"
     ]
    }
   ],
   "source": [
    "filelist = glob.glob('python-data/data/*.csv')\n",
    "print(filelist)"
   ]
  },
  {
   "cell_type": "code",
   "execution_count": 58,
   "id": "bd52cada-d1c5-4048-a884-bc262cce34ec",
   "metadata": {},
   "outputs": [
    {
     "name": "stdout",
     "output_type": "stream",
     "text": [
      "['python-data/data/inflammation-01.csv', 'python-data/data/inflammation-02.csv', 'python-data/data/inflammation-03.csv', 'python-data/data/inflammation-04.csv', 'python-data/data/inflammation-05.csv', 'python-data/data/inflammation-06.csv', 'python-data/data/inflammation-07.csv', 'python-data/data/inflammation-08.csv', 'python-data/data/inflammation-09.csv', 'python-data/data/inflammation-10.csv', 'python-data/data/inflammation-11.csv', 'python-data/data/inflammation-12.csv', 'python-data/data/small-01.csv', 'python-data/data/small-02.csv', 'python-data/data/small-03.csv']\n"
     ]
    }
   ],
   "source": [
    "filelist = glob.glob('python-data/data/*.csv')\n",
    "filelist.sort()\n",
    "print(filelist)"
   ]
  },
  {
   "cell_type": "code",
   "execution_count": 59,
   "id": "676c1f24-3052-4631-91b8-2128493a21ff",
   "metadata": {},
   "outputs": [
    {
     "name": "stdout",
     "output_type": "stream",
     "text": [
      "['python-data/data/inflammation-01.csv', 'python-data/data/inflammation-02.csv', 'python-data/data/inflammation-03.csv', 'python-data/data/inflammation-04.csv', 'python-data/data/inflammation-05.csv', 'python-data/data/inflammation-06.csv', 'python-data/data/inflammation-07.csv', 'python-data/data/inflammation-08.csv', 'python-data/data/inflammation-09.csv', 'python-data/data/inflammation-10.csv', 'python-data/data/inflammation-11.csv', 'python-data/data/inflammation-12.csv']\n"
     ]
    }
   ],
   "source": [
    "filelist = glob.glob('python-data/data/infla*.csv')\n",
    "filelist.sort()\n",
    "print(filelist)"
   ]
  },
  {
   "cell_type": "markdown",
   "id": "0a733ad0-906a-4efb-9c73-43305522e8d3",
   "metadata": {},
   "source": [
    "[create subplots with matplotlib](https://matplotlib.org/stable/gallery/subplots_axes_and_figures/subplots_demo.html)"
   ]
  },
  {
   "cell_type": "code",
   "execution_count": 60,
   "id": "44db4943-41b1-4425-96ef-de7e4b186d43",
   "metadata": {},
   "outputs": [],
   "source": [
    "import pandas as pd"
   ]
  },
  {
   "cell_type": "code",
   "execution_count": 61,
   "id": "1cfff9ba-4d7d-4a18-a24a-4556885d1075",
   "metadata": {},
   "outputs": [
    {
     "name": "stdout",
     "output_type": "stream",
     "text": [
      "Help on function read_csv in module pandas.io.parsers.readers:\n",
      "\n",
      "read_csv(filepath_or_buffer: 'FilePath | ReadCsvBuffer[bytes] | ReadCsvBuffer[str]', *, sep: 'str | None | lib.NoDefault' = <no_default>, delimiter: 'str | None | lib.NoDefault' = None, header: \"int | Sequence[int] | None | Literal['infer']\" = 'infer', names: 'Sequence[Hashable] | None | lib.NoDefault' = <no_default>, index_col: 'IndexLabel | Literal[False] | None' = None, usecols=None, dtype: 'DtypeArg | None' = None, engine: 'CSVEngine | None' = None, converters=None, true_values=None, false_values=None, skipinitialspace: 'bool' = False, skiprows=None, skipfooter: 'int' = 0, nrows: 'int | None' = None, na_values=None, keep_default_na: 'bool' = True, na_filter: 'bool' = True, verbose: 'bool' = False, skip_blank_lines: 'bool' = True, parse_dates: 'bool | Sequence[Hashable] | None' = None, infer_datetime_format: 'bool | lib.NoDefault' = <no_default>, keep_date_col: 'bool' = False, date_parser=<no_default>, date_format: 'str | None' = None, dayfirst: 'bool' = False, cache_dates: 'bool' = True, iterator: 'bool' = False, chunksize: 'int | None' = None, compression: 'CompressionOptions' = 'infer', thousands: 'str | None' = None, decimal: 'str' = '.', lineterminator: 'str | None' = None, quotechar: 'str' = '\"', quoting: 'int' = 0, doublequote: 'bool' = True, escapechar: 'str | None' = None, comment: 'str | None' = None, encoding: 'str | None' = None, encoding_errors: 'str | None' = 'strict', dialect: 'str | csv.Dialect | None' = None, on_bad_lines: 'str' = 'error', delim_whitespace: 'bool' = False, low_memory=True, memory_map: 'bool' = False, float_precision: \"Literal['high', 'legacy'] | None\" = None, storage_options: 'StorageOptions' = None, dtype_backend: 'DtypeBackend | lib.NoDefault' = <no_default>) -> 'DataFrame | TextFileReader'\n",
      "    Read a comma-separated values (csv) file into DataFrame.\n",
      "    \n",
      "    Also supports optionally iterating or breaking of the file\n",
      "    into chunks.\n",
      "    \n",
      "    Additional help can be found in the online docs for\n",
      "    `IO Tools <https://pandas.pydata.org/pandas-docs/stable/user_guide/io.html>`_.\n",
      "    \n",
      "    Parameters\n",
      "    ----------\n",
      "    filepath_or_buffer : str, path object or file-like object\n",
      "        Any valid string path is acceptable. The string could be a URL. Valid\n",
      "        URL schemes include http, ftp, s3, gs, and file. For file URLs, a host is\n",
      "        expected. A local file could be: file://localhost/path/to/table.csv.\n",
      "    \n",
      "        If you want to pass in a path object, pandas accepts any ``os.PathLike``.\n",
      "    \n",
      "        By file-like object, we refer to objects with a ``read()`` method, such as\n",
      "        a file handle (e.g. via builtin ``open`` function) or ``StringIO``.\n",
      "    sep : str, default ','\n",
      "        Delimiter to use. If sep is None, the C engine cannot automatically detect\n",
      "        the separator, but the Python parsing engine can, meaning the latter will\n",
      "        be used and automatically detect the separator by Python's builtin sniffer\n",
      "        tool, ``csv.Sniffer``. In addition, separators longer than 1 character and\n",
      "        different from ``'\\s+'`` will be interpreted as regular expressions and\n",
      "        will also force the use of the Python parsing engine. Note that regex\n",
      "        delimiters are prone to ignoring quoted data. Regex example: ``'\\r\\t'``.\n",
      "    delimiter : str, default ``None``\n",
      "        Alias for sep.\n",
      "    header : int, list of int, None, default 'infer'\n",
      "        Row number(s) to use as the column names, and the start of the\n",
      "        data.  Default behavior is to infer the column names: if no names\n",
      "        are passed the behavior is identical to ``header=0`` and column\n",
      "        names are inferred from the first line of the file, if column\n",
      "        names are passed explicitly then the behavior is identical to\n",
      "        ``header=None``. Explicitly pass ``header=0`` to be able to\n",
      "        replace existing names. The header can be a list of integers that\n",
      "        specify row locations for a multi-index on the columns\n",
      "        e.g. [0,1,3]. Intervening rows that are not specified will be\n",
      "        skipped (e.g. 2 in this example is skipped). Note that this\n",
      "        parameter ignores commented lines and empty lines if\n",
      "        ``skip_blank_lines=True``, so ``header=0`` denotes the first line of\n",
      "        data rather than the first line of the file.\n",
      "    names : array-like, optional\n",
      "        List of column names to use. If the file contains a header row,\n",
      "        then you should explicitly pass ``header=0`` to override the column names.\n",
      "        Duplicates in this list are not allowed.\n",
      "    index_col : int, str, sequence of int / str, or False, optional, default ``None``\n",
      "      Column(s) to use as the row labels of the ``DataFrame``, either given as\n",
      "      string name or column index. If a sequence of int / str is given, a\n",
      "      MultiIndex is used.\n",
      "    \n",
      "      Note: ``index_col=False`` can be used to force pandas to *not* use the first\n",
      "      column as the index, e.g. when you have a malformed file with delimiters at\n",
      "      the end of each line.\n",
      "    usecols : list-like or callable, optional\n",
      "        Return a subset of the columns. If list-like, all elements must either\n",
      "        be positional (i.e. integer indices into the document columns) or strings\n",
      "        that correspond to column names provided either by the user in `names` or\n",
      "        inferred from the document header row(s). If ``names`` are given, the document\n",
      "        header row(s) are not taken into account. For example, a valid list-like\n",
      "        `usecols` parameter would be ``[0, 1, 2]`` or ``['foo', 'bar', 'baz']``.\n",
      "        Element order is ignored, so ``usecols=[0, 1]`` is the same as ``[1, 0]``.\n",
      "        To instantiate a DataFrame from ``data`` with element order preserved use\n",
      "        ``pd.read_csv(data, usecols=['foo', 'bar'])[['foo', 'bar']]`` for columns\n",
      "        in ``['foo', 'bar']`` order or\n",
      "        ``pd.read_csv(data, usecols=['foo', 'bar'])[['bar', 'foo']]``\n",
      "        for ``['bar', 'foo']`` order.\n",
      "    \n",
      "        If callable, the callable function will be evaluated against the column\n",
      "        names, returning names where the callable function evaluates to True. An\n",
      "        example of a valid callable argument would be ``lambda x: x.upper() in\n",
      "        ['AAA', 'BBB', 'DDD']``. Using this parameter results in much faster\n",
      "        parsing time and lower memory usage.\n",
      "    dtype : Type name or dict of column -> type, optional\n",
      "        Data type for data or columns. E.g. {'a': np.float64, 'b': np.int32,\n",
      "        'c': 'Int64'}\n",
      "        Use `str` or `object` together with suitable `na_values` settings\n",
      "        to preserve and not interpret dtype.\n",
      "        If converters are specified, they will be applied INSTEAD\n",
      "        of dtype conversion.\n",
      "    \n",
      "        .. versionadded:: 1.5.0\n",
      "    \n",
      "            Support for defaultdict was added. Specify a defaultdict as input where\n",
      "            the default determines the dtype of the columns which are not explicitly\n",
      "            listed.\n",
      "    engine : {'c', 'python', 'pyarrow'}, optional\n",
      "        Parser engine to use. The C and pyarrow engines are faster, while the python engine\n",
      "        is currently more feature-complete. Multithreading is currently only supported by\n",
      "        the pyarrow engine.\n",
      "    \n",
      "        .. versionadded:: 1.4.0\n",
      "    \n",
      "            The \"pyarrow\" engine was added as an *experimental* engine, and some features\n",
      "            are unsupported, or may not work correctly, with this engine.\n",
      "    converters : dict, optional\n",
      "        Dict of functions for converting values in certain columns. Keys can either\n",
      "        be integers or column labels.\n",
      "    true_values : list, optional\n",
      "        Values to consider as True in addition to case-insensitive variants of \"True\".\n",
      "    false_values : list, optional\n",
      "        Values to consider as False in addition to case-insensitive variants of \"False\".\n",
      "    skipinitialspace : bool, default False\n",
      "        Skip spaces after delimiter.\n",
      "    skiprows : list-like, int or callable, optional\n",
      "        Line numbers to skip (0-indexed) or number of lines to skip (int)\n",
      "        at the start of the file.\n",
      "    \n",
      "        If callable, the callable function will be evaluated against the row\n",
      "        indices, returning True if the row should be skipped and False otherwise.\n",
      "        An example of a valid callable argument would be ``lambda x: x in [0, 2]``.\n",
      "    skipfooter : int, default 0\n",
      "        Number of lines at bottom of file to skip (Unsupported with engine='c').\n",
      "    nrows : int, optional\n",
      "        Number of rows of file to read. Useful for reading pieces of large files.\n",
      "    na_values : scalar, str, list-like, or dict, optional\n",
      "        Additional strings to recognize as NA/NaN. If dict passed, specific\n",
      "        per-column NA values.  By default the following values are interpreted as\n",
      "        NaN: '', '#N/A', '#N/A N/A', '#NA', '-1.#IND', '-1.#QNAN', '-NaN', '-nan',\n",
      "        '1.#IND', '1.#QNAN', '<NA>', 'N/A', 'NA', 'NULL', 'NaN', 'None',\n",
      "        'n/a', 'nan', 'null'.\n",
      "    keep_default_na : bool, default True\n",
      "        Whether or not to include the default NaN values when parsing the data.\n",
      "        Depending on whether `na_values` is passed in, the behavior is as follows:\n",
      "    \n",
      "        * If `keep_default_na` is True, and `na_values` are specified, `na_values`\n",
      "          is appended to the default NaN values used for parsing.\n",
      "        * If `keep_default_na` is True, and `na_values` are not specified, only\n",
      "          the default NaN values are used for parsing.\n",
      "        * If `keep_default_na` is False, and `na_values` are specified, only\n",
      "          the NaN values specified `na_values` are used for parsing.\n",
      "        * If `keep_default_na` is False, and `na_values` are not specified, no\n",
      "          strings will be parsed as NaN.\n",
      "    \n",
      "        Note that if `na_filter` is passed in as False, the `keep_default_na` and\n",
      "        `na_values` parameters will be ignored.\n",
      "    na_filter : bool, default True\n",
      "        Detect missing value markers (empty strings and the value of na_values). In\n",
      "        data without any NAs, passing na_filter=False can improve the performance\n",
      "        of reading a large file.\n",
      "    verbose : bool, default False\n",
      "        Indicate number of NA values placed in non-numeric columns.\n",
      "    skip_blank_lines : bool, default True\n",
      "        If True, skip over blank lines rather than interpreting as NaN values.\n",
      "    parse_dates : bool or list of int or names or list of lists or dict, default False\n",
      "        The behavior is as follows:\n",
      "    \n",
      "        * boolean. If True -> try parsing the index.\n",
      "        * list of int or names. e.g. If [1, 2, 3] -> try parsing columns 1, 2, 3\n",
      "          each as a separate date column.\n",
      "        * list of lists. e.g.  If [[1, 3]] -> combine columns 1 and 3 and parse as\n",
      "          a single date column.\n",
      "        * dict, e.g. {'foo' : [1, 3]} -> parse columns 1, 3 as date and call\n",
      "          result 'foo'\n",
      "    \n",
      "        If a column or index cannot be represented as an array of datetimes,\n",
      "        say because of an unparsable value or a mixture of timezones, the column\n",
      "        or index will be returned unaltered as an object data type. For\n",
      "        non-standard datetime parsing, use ``pd.to_datetime`` after\n",
      "        ``pd.read_csv``.\n",
      "    \n",
      "        Note: A fast-path exists for iso8601-formatted dates.\n",
      "    infer_datetime_format : bool, default False\n",
      "        If True and `parse_dates` is enabled, pandas will attempt to infer the\n",
      "        format of the datetime strings in the columns, and if it can be inferred,\n",
      "        switch to a faster method of parsing them. In some cases this can increase\n",
      "        the parsing speed by 5-10x.\n",
      "    \n",
      "        .. deprecated:: 2.0.0\n",
      "            A strict version of this argument is now the default, passing it has no effect.\n",
      "    \n",
      "    keep_date_col : bool, default False\n",
      "        If True and `parse_dates` specifies combining multiple columns then\n",
      "        keep the original columns.\n",
      "    date_parser : function, optional\n",
      "        Function to use for converting a sequence of string columns to an array of\n",
      "        datetime instances. The default uses ``dateutil.parser.parser`` to do the\n",
      "        conversion. Pandas will try to call `date_parser` in three different ways,\n",
      "        advancing to the next if an exception occurs: 1) Pass one or more arrays\n",
      "        (as defined by `parse_dates`) as arguments; 2) concatenate (row-wise) the\n",
      "        string values from the columns defined by `parse_dates` into a single array\n",
      "        and pass that; and 3) call `date_parser` once for each row using one or\n",
      "        more strings (corresponding to the columns defined by `parse_dates`) as\n",
      "        arguments.\n",
      "    \n",
      "        .. deprecated:: 2.0.0\n",
      "           Use ``date_format`` instead, or read in as ``object`` and then apply\n",
      "           :func:`to_datetime` as-needed.\n",
      "    date_format : str or dict of column -> format, default ``None``\n",
      "       If used in conjunction with ``parse_dates``, will parse dates according to this\n",
      "       format. For anything more complex,\n",
      "       please read in as ``object`` and then apply :func:`to_datetime` as-needed.\n",
      "    \n",
      "       .. versionadded:: 2.0.0\n",
      "    dayfirst : bool, default False\n",
      "        DD/MM format dates, international and European format.\n",
      "    cache_dates : bool, default True\n",
      "        If True, use a cache of unique, converted dates to apply the datetime\n",
      "        conversion. May produce significant speed-up when parsing duplicate\n",
      "        date strings, especially ones with timezone offsets.\n",
      "    \n",
      "    iterator : bool, default False\n",
      "        Return TextFileReader object for iteration or getting chunks with\n",
      "        ``get_chunk()``.\n",
      "    \n",
      "        .. versionchanged:: 1.2\n",
      "    \n",
      "           ``TextFileReader`` is a context manager.\n",
      "    chunksize : int, optional\n",
      "        Return TextFileReader object for iteration.\n",
      "        See the `IO Tools docs\n",
      "        <https://pandas.pydata.org/pandas-docs/stable/io.html#io-chunking>`_\n",
      "        for more information on ``iterator`` and ``chunksize``.\n",
      "    \n",
      "        .. versionchanged:: 1.2\n",
      "    \n",
      "           ``TextFileReader`` is a context manager.\n",
      "    compression : str or dict, default 'infer'\n",
      "        For on-the-fly decompression of on-disk data. If 'infer' and 'filepath_or_buffer' is\n",
      "        path-like, then detect compression from the following extensions: '.gz',\n",
      "        '.bz2', '.zip', '.xz', '.zst', '.tar', '.tar.gz', '.tar.xz' or '.tar.bz2'\n",
      "        (otherwise no compression).\n",
      "        If using 'zip' or 'tar', the ZIP file must contain only one data file to be read in.\n",
      "        Set to ``None`` for no decompression.\n",
      "        Can also be a dict with key ``'method'`` set\n",
      "        to one of {``'zip'``, ``'gzip'``, ``'bz2'``, ``'zstd'``, ``'tar'``} and other\n",
      "        key-value pairs are forwarded to\n",
      "        ``zipfile.ZipFile``, ``gzip.GzipFile``,\n",
      "        ``bz2.BZ2File``, ``zstandard.ZstdDecompressor`` or\n",
      "        ``tarfile.TarFile``, respectively.\n",
      "        As an example, the following could be passed for Zstandard decompression using a\n",
      "        custom compression dictionary:\n",
      "        ``compression={'method': 'zstd', 'dict_data': my_compression_dict}``.\n",
      "    \n",
      "        .. versionadded:: 1.5.0\n",
      "            Added support for `.tar` files.\n",
      "    \n",
      "        .. versionchanged:: 1.4.0 Zstandard support.\n",
      "    \n",
      "    thousands : str, optional\n",
      "        Thousands separator.\n",
      "    decimal : str, default '.'\n",
      "        Character to recognize as decimal point (e.g. use ',' for European data).\n",
      "    lineterminator : str (length 1), optional\n",
      "        Character to break file into lines. Only valid with C parser.\n",
      "    quotechar : str (length 1), optional\n",
      "        The character used to denote the start and end of a quoted item. Quoted\n",
      "        items can include the delimiter and it will be ignored.\n",
      "    quoting : int or csv.QUOTE_* instance, default 0\n",
      "        Control field quoting behavior per ``csv.QUOTE_*`` constants. Use one of\n",
      "        QUOTE_MINIMAL (0), QUOTE_ALL (1), QUOTE_NONNUMERIC (2) or QUOTE_NONE (3).\n",
      "    doublequote : bool, default ``True``\n",
      "       When quotechar is specified and quoting is not ``QUOTE_NONE``, indicate\n",
      "       whether or not to interpret two consecutive quotechar elements INSIDE a\n",
      "       field as a single ``quotechar`` element.\n",
      "    escapechar : str (length 1), optional\n",
      "        One-character string used to escape other characters.\n",
      "    comment : str, optional\n",
      "        Indicates remainder of line should not be parsed. If found at the beginning\n",
      "        of a line, the line will be ignored altogether. This parameter must be a\n",
      "        single character. Like empty lines (as long as ``skip_blank_lines=True``),\n",
      "        fully commented lines are ignored by the parameter `header` but not by\n",
      "        `skiprows`. For example, if ``comment='#'``, parsing\n",
      "        ``#empty\\na,b,c\\n1,2,3`` with ``header=0`` will result in 'a,b,c' being\n",
      "        treated as the header.\n",
      "    encoding : str, optional, default \"utf-8\"\n",
      "        Encoding to use for UTF when reading/writing (ex. 'utf-8'). `List of Python\n",
      "        standard encodings\n",
      "        <https://docs.python.org/3/library/codecs.html#standard-encodings>`_ .\n",
      "    \n",
      "        .. versionchanged:: 1.2\n",
      "    \n",
      "           When ``encoding`` is ``None``, ``errors=\"replace\"`` is passed to\n",
      "           ``open()``. Otherwise, ``errors=\"strict\"`` is passed to ``open()``.\n",
      "           This behavior was previously only the case for ``engine=\"python\"``.\n",
      "    \n",
      "        .. versionchanged:: 1.3.0\n",
      "    \n",
      "           ``encoding_errors`` is a new argument. ``encoding`` has no longer an\n",
      "           influence on how encoding errors are handled.\n",
      "    \n",
      "    encoding_errors : str, optional, default \"strict\"\n",
      "        How encoding errors are treated. `List of possible values\n",
      "        <https://docs.python.org/3/library/codecs.html#error-handlers>`_ .\n",
      "    \n",
      "        .. versionadded:: 1.3.0\n",
      "    \n",
      "    dialect : str or csv.Dialect, optional\n",
      "        If provided, this parameter will override values (default or not) for the\n",
      "        following parameters: `delimiter`, `doublequote`, `escapechar`,\n",
      "        `skipinitialspace`, `quotechar`, and `quoting`. If it is necessary to\n",
      "        override values, a ParserWarning will be issued. See csv.Dialect\n",
      "        documentation for more details.\n",
      "    on_bad_lines : {'error', 'warn', 'skip'} or callable, default 'error'\n",
      "        Specifies what to do upon encountering a bad line (a line with too many fields).\n",
      "        Allowed values are :\n",
      "    \n",
      "            - 'error', raise an Exception when a bad line is encountered.\n",
      "            - 'warn', raise a warning when a bad line is encountered and skip that line.\n",
      "            - 'skip', skip bad lines without raising or warning when they are encountered.\n",
      "    \n",
      "        .. versionadded:: 1.3.0\n",
      "    \n",
      "        .. versionadded:: 1.4.0\n",
      "    \n",
      "            - callable, function with signature\n",
      "              ``(bad_line: list[str]) -> list[str] | None`` that will process a single\n",
      "              bad line. ``bad_line`` is a list of strings split by the ``sep``.\n",
      "              If the function returns ``None``, the bad line will be ignored.\n",
      "              If the function returns a new list of strings with more elements than\n",
      "              expected, a ``ParserWarning`` will be emitted while dropping extra elements.\n",
      "              Only supported when ``engine=\"python\"``\n",
      "    \n",
      "    delim_whitespace : bool, default False\n",
      "        Specifies whether or not whitespace (e.g. ``' '`` or ``'    '``) will be\n",
      "        used as the sep. Equivalent to setting ``sep='\\s+'``. If this option\n",
      "        is set to True, nothing should be passed in for the ``delimiter``\n",
      "        parameter.\n",
      "    low_memory : bool, default True\n",
      "        Internally process the file in chunks, resulting in lower memory use\n",
      "        while parsing, but possibly mixed type inference.  To ensure no mixed\n",
      "        types either set False, or specify the type with the `dtype` parameter.\n",
      "        Note that the entire file is read into a single DataFrame regardless,\n",
      "        use the `chunksize` or `iterator` parameter to return the data in chunks.\n",
      "        (Only valid with C parser).\n",
      "    memory_map : bool, default False\n",
      "        If a filepath is provided for `filepath_or_buffer`, map the file object\n",
      "        directly onto memory and access the data directly from there. Using this\n",
      "        option can improve performance because there is no longer any I/O overhead.\n",
      "    float_precision : str, optional\n",
      "        Specifies which converter the C engine should use for floating-point\n",
      "        values. The options are ``None`` or 'high' for the ordinary converter,\n",
      "        'legacy' for the original lower precision pandas converter, and\n",
      "        'round_trip' for the round-trip converter.\n",
      "    \n",
      "        .. versionchanged:: 1.2\n",
      "    \n",
      "    storage_options : dict, optional\n",
      "        Extra options that make sense for a particular storage connection, e.g.\n",
      "        host, port, username, password, etc. For HTTP(S) URLs the key-value pairs\n",
      "        are forwarded to ``urllib.request.Request`` as header options. For other\n",
      "        URLs (e.g. starting with \"s3://\", and \"gcs://\") the key-value pairs are\n",
      "        forwarded to ``fsspec.open``. Please see ``fsspec`` and ``urllib`` for more\n",
      "        details, and for more examples on storage options refer `here\n",
      "        <https://pandas.pydata.org/docs/user_guide/io.html?\n",
      "        highlight=storage_options#reading-writing-remote-files>`_.\n",
      "    \n",
      "        .. versionadded:: 1.2\n",
      "    \n",
      "    dtype_backend : {\"numpy_nullable\", \"pyarrow\"}, defaults to NumPy backed DataFrames\n",
      "        Which dtype_backend to use, e.g. whether a DataFrame should have NumPy\n",
      "        arrays, nullable dtypes are used for all dtypes that have a nullable\n",
      "        implementation when \"numpy_nullable\" is set, pyarrow is used for all\n",
      "        dtypes if \"pyarrow\" is set.\n",
      "    \n",
      "        The dtype_backends are still experimential.\n",
      "    \n",
      "        .. versionadded:: 2.0\n",
      "    \n",
      "    Returns\n",
      "    -------\n",
      "    DataFrame or TextFileReader\n",
      "        A comma-separated values (csv) file is returned as two-dimensional\n",
      "        data structure with labeled axes.\n",
      "    \n",
      "    See Also\n",
      "    --------\n",
      "    DataFrame.to_csv : Write DataFrame to a comma-separated values (csv) file.\n",
      "    read_csv : Read a comma-separated values (csv) file into DataFrame.\n",
      "    read_fwf : Read a table of fixed-width formatted lines into DataFrame.\n",
      "    \n",
      "    Examples\n",
      "    --------\n",
      "    >>> pd.read_csv('data.csv')  # doctest: +SKIP\n",
      "\n"
     ]
    }
   ],
   "source": [
    "help(pd.read_csv)"
   ]
  },
  {
   "cell_type": "code",
   "execution_count": 62,
   "id": "6c769337-390a-4b31-9fd6-519c4b61fd05",
   "metadata": {},
   "outputs": [
    {
     "name": "stdout",
     "output_type": "stream",
     "text": [
      "python-data/data/inflammation-01.csv (60, 40)\n",
      "python-data/data/inflammation-02.csv (60, 40)\n",
      "python-data/data/inflammation-03.csv (60, 40)\n",
      "python-data/data/inflammation-04.csv (60, 40)\n",
      "python-data/data/inflammation-05.csv (60, 40)\n",
      "python-data/data/inflammation-06.csv (60, 40)\n",
      "python-data/data/inflammation-07.csv (60, 40)\n",
      "python-data/data/inflammation-08.csv (60, 40)\n",
      "python-data/data/inflammation-09.csv (60, 40)\n",
      "python-data/data/inflammation-10.csv (60, 40)\n",
      "python-data/data/inflammation-11.csv (60, 40)\n",
      "python-data/data/inflammation-12.csv (60, 40)\n"
     ]
    }
   ],
   "source": [
    "data = []\n",
    "for fn in filelist:\n",
    "    df = pd.read_csv(fn, header=None, names=['Feature{:02}'.format(i) for i in range(40)])\n",
    "    data.append(df)\n",
    "    print(fn, df.shape)"
   ]
  },
  {
   "cell_type": "code",
   "execution_count": 63,
   "id": "3250c541-844f-4275-b437-3ccb49995141",
   "metadata": {},
   "outputs": [
    {
     "data": {
      "text/html": [
       "<div>\n",
       "<style scoped>\n",
       "    .dataframe tbody tr th:only-of-type {\n",
       "        vertical-align: middle;\n",
       "    }\n",
       "\n",
       "    .dataframe tbody tr th {\n",
       "        vertical-align: top;\n",
       "    }\n",
       "\n",
       "    .dataframe thead th {\n",
       "        text-align: right;\n",
       "    }\n",
       "</style>\n",
       "<table border=\"1\" class=\"dataframe\">\n",
       "  <thead>\n",
       "    <tr style=\"text-align: right;\">\n",
       "      <th></th>\n",
       "      <th>Feature00</th>\n",
       "      <th>Feature01</th>\n",
       "      <th>Feature02</th>\n",
       "      <th>Feature03</th>\n",
       "      <th>Feature04</th>\n",
       "      <th>Feature05</th>\n",
       "      <th>Feature06</th>\n",
       "      <th>Feature07</th>\n",
       "      <th>Feature08</th>\n",
       "      <th>Feature09</th>\n",
       "      <th>...</th>\n",
       "      <th>Feature30</th>\n",
       "      <th>Feature31</th>\n",
       "      <th>Feature32</th>\n",
       "      <th>Feature33</th>\n",
       "      <th>Feature34</th>\n",
       "      <th>Feature35</th>\n",
       "      <th>Feature36</th>\n",
       "      <th>Feature37</th>\n",
       "      <th>Feature38</th>\n",
       "      <th>Feature39</th>\n",
       "    </tr>\n",
       "  </thead>\n",
       "  <tbody>\n",
       "    <tr>\n",
       "      <th>0</th>\n",
       "      <td>0</td>\n",
       "      <td>0</td>\n",
       "      <td>2</td>\n",
       "      <td>3</td>\n",
       "      <td>3</td>\n",
       "      <td>1</td>\n",
       "      <td>6</td>\n",
       "      <td>6</td>\n",
       "      <td>3</td>\n",
       "      <td>6</td>\n",
       "      <td>...</td>\n",
       "      <td>4</td>\n",
       "      <td>7</td>\n",
       "      <td>7</td>\n",
       "      <td>3</td>\n",
       "      <td>1</td>\n",
       "      <td>5</td>\n",
       "      <td>3</td>\n",
       "      <td>1</td>\n",
       "      <td>1</td>\n",
       "      <td>1</td>\n",
       "    </tr>\n",
       "    <tr>\n",
       "      <th>1</th>\n",
       "      <td>0</td>\n",
       "      <td>1</td>\n",
       "      <td>0</td>\n",
       "      <td>1</td>\n",
       "      <td>1</td>\n",
       "      <td>1</td>\n",
       "      <td>1</td>\n",
       "      <td>1</td>\n",
       "      <td>7</td>\n",
       "      <td>7</td>\n",
       "      <td>...</td>\n",
       "      <td>8</td>\n",
       "      <td>9</td>\n",
       "      <td>4</td>\n",
       "      <td>4</td>\n",
       "      <td>3</td>\n",
       "      <td>4</td>\n",
       "      <td>1</td>\n",
       "      <td>3</td>\n",
       "      <td>0</td>\n",
       "      <td>0</td>\n",
       "    </tr>\n",
       "    <tr>\n",
       "      <th>2</th>\n",
       "      <td>0</td>\n",
       "      <td>1</td>\n",
       "      <td>2</td>\n",
       "      <td>0</td>\n",
       "      <td>4</td>\n",
       "      <td>5</td>\n",
       "      <td>6</td>\n",
       "      <td>2</td>\n",
       "      <td>5</td>\n",
       "      <td>3</td>\n",
       "      <td>...</td>\n",
       "      <td>7</td>\n",
       "      <td>9</td>\n",
       "      <td>4</td>\n",
       "      <td>3</td>\n",
       "      <td>5</td>\n",
       "      <td>5</td>\n",
       "      <td>2</td>\n",
       "      <td>2</td>\n",
       "      <td>2</td>\n",
       "      <td>1</td>\n",
       "    </tr>\n",
       "    <tr>\n",
       "      <th>3</th>\n",
       "      <td>0</td>\n",
       "      <td>0</td>\n",
       "      <td>2</td>\n",
       "      <td>0</td>\n",
       "      <td>3</td>\n",
       "      <td>2</td>\n",
       "      <td>6</td>\n",
       "      <td>7</td>\n",
       "      <td>5</td>\n",
       "      <td>6</td>\n",
       "      <td>...</td>\n",
       "      <td>5</td>\n",
       "      <td>8</td>\n",
       "      <td>4</td>\n",
       "      <td>4</td>\n",
       "      <td>5</td>\n",
       "      <td>4</td>\n",
       "      <td>2</td>\n",
       "      <td>0</td>\n",
       "      <td>2</td>\n",
       "      <td>1</td>\n",
       "    </tr>\n",
       "    <tr>\n",
       "      <th>4</th>\n",
       "      <td>0</td>\n",
       "      <td>1</td>\n",
       "      <td>1</td>\n",
       "      <td>3</td>\n",
       "      <td>3</td>\n",
       "      <td>1</td>\n",
       "      <td>1</td>\n",
       "      <td>3</td>\n",
       "      <td>4</td>\n",
       "      <td>3</td>\n",
       "      <td>...</td>\n",
       "      <td>10</td>\n",
       "      <td>2</td>\n",
       "      <td>6</td>\n",
       "      <td>1</td>\n",
       "      <td>6</td>\n",
       "      <td>4</td>\n",
       "      <td>4</td>\n",
       "      <td>2</td>\n",
       "      <td>0</td>\n",
       "      <td>1</td>\n",
       "    </tr>\n",
       "  </tbody>\n",
       "</table>\n",
       "<p>5 rows × 40 columns</p>\n",
       "</div>"
      ],
      "text/plain": [
       "   Feature00  Feature01  Feature02  Feature03  Feature04  Feature05   \n",
       "0          0          0          2          3          3          1  \\\n",
       "1          0          1          0          1          1          1   \n",
       "2          0          1          2          0          4          5   \n",
       "3          0          0          2          0          3          2   \n",
       "4          0          1          1          3          3          1   \n",
       "\n",
       "   Feature06  Feature07  Feature08  Feature09  ...  Feature30  Feature31   \n",
       "0          6          6          3          6  ...          4          7  \\\n",
       "1          1          1          7          7  ...          8          9   \n",
       "2          6          2          5          3  ...          7          9   \n",
       "3          6          7          5          6  ...          5          8   \n",
       "4          1          3          4          3  ...         10          2   \n",
       "\n",
       "   Feature32  Feature33  Feature34  Feature35  Feature36  Feature37   \n",
       "0          7          3          1          5          3          1  \\\n",
       "1          4          4          3          4          1          3   \n",
       "2          4          3          5          5          2          2   \n",
       "3          4          4          5          4          2          0   \n",
       "4          6          1          6          4          4          2   \n",
       "\n",
       "   Feature38  Feature39  \n",
       "0          1          1  \n",
       "1          0          0  \n",
       "2          2          1  \n",
       "3          2          1  \n",
       "4          0          1  \n",
       "\n",
       "[5 rows x 40 columns]"
      ]
     },
     "execution_count": 63,
     "metadata": {},
     "output_type": "execute_result"
    }
   ],
   "source": [
    "df.head()"
   ]
  },
  {
   "cell_type": "code",
   "execution_count": 64,
   "id": "0813cd79-91e7-4e22-97e9-d0e3def9799a",
   "metadata": {},
   "outputs": [],
   "source": [
    "import matplotlib.pyplot as plt"
   ]
  },
  {
   "cell_type": "code",
   "execution_count": 65,
   "id": "614dc50f-d37f-4253-937e-6a5d9145a9fb",
   "metadata": {},
   "outputs": [
    {
     "name": "stdout",
     "output_type": "stream",
     "text": [
      "Help on function figure in module matplotlib.pyplot:\n",
      "\n",
      "figure(num=None, figsize=None, dpi=None, *, facecolor=None, edgecolor=None, frameon=True, FigureClass=<class 'matplotlib.figure.Figure'>, clear=False, **kwargs)\n",
      "    Create a new figure, or activate an existing figure.\n",
      "    \n",
      "    Parameters\n",
      "    ----------\n",
      "    num : int or str or `.Figure` or `.SubFigure`, optional\n",
      "        A unique identifier for the figure.\n",
      "    \n",
      "        If a figure with that identifier already exists, this figure is made\n",
      "        active and returned. An integer refers to the ``Figure.number``\n",
      "        attribute, a string refers to the figure label.\n",
      "    \n",
      "        If there is no figure with the identifier or *num* is not given, a new\n",
      "        figure is created, made active and returned.  If *num* is an int, it\n",
      "        will be used for the ``Figure.number`` attribute, otherwise, an\n",
      "        auto-generated integer value is used (starting at 1 and incremented\n",
      "        for each new figure). If *num* is a string, the figure label and the\n",
      "        window title is set to this value.  If num is a ``SubFigure``, its\n",
      "        parent ``Figure`` is activated.\n",
      "    \n",
      "    figsize : (float, float), default: :rc:`figure.figsize`\n",
      "        Width, height in inches.\n",
      "    \n",
      "    dpi : float, default: :rc:`figure.dpi`\n",
      "        The resolution of the figure in dots-per-inch.\n",
      "    \n",
      "    facecolor : color, default: :rc:`figure.facecolor`\n",
      "        The background color.\n",
      "    \n",
      "    edgecolor : color, default: :rc:`figure.edgecolor`\n",
      "        The border color.\n",
      "    \n",
      "    frameon : bool, default: True\n",
      "        If False, suppress drawing the figure frame.\n",
      "    \n",
      "    FigureClass : subclass of `~matplotlib.figure.Figure`\n",
      "        If set, an instance of this subclass will be created, rather than a\n",
      "        plain `.Figure`.\n",
      "    \n",
      "    clear : bool, default: False\n",
      "        If True and the figure already exists, then it is cleared.\n",
      "    \n",
      "    layout : {'constrained', 'compressed', 'tight', 'none', `.LayoutEngine`, None}, default: None\n",
      "        The layout mechanism for positioning of plot elements to avoid\n",
      "        overlapping Axes decorations (labels, ticks, etc). Note that layout\n",
      "        managers can measurably slow down figure display.\n",
      "    \n",
      "        - 'constrained': The constrained layout solver adjusts axes sizes\n",
      "          to avoid overlapping axes decorations.  Can handle complex plot\n",
      "          layouts and colorbars, and is thus recommended.\n",
      "    \n",
      "          See :doc:`/tutorials/intermediate/constrainedlayout_guide`\n",
      "          for examples.\n",
      "    \n",
      "        - 'compressed': uses the same algorithm as 'constrained', but\n",
      "          removes extra space between fixed-aspect-ratio Axes.  Best for\n",
      "          simple grids of axes.\n",
      "    \n",
      "        - 'tight': Use the tight layout mechanism. This is a relatively\n",
      "          simple algorithm that adjusts the subplot parameters so that\n",
      "          decorations do not overlap. See `.Figure.set_tight_layout` for\n",
      "          further details.\n",
      "    \n",
      "        - 'none': Do not use a layout engine.\n",
      "    \n",
      "        - A `.LayoutEngine` instance. Builtin layout classes are\n",
      "          `.ConstrainedLayoutEngine` and `.TightLayoutEngine`, more easily\n",
      "          accessible by 'constrained' and 'tight'.  Passing an instance\n",
      "          allows third parties to provide their own layout engine.\n",
      "    \n",
      "        If not given, fall back to using the parameters *tight_layout* and\n",
      "        *constrained_layout*, including their config defaults\n",
      "        :rc:`figure.autolayout` and :rc:`figure.constrained_layout.use`.\n",
      "    \n",
      "    **kwargs\n",
      "        Additional keyword arguments are passed to the `.Figure` constructor.\n",
      "    \n",
      "    Returns\n",
      "    -------\n",
      "    `~matplotlib.figure.Figure`\n",
      "    \n",
      "    Notes\n",
      "    -----\n",
      "    A newly created figure is passed to the `~.FigureCanvasBase.new_manager`\n",
      "    method or the `new_figure_manager` function provided by the current\n",
      "    backend, which install a canvas and a manager on the figure.\n",
      "    \n",
      "    Once this is done, :rc:`figure.hooks` are called, one at a time, on the\n",
      "    figure; these hooks allow arbitrary customization of the figure (e.g.,\n",
      "    attaching callbacks) or of associated elements (e.g., modifying the\n",
      "    toolbar).  See :doc:`/gallery/user_interfaces/mplcvd` for an example of\n",
      "    toolbar customization.\n",
      "    \n",
      "    If you are creating many figures, make sure you explicitly call\n",
      "    `.pyplot.close` on the figures you are not using, because this will\n",
      "    enable pyplot to properly clean up the memory.\n",
      "    \n",
      "    `~matplotlib.rcParams` defines the default values, which can be modified\n",
      "    in the matplotlibrc file.\n",
      "\n"
     ]
    }
   ],
   "source": [
    "help(plt.figure)"
   ]
  },
  {
   "cell_type": "code",
   "execution_count": 66,
   "id": "07d174b9-10ba-4a15-be78-079a2fc5f3e9",
   "metadata": {},
   "outputs": [
    {
     "data": {
      "image/png": "[encoded data removed]",
      "text/plain": [
       "<Figure size 1000x1000 with 9 Axes>"
      ]
     },
     "metadata": {},
     "output_type": "display_data"
    }
   ],
   "source": [
    "\n",
    "\n",
    "fig = plt.figure(figsize=(10,10))\n",
    "nsize = 3\n",
    "gs = fig.add_gridspec(nsize, nsize, hspace=0.2, wspace=0.2)\n",
    "axs = gs.subplots(sharex=True, sharey=True)\n",
    "plt_types = ['mean', 'min', 'max']\n",
    "colors = ['blue', 'green', 'red']\n",
    "\n",
    "for i,row in enumerate(axs):\n",
    "    for ii,cell in enumerate(row):\n",
    "        line = data[i]\n",
    "        if ii == 0:\n",
    "            line = line.mean()\n",
    "        elif ii == 1:\n",
    "            line = line.min()\n",
    "        else:\n",
    "            line = line.max()\n",
    "        cell.plot(range(40), line, colors[ii])\n",
    "        cell.set_title(str(i) + ' ' + plt_types[ii])\n",
    "\n",
    "for ax in axs.flat:\n",
    "    ax.set(xlabel='Features', ylabel='Values')\n",
    "\n",
    "plt.show()"
   ]
  },
  {
   "cell_type": "code",
   "execution_count": 67,
   "id": "1b2337ab-6f1e-4551-8b12-4076617edac3",
   "metadata": {},
   "outputs": [
    {
     "name": "stdout",
     "output_type": "stream",
     "text": [
      "Help on method add_gridspec in module matplotlib.figure:\n",
      "\n",
      "add_gridspec(nrows=1, ncols=1, **kwargs) method of matplotlib.figure.Figure instance\n",
      "    Return a `.GridSpec` that has this figure as a parent.  This allows\n",
      "    complex layout of Axes in the figure.\n",
      "    \n",
      "    Parameters\n",
      "    ----------\n",
      "    nrows : int, default: 1\n",
      "        Number of rows in grid.\n",
      "    \n",
      "    ncols : int, default: 1\n",
      "        Number of columns in grid.\n",
      "    \n",
      "    Returns\n",
      "    -------\n",
      "    `.GridSpec`\n",
      "    \n",
      "    Other Parameters\n",
      "    ----------------\n",
      "    **kwargs\n",
      "        Keyword arguments are passed to `.GridSpec`.\n",
      "    \n",
      "    See Also\n",
      "    --------\n",
      "    matplotlib.pyplot.subplots\n",
      "    \n",
      "    Examples\n",
      "    --------\n",
      "    Adding a subplot that spans two rows::\n",
      "    \n",
      "        fig = plt.figure()\n",
      "        gs = fig.add_gridspec(2, 2)\n",
      "        ax1 = fig.add_subplot(gs[0, 0])\n",
      "        ax2 = fig.add_subplot(gs[1, 0])\n",
      "        # spans two rows:\n",
      "        ax3 = fig.add_subplot(gs[:, 1])\n",
      "\n"
     ]
    }
   ],
   "source": [
    "help(fig.add_gridspec)"
   ]
  },
  {
   "cell_type": "code",
   "execution_count": 68,
   "id": "61d98d11-d999-4d6f-8ab2-586bc0146611",
   "metadata": {},
   "outputs": [
    {
     "name": "stdout",
     "output_type": "stream",
     "text": [
      "Help on class GridSpec in module matplotlib.gridspec:\n",
      "\n",
      "class GridSpec(GridSpecBase)\n",
      " |  GridSpec(nrows, ncols, figure=None, left=None, bottom=None, right=None, top=None, wspace=None, hspace=None, width_ratios=None, height_ratios=None)\n",
      " |  \n",
      " |  A grid layout to place subplots within a figure.\n",
      " |  \n",
      " |  The location of the grid cells is determined in a similar way to\n",
      " |  `~.figure.SubplotParams` using *left*, *right*, *top*, *bottom*, *wspace*\n",
      " |  and *hspace*.\n",
      " |  \n",
      " |  Indexing a GridSpec instance returns a `.SubplotSpec`.\n",
      " |  \n",
      " |  Method resolution order:\n",
      " |      GridSpec\n",
      " |      GridSpecBase\n",
      " |      builtins.object\n",
      " |  \n",
      " |  Methods defined here:\n",
      " |  \n",
      " |  __init__(self, nrows, ncols, figure=None, left=None, bottom=None, right=None, top=None, wspace=None, hspace=None, width_ratios=None, height_ratios=None)\n",
      " |      Parameters\n",
      " |      ----------\n",
      " |      nrows, ncols : int\n",
      " |          The number of rows and columns of the grid.\n",
      " |      \n",
      " |      figure : `.Figure`, optional\n",
      " |          Only used for constrained layout to create a proper layoutgrid.\n",
      " |      \n",
      " |      left, right, top, bottom : float, optional\n",
      " |          Extent of the subplots as a fraction of figure width or height.\n",
      " |          Left cannot be larger than right, and bottom cannot be larger than\n",
      " |          top. If not given, the values will be inferred from a figure or\n",
      " |          rcParams at draw time. See also `GridSpec.get_subplot_params`.\n",
      " |      \n",
      " |      wspace : float, optional\n",
      " |          The amount of width reserved for space between subplots,\n",
      " |          expressed as a fraction of the average axis width.\n",
      " |          If not given, the values will be inferred from a figure or\n",
      " |          rcParams when necessary. See also `GridSpec.get_subplot_params`.\n",
      " |      \n",
      " |      hspace : float, optional\n",
      " |          The amount of height reserved for space between subplots,\n",
      " |          expressed as a fraction of the average axis height.\n",
      " |          If not given, the values will be inferred from a figure or\n",
      " |          rcParams when necessary. See also `GridSpec.get_subplot_params`.\n",
      " |      \n",
      " |      width_ratios : array-like of length *ncols*, optional\n",
      " |          Defines the relative widths of the columns. Each column gets a\n",
      " |          relative width of ``width_ratios[i] / sum(width_ratios)``.\n",
      " |          If not given, all columns will have the same width.\n",
      " |      \n",
      " |      height_ratios : array-like of length *nrows*, optional\n",
      " |          Defines the relative heights of the rows. Each row gets a\n",
      " |          relative height of ``height_ratios[i] / sum(height_ratios)``.\n",
      " |          If not given, all rows will have the same height.\n",
      " |  \n",
      " |  get_subplot_params(self, figure=None)\n",
      " |      Return the `.SubplotParams` for the GridSpec.\n",
      " |      \n",
      " |      In order of precedence the values are taken from\n",
      " |      \n",
      " |      - non-*None* attributes of the GridSpec\n",
      " |      - the provided *figure*\n",
      " |      - :rc:`figure.subplot.*`\n",
      " |  \n",
      " |  locally_modified_subplot_params(self)\n",
      " |      Return a list of the names of the subplot parameters explicitly set\n",
      " |      in the GridSpec.\n",
      " |      \n",
      " |      This is a subset of the attributes of `.SubplotParams`.\n",
      " |  \n",
      " |  tight_layout(self, figure, renderer=None, pad=1.08, h_pad=None, w_pad=None, rect=None)\n",
      " |      Adjust subplot parameters to give specified padding.\n",
      " |      \n",
      " |      Parameters\n",
      " |      ----------\n",
      " |      figure : `.Figure`\n",
      " |          The figure.\n",
      " |      renderer :  `.RendererBase` subclass, optional\n",
      " |          The renderer to be used.\n",
      " |      pad : float\n",
      " |          Padding between the figure edge and the edges of subplots, as a\n",
      " |          fraction of the font-size.\n",
      " |      h_pad, w_pad : float, optional\n",
      " |          Padding (height/width) between edges of adjacent subplots.\n",
      " |          Defaults to *pad*.\n",
      " |      rect : tuple (left, bottom, right, top), default: None\n",
      " |          (left, bottom, right, top) rectangle in normalized figure\n",
      " |          coordinates that the whole subplots area (including labels) will\n",
      " |          fit into. Default (None) is the whole figure.\n",
      " |  \n",
      " |  update(self, **kwargs)\n",
      " |      Update the subplot parameters of the grid.\n",
      " |      \n",
      " |      Parameters that are not explicitly given are not changed. Setting a\n",
      " |      parameter to *None* resets it to :rc:`figure.subplot.*`.\n",
      " |      \n",
      " |      Parameters\n",
      " |      ----------\n",
      " |      left, right, top, bottom : float or None, optional\n",
      " |          Extent of the subplots as a fraction of figure width or height.\n",
      " |      wspace, hspace : float, optional\n",
      " |          Spacing between the subplots as a fraction of the average subplot\n",
      " |          width / height.\n",
      " |  \n",
      " |  ----------------------------------------------------------------------\n",
      " |  Methods inherited from GridSpecBase:\n",
      " |  \n",
      " |  __getitem__(self, key)\n",
      " |      Create and return a `.SubplotSpec` instance.\n",
      " |  \n",
      " |  __repr__(self)\n",
      " |      Return repr(self).\n",
      " |  \n",
      " |  get_geometry(self)\n",
      " |      Return a tuple containing the number of rows and columns in the grid.\n",
      " |  \n",
      " |  get_grid_positions(self, fig, raw=<deprecated parameter>)\n",
      " |      Return the positions of the grid cells in figure coordinates.\n",
      " |      \n",
      " |      Parameters\n",
      " |      ----------\n",
      " |      fig : `~matplotlib.figure.Figure`\n",
      " |          The figure the grid should be applied to. The subplot parameters\n",
      " |          (margins and spacing between subplots) are taken from *fig*.\n",
      " |      raw : bool, default: False\n",
      " |          If *True*, the subplot parameters of the figure are not taken\n",
      " |          into account. The grid spans the range [0, 1] in both directions\n",
      " |          without margins and there is no space between grid cells. This is\n",
      " |          used for constrained_layout.\n",
      " |      \n",
      " |      Returns\n",
      " |      -------\n",
      " |      bottoms, tops, lefts, rights : array\n",
      " |          The bottom, top, left, right positions of the grid cells in\n",
      " |          figure coordinates.\n",
      " |  \n",
      " |  get_height_ratios(self)\n",
      " |      Return the height ratios.\n",
      " |      \n",
      " |      This is *None* if no height ratios have been set explicitly.\n",
      " |  \n",
      " |  get_width_ratios(self)\n",
      " |      Return the width ratios.\n",
      " |      \n",
      " |      This is *None* if no width ratios have been set explicitly.\n",
      " |  \n",
      " |  new_subplotspec(self, loc, rowspan=1, colspan=1)\n",
      " |      Create and return a `.SubplotSpec` instance.\n",
      " |      \n",
      " |      Parameters\n",
      " |      ----------\n",
      " |      loc : (int, int)\n",
      " |          The position of the subplot in the grid as\n",
      " |          ``(row_index, column_index)``.\n",
      " |      rowspan, colspan : int, default: 1\n",
      " |          The number of rows and columns the subplot should span in the grid.\n",
      " |  \n",
      " |  set_height_ratios(self, height_ratios)\n",
      " |      Set the relative heights of the rows.\n",
      " |      \n",
      " |      *height_ratios* must be of length *nrows*. Each row gets a relative\n",
      " |      height of ``height_ratios[i] / sum(height_ratios)``.\n",
      " |  \n",
      " |  set_width_ratios(self, width_ratios)\n",
      " |      Set the relative widths of the columns.\n",
      " |      \n",
      " |      *width_ratios* must be of length *ncols*. Each column gets a relative\n",
      " |      width of ``width_ratios[i] / sum(width_ratios)``.\n",
      " |  \n",
      " |  subplots(self, *, sharex=False, sharey=False, squeeze=True, subplot_kw=None)\n",
      " |      Add all subplots specified by this `GridSpec` to its parent figure.\n",
      " |      \n",
      " |      See `.Figure.subplots` for detailed documentation.\n",
      " |  \n",
      " |  ----------------------------------------------------------------------\n",
      " |  Readonly properties inherited from GridSpecBase:\n",
      " |  \n",
      " |  ncols\n",
      " |      The number of columns in the grid.\n",
      " |  \n",
      " |  nrows\n",
      " |      The number of rows in the grid.\n",
      " |  \n",
      " |  ----------------------------------------------------------------------\n",
      " |  Data descriptors inherited from GridSpecBase:\n",
      " |  \n",
      " |  __dict__\n",
      " |      dictionary for instance variables (if defined)\n",
      " |  \n",
      " |  __weakref__\n",
      " |      list of weak references to the object (if defined)\n",
      "\n"
     ]
    }
   ],
   "source": [
    "help(plt.GridSpec)"
   ]
  },
  {
   "cell_type": "code",
   "execution_count": 69,
   "id": "04a2a7b8-8d8f-466d-be81-2647ef07bfb2",
   "metadata": {},
   "outputs": [
    {
     "data": {
      "image/png": "[encoded data removed]",
      "text/plain": [
       "<Figure size 1000x1000 with 16 Axes>"
      ]
     },
     "metadata": {},
     "output_type": "display_data"
    }
   ],
   "source": [
    "########################################\n",
    "# exercise\n",
    "# plot a 4 x 4 grid for mean, median, min, and max\n",
    "fig = plt.figure(figsize=(10,10))\n",
    "nsize = 4\n",
    "gs = fig.add_gridspec(nsize, nsize, hspace=0.3, wspace=0.3)\n",
    "axs = gs.subplots(sharex=True, sharey=True)\n",
    "plt_types = ['mean', 'median', 'min', 'max']\n",
    "colors = ['blue', 'yellow', 'green', 'red']\n",
    "\n",
    "for i,row in enumerate(axs):\n",
    "    for ii,cell in enumerate(row):\n",
    "        line = data[i]\n",
    "        if ii == 0:\n",
    "            line = line.mean()\n",
    "        elif ii == 1:\n",
    "            line = line.median()\n",
    "        elif ii == 2:\n",
    "            line = line.min()\n",
    "        else:\n",
    "            line = line.max()\n",
    "        cell.plot(range(40), line, colors[ii])\n",
    "        cell.set_title(str(i) + ' ' + plt_types[ii])\n",
    "\n",
    "for ax in axs.flat:\n",
    "    ax.set(xlabel='Features', ylabel='Values')\n",
    "\n",
    "plt.show()"
   ]
  },
  {
   "cell_type": "markdown",
   "id": "99cef20e-8a56-4fa2-b8d7-23d556954c7b",
   "metadata": {},
   "source": [
    "# Q&A"
   ]
  },
  {
   "cell_type": "code",
   "execution_count": null,
   "id": "18fc77aa-8743-472d-becc-40bc8830b8b0",
   "metadata": {},
   "outputs": [],
   "source": []
  }
 ],
 "metadata": {
  "kernelspec": {
   "display_name": "Python 3 (ipykernel)",
   "language": "python",
   "name": "python3"
  },
  "language_info": {
   "codemirror_mode": {
    "name": "ipython",
    "version": 3
   },
   "file_extension": ".py",
   "mimetype": "text/x-python",
   "name": "python",
   "nbconvert_exporter": "python",
   "pygments_lexer": "ipython3",
   "version": "3.10.10"
  }
 },
 "nbformat": 4,
 "nbformat_minor": 5
}
