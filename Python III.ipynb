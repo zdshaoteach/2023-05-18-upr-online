{
 "cells": [
  {
   "cell_type": "markdown",
   "id": "129af201",
   "metadata": {},
   "source": [
    "# Python III"
   ]
  },
  {
   "cell_type": "markdown",
   "id": "1acb5050",
   "metadata": {},
   "source": [
    "---\n",
    "\n",
    "reference curriculum: \n",
    "\n",
    "- [Programming with Python](https://swcarpentry.github.io/python-novice-inflammation/)\n",
    "- [Plotting and Programming in Python](https://swcarpentry.github.io/python-novice-gapminder/)"
   ]
  },
  {
   "cell_type": "markdown",
   "id": "35cd3441",
   "metadata": {},
   "source": [
    "---\n",
    "\n",
    "Duration:\n",
    "\n",
    "- 90 mins\n",
    "    \n",
    "---"
   ]
  },
  {
   "cell_type": "markdown",
   "id": "2160dd13",
   "metadata": {},
   "source": [
    "## python functions"
   ]
  },
  {
   "cell_type": "markdown",
   "id": "946d3b2f",
   "metadata": {},
   "source": [
    "why do we use functions?\n",
    "\n",
    "define a function with python [reference: w3schools](https://www.w3schools.com/python/python_functions.asp)"
   ]
  },
  {
   "cell_type": "code",
   "execution_count": 1,
   "id": "a416b069",
   "metadata": {},
   "outputs": [],
   "source": [
    "# define a function\n",
    "def fahr_to_celsius(temp):\n",
    "    return ((temp - 32) * (5/9))"
   ]
  },
  {
   "cell_type": "code",
   "execution_count": 2,
   "id": "ed9c6f3b-1bb1-479e-b1ec-3525cbbc19bd",
   "metadata": {},
   "outputs": [
    {
     "name": "stdout",
     "output_type": "stream",
     "text": [
      "Help on function fahr_to_celsius in module __main__:\n",
      "\n",
      "fahr_to_celsius(temp)\n",
      "    # define a function\n",
      "\n"
     ]
    }
   ],
   "source": [
    "help(fahr_to_celsius)"
   ]
  },
  {
   "cell_type": "markdown",
   "id": "4cfaca65-4ae6-45f2-86d4-5740748d51d7",
   "metadata": {},
   "source": [
    "![](https://swcarpentry.github.io/python-novice-inflammation/fig/python-function.svg)"
   ]
  },
  {
   "cell_type": "code",
   "execution_count": 3,
   "id": "1c50ac48",
   "metadata": {},
   "outputs": [
    {
     "data": {
      "text/plain": [
       "21.11111111111111"
      ]
     },
     "execution_count": 3,
     "metadata": {},
     "output_type": "execute_result"
    }
   ],
   "source": [
    "# call a function\n",
    "fahr_to_celsius(70)"
   ]
  },
  {
   "cell_type": "code",
   "execution_count": 4,
   "id": "d8edce8c-2118-4999-a017-d1430a8416c1",
   "metadata": {},
   "outputs": [
    {
     "data": {
      "text/plain": [
       "21.11111111111111"
      ]
     },
     "execution_count": 4,
     "metadata": {},
     "output_type": "execute_result"
    }
   ],
   "source": [
    "# call a function\n",
    "temp_today = 70\n",
    "fahr_to_celsius(temp_today)"
   ]
  },
  {
   "cell_type": "code",
   "execution_count": 5,
   "id": "2b5eb57a-4691-4e45-a29c-5fc54ceb9323",
   "metadata": {},
   "outputs": [],
   "source": [
    "def celsius_to_kelvin(temp_c):\n",
    "    return temp_c + 273.15"
   ]
  },
  {
   "cell_type": "code",
   "execution_count": 6,
   "id": "c225f778-c859-4f34-9820-b6df964ff213",
   "metadata": {},
   "outputs": [
    {
     "data": {
      "text/plain": [
       "294.26111111111106"
      ]
     },
     "execution_count": 6,
     "metadata": {},
     "output_type": "execute_result"
    }
   ],
   "source": [
    "celsius_to_kelvin(fahr_to_celsius(temp_today))"
   ]
  },
  {
   "cell_type": "code",
   "execution_count": 7,
   "id": "b8dd402d-28f1-4793-bcba-9f6fb829e0da",
   "metadata": {},
   "outputs": [
    {
     "ename": "NameError",
     "evalue": "name 'temp' is not defined",
     "output_type": "error",
     "traceback": [
      "\u001b[0;31m---------------------------------------------------------------------------\u001b[0m",
      "\u001b[0;31mNameError\u001b[0m                                 Traceback (most recent call last)",
      "Cell \u001b[0;32mIn[7], line 1\u001b[0m\n\u001b[0;32m----> 1\u001b[0m celsius_to_kelvin(\u001b[43mtemp\u001b[49m)\n",
      "\u001b[0;31mNameError\u001b[0m: name 'temp' is not defined"
     ]
    }
   ],
   "source": [
    "celsius_to_kelvin(temp)"
   ]
  },
  {
   "cell_type": "code",
   "execution_count": 8,
   "id": "8e90f5a1-2a4e-4299-b6db-7a0850c6a3ed",
   "metadata": {},
   "outputs": [],
   "source": [
    "def a_function_that_does_nothing():\n",
    "    pass\n",
    "\n",
    "a_function_that_does_nothing()"
   ]
  },
  {
   "cell_type": "code",
   "execution_count": 9,
   "id": "91f31ab3-54c4-4a59-b8b6-13d9aac65cf2",
   "metadata": {},
   "outputs": [
    {
     "name": "stdout",
     "output_type": "stream",
     "text": [
      "Help on function a_function_that_does_nothing in module __main__:\n",
      "\n",
      "a_function_that_does_nothing()\n",
      "\n"
     ]
    }
   ],
   "source": [
    "help(a_function_that_does_nothing)"
   ]
  },
  {
   "cell_type": "code",
   "execution_count": 10,
   "id": "60cd5f61-b31c-4d6a-986f-8464931814a7",
   "metadata": {},
   "outputs": [
    {
     "ename": "NameError",
     "evalue": "name 'var_inside_func' is not defined",
     "output_type": "error",
     "traceback": [
      "\u001b[0;31m---------------------------------------------------------------------------\u001b[0m",
      "\u001b[0;31mNameError\u001b[0m                                 Traceback (most recent call last)",
      "Cell \u001b[0;32mIn[10], line 6\u001b[0m\n\u001b[1;32m      3\u001b[0m     \u001b[38;5;28;01mpass\u001b[39;00m\n\u001b[1;32m      5\u001b[0m a_function_that_does_nothing()\n\u001b[0;32m----> 6\u001b[0m \u001b[38;5;28mprint\u001b[39m(\u001b[43mvar_inside_func\u001b[49m)\n",
      "\u001b[0;31mNameError\u001b[0m: name 'var_inside_func' is not defined"
     ]
    }
   ],
   "source": [
    "def a_function_that_does_nothing():\n",
    "    var_inside_func = 45\n",
    "    pass\n",
    "\n",
    "a_function_that_does_nothing()\n",
    "print(var_inside_func)"
   ]
  },
  {
   "cell_type": "code",
   "execution_count": 11,
   "id": "1d0aa0d2-1599-4aed-9d5e-d3b8320176b6",
   "metadata": {},
   "outputs": [
    {
     "name": "stdout",
     "output_type": "stream",
     "text": [
      "this is a function\n"
     ]
    }
   ],
   "source": [
    "def a_function_that_has_no_return():\n",
    "    print('this is a function')\n",
    "\n",
    "a_function_that_has_no_return()"
   ]
  },
  {
   "cell_type": "code",
   "execution_count": 12,
   "id": "aec6360f-0e0c-4316-9881-2a0e65e45b4a",
   "metadata": {},
   "outputs": [
    {
     "name": "stdout",
     "output_type": "stream",
     "text": [
      "70\n"
     ]
    }
   ],
   "source": [
    "def print_a_global_variable():\n",
    "    print(temp_today)\n",
    "\n",
    "print_a_global_variable()"
   ]
  },
  {
   "cell_type": "code",
   "execution_count": 13,
   "id": "eb6eeb73-8dde-489c-8737-71b84cf95f72",
   "metadata": {},
   "outputs": [
    {
     "name": "stdout",
     "output_type": "stream",
     "text": [
      "80\n"
     ]
    }
   ],
   "source": [
    "def modify_a_global_variable():\n",
    "    temp_today = 80\n",
    "    print(temp_today)\n",
    "\n",
    "modify_a_global_variable()"
   ]
  },
  {
   "cell_type": "code",
   "execution_count": 14,
   "id": "4ca1a597-6088-4db4-bf08-044fdd9e02b9",
   "metadata": {},
   "outputs": [
    {
     "data": {
      "text/plain": [
       "70"
      ]
     },
     "execution_count": 14,
     "metadata": {},
     "output_type": "execute_result"
    }
   ],
   "source": [
    "temp_today"
   ]
  },
  {
   "cell_type": "code",
   "execution_count": 15,
   "id": "3401dcf2-7923-4f96-9f52-15d3e46a5635",
   "metadata": {},
   "outputs": [
    {
     "name": "stdout",
     "output_type": "stream",
     "text": [
      "80\n"
     ]
    }
   ],
   "source": [
    "# Question?\n",
    "# how to let a function modify a global variable?\n",
    "\n",
    "def modify_a_global_variable():\n",
    "    global temp_today\n",
    "    temp_today = 80\n",
    "    print(temp_today)\n",
    "\n",
    "modify_a_global_variable()"
   ]
  },
  {
   "cell_type": "code",
   "execution_count": 16,
   "id": "3a7c68a1-05b0-46fe-8909-d80a2220bd7d",
   "metadata": {},
   "outputs": [
    {
     "data": {
      "text/plain": [
       "80"
      ]
     },
     "execution_count": 16,
     "metadata": {},
     "output_type": "execute_result"
    }
   ],
   "source": [
    "temp_today"
   ]
  },
  {
   "cell_type": "code",
   "execution_count": 17,
   "id": "7d7bcf19",
   "metadata": {},
   "outputs": [],
   "source": [
    "# multiple input parameters\n",
    "def format_time(hour, minutes, seconds):\n",
    "    return '{}:{}:{}'.format(hour, minutes, seconds)"
   ]
  },
  {
   "cell_type": "code",
   "execution_count": 18,
   "id": "86f2308d",
   "metadata": {},
   "outputs": [
    {
     "data": {
      "text/plain": [
       "'16:15:30'"
      ]
     },
     "execution_count": 18,
     "metadata": {},
     "output_type": "execute_result"
    }
   ],
   "source": [
    "# call a function\n",
    "format_time(16,15,30)"
   ]
  },
  {
   "cell_type": "code",
   "execution_count": 19,
   "id": "4cfd6935",
   "metadata": {},
   "outputs": [
    {
     "data": {
      "text/plain": [
       "'16:15:30'"
      ]
     },
     "execution_count": 19,
     "metadata": {},
     "output_type": "execute_result"
    }
   ],
   "source": [
    "# call a function with specified parameters\n",
    "format_time(seconds=30, minutes=15, hour=16)"
   ]
  },
  {
   "cell_type": "code",
   "execution_count": 20,
   "id": "8c5d65ef",
   "metadata": {},
   "outputs": [
    {
     "data": {
      "text/plain": [
       "'16:15:30'"
      ]
     },
     "execution_count": 20,
     "metadata": {},
     "output_type": "execute_result"
    }
   ],
   "source": [
    "# call through a list\n",
    "time_values = [16, 15, 30]\n",
    "format_time(*time_values)"
   ]
  },
  {
   "cell_type": "code",
   "execution_count": 21,
   "id": "3092cb9a",
   "metadata": {},
   "outputs": [
    {
     "name": "stdout",
     "output_type": "stream",
     "text": [
      "{'seconds': 30, 'minutes': 15, 'hour': 16}\n"
     ]
    }
   ],
   "source": [
    "# call through a dictionary\n",
    "time_values = dict(seconds=30, minutes=15, hour=16)\n",
    "print(time_values)"
   ]
  },
  {
   "cell_type": "code",
   "execution_count": 22,
   "id": "3dbb0ae4-5d98-4a3b-8e92-bcebca67569c",
   "metadata": {},
   "outputs": [
    {
     "data": {
      "text/plain": [
       "'16:15:30'"
      ]
     },
     "execution_count": 22,
     "metadata": {},
     "output_type": "execute_result"
    }
   ],
   "source": [
    "format_time(**time_values)"
   ]
  },
  {
   "cell_type": "code",
   "execution_count": 23,
   "id": "0bda3674",
   "metadata": {},
   "outputs": [
    {
     "ename": "SyntaxError",
     "evalue": "expected ':' (3761105116.py, line 3)",
     "output_type": "error",
     "traceback": [
      "\u001b[0;36m  Cell \u001b[0;32mIn[23], line 3\u001b[0;36m\u001b[0m\n\u001b[0;31m    def func(param)\u001b[0m\n\u001b[0m                   ^\u001b[0m\n\u001b[0;31mSyntaxError\u001b[0m\u001b[0;31m:\u001b[0m expected ':'\n"
     ]
    }
   ],
   "source": [
    "########################################\n",
    "# exercise: find errors in this function\n",
    "def func(param)\n",
    "  print('entering the function func')\n",
    "    print('param is', param)\n",
    "    print('length of the parameter is', len(param))\n",
    "    return str(type(param)) + ' ' + len(param)"
   ]
  },
  {
   "cell_type": "markdown",
   "id": "b1300627-fd43-44a3-8d31-42e520142398",
   "metadata": {
    "scrolled": true
   },
   "source": [
    "# Q&A"
   ]
  },
  {
   "cell_type": "code",
   "execution_count": 24,
   "id": "5a0c6bb0",
   "metadata": {},
   "outputs": [
    {
     "name": "stdout",
     "output_type": "stream",
     "text": [
      "name is Chris\n",
      "major is Computer Engineering\n"
     ]
    }
   ],
   "source": [
    "# write the pkg module with three variables and two functions\n",
    "# use local variables in functions\n",
    "import pkg\n",
    "print('name is', pkg.name)\n",
    "print('major is', pkg.major)"
   ]
  },
  {
   "cell_type": "code",
   "execution_count": 25,
   "id": "c2983af6-938f-42f2-9889-d23627396d0d",
   "metadata": {},
   "outputs": [
    {
     "name": "stdout",
     "output_type": "stream",
     "text": [
      "Help on module pkg:\n",
      "\n",
      "NAME\n",
      "    pkg\n",
      "\n",
      "FUNCTIONS\n",
      "    change_my_major(new_major)\n",
      "    \n",
      "    change_my_name(new_name)\n",
      "    \n",
      "    get_my_major()\n",
      "    \n",
      "    get_my_name()\n",
      "\n",
      "DATA\n",
      "    major = 'Computer Engineering'\n",
      "    name = 'Chris'\n",
      "\n",
      "FILE\n",
      "    /Users/doris/projects/2023-05-18-upr-online/pkg.py\n",
      "\n",
      "\n"
     ]
    }
   ],
   "source": [
    "help(pkg)"
   ]
  },
  {
   "cell_type": "code",
   "execution_count": 26,
   "id": "9997648b-d5b2-4a28-b031-fd7578ef39da",
   "metadata": {},
   "outputs": [
    {
     "data": {
      "text/plain": [
       "'Chris'"
      ]
     },
     "execution_count": 26,
     "metadata": {},
     "output_type": "execute_result"
    }
   ],
   "source": [
    "pkg.get_my_name()"
   ]
  },
  {
   "cell_type": "code",
   "execution_count": 27,
   "id": "5e46242a-0fc4-4487-bc9c-4a0778102cca",
   "metadata": {},
   "outputs": [],
   "source": [
    "pkg.name = 'David'"
   ]
  },
  {
   "cell_type": "code",
   "execution_count": 28,
   "id": "87e35d27-bf97-4dd2-a2f5-a95fc9c81328",
   "metadata": {},
   "outputs": [
    {
     "data": {
      "text/plain": [
       "'David'"
      ]
     },
     "execution_count": 28,
     "metadata": {},
     "output_type": "execute_result"
    }
   ],
   "source": [
    "pkg.get_my_name()"
   ]
  },
  {
   "cell_type": "code",
   "execution_count": 29,
   "id": "ec2ed9f9-6a48-47e7-b47f-93145a64ad64",
   "metadata": {},
   "outputs": [],
   "source": [
    "pkg.change_my_name('Tom')"
   ]
  },
  {
   "cell_type": "code",
   "execution_count": 30,
   "id": "a518e373-3d5b-4b07-b965-ad095f843398",
   "metadata": {},
   "outputs": [
    {
     "data": {
      "text/plain": [
       "'Tom'"
      ]
     },
     "execution_count": 30,
     "metadata": {},
     "output_type": "execute_result"
    }
   ],
   "source": [
    "pkg.get_my_name()"
   ]
  },
  {
   "cell_type": "code",
   "execution_count": 31,
   "id": "5507ba3a-b061-422a-ab6d-565229e7fc06",
   "metadata": {},
   "outputs": [
    {
     "data": {
      "text/plain": [
       "'Tom'"
      ]
     },
     "execution_count": 31,
     "metadata": {},
     "output_type": "execute_result"
    }
   ],
   "source": [
    "pkg.name"
   ]
  },
  {
   "cell_type": "code",
   "execution_count": 32,
   "id": "a56d9bd6",
   "metadata": {},
   "outputs": [
    {
     "name": "stdout",
     "output_type": "stream",
     "text": [
      "name is Tom\n"
     ]
    }
   ],
   "source": [
    "# what happens if I import the module again?\n",
    "import pkg as pkg2\n",
    "\n",
    "print('name is', pkg2.name)"
   ]
  },
  {
   "cell_type": "code",
   "execution_count": 33,
   "id": "a309a47e",
   "metadata": {},
   "outputs": [
    {
     "name": "stdout",
     "output_type": "stream",
     "text": [
      "name is Tom\n"
     ]
    }
   ],
   "source": [
    "# what happens if I change pkg.py and import it again?\n",
    "# change name to 'Chris' and import again\n",
    "import pkg\n",
    "\n",
    "print('name is', pkg.name)"
   ]
  },
  {
   "cell_type": "code",
   "execution_count": 34,
   "id": "22b0425b-8dbb-432d-b664-1be39f457a07",
   "metadata": {},
   "outputs": [],
   "source": [
    "# Question? how to update pkg if I modify the module file"
   ]
  },
  {
   "cell_type": "code",
   "execution_count": 35,
   "id": "9dfa7c21-5dcc-4cdf-a213-901b1c93a44e",
   "metadata": {},
   "outputs": [
    {
     "name": "stdout",
     "output_type": "stream",
     "text": [
      "Tom\n"
     ]
    }
   ],
   "source": [
    "from pkg import *\n",
    "\n",
    "print(name)"
   ]
  },
  {
   "cell_type": "markdown",
   "id": "e787023a",
   "metadata": {},
   "source": [
    "## Change the module into a Python Class"
   ]
  },
  {
   "cell_type": "code",
   "execution_count": 36,
   "id": "b39ca403-f093-4e25-ad53-c61a160b204a",
   "metadata": {},
   "outputs": [],
   "source": [
    "class PersonalInformation():\n",
    "    def __init__(self, name, major):\n",
    "        self.name = name\n",
    "        self.major = major\n",
    "\n",
    "    def get_my_name(self):\n",
    "        return self.name\n",
    "    \n",
    "    \n",
    "    def get_my_major(self):\n",
    "        return self.major\n",
    "    \n",
    "    \n",
    "    def change_my_name(self, name):\n",
    "        self.name = name\n",
    "    \n",
    "    \n",
    "    def change_my_major(self, major):\n",
    "        self.major = major"
   ]
  },
  {
   "cell_type": "code",
   "execution_count": 37,
   "id": "b995d8c3-b05c-494c-85c9-98a8c1ab9940",
   "metadata": {},
   "outputs": [
    {
     "name": "stdout",
     "output_type": "stream",
     "text": [
      "Help on class PersonalInformation in module __main__:\n",
      "\n",
      "class PersonalInformation(builtins.object)\n",
      " |  PersonalInformation(name, major)\n",
      " |  \n",
      " |  Methods defined here:\n",
      " |  \n",
      " |  __init__(self, name, major)\n",
      " |      Initialize self.  See help(type(self)) for accurate signature.\n",
      " |  \n",
      " |  change_my_major(self, major)\n",
      " |  \n",
      " |  change_my_name(self, name)\n",
      " |  \n",
      " |  get_my_major(self)\n",
      " |  \n",
      " |  get_my_name(self)\n",
      " |  \n",
      " |  ----------------------------------------------------------------------\n",
      " |  Data descriptors defined here:\n",
      " |  \n",
      " |  __dict__\n",
      " |      dictionary for instance variables (if defined)\n",
      " |  \n",
      " |  __weakref__\n",
      " |      list of weak references to the object (if defined)\n",
      "\n"
     ]
    }
   ],
   "source": [
    "help(PersonalInformation)"
   ]
  },
  {
   "cell_type": "code",
   "execution_count": 38,
   "id": "b0a432c9-6e11-4a23-a34e-0321845cf675",
   "metadata": {},
   "outputs": [
    {
     "data": {
      "text/plain": [
       "'Doris'"
      ]
     },
     "execution_count": 38,
     "metadata": {},
     "output_type": "execute_result"
    }
   ],
   "source": [
    "pinfo = PersonalInformation('Doris', 'Computer Engineering')\n",
    "pinfo.name"
   ]
  },
  {
   "cell_type": "code",
   "execution_count": 39,
   "id": "61bd0dc1-adb2-4ab7-994a-6473efb62648",
   "metadata": {},
   "outputs": [],
   "source": [
    "pinfo.change_my_name('Chris')"
   ]
  },
  {
   "cell_type": "code",
   "execution_count": 40,
   "id": "23656218-02f5-4c21-9792-7adb0d362aeb",
   "metadata": {},
   "outputs": [
    {
     "data": {
      "text/plain": [
       "'Chris'"
      ]
     },
     "execution_count": 40,
     "metadata": {},
     "output_type": "execute_result"
    }
   ],
   "source": [
    "pinfo.name"
   ]
  },
  {
   "cell_type": "code",
   "execution_count": 41,
   "id": "1297918c-aaea-4456-a0a3-9a1fa9b91407",
   "metadata": {},
   "outputs": [
    {
     "data": {
      "text/plain": [
       "'Chris'"
      ]
     },
     "execution_count": 41,
     "metadata": {},
     "output_type": "execute_result"
    }
   ],
   "source": [
    "pinfo.get_my_name()"
   ]
  },
  {
   "cell_type": "code",
   "execution_count": 42,
   "id": "aae79488-8b04-4ea2-92b9-f0e56e63b21a",
   "metadata": {},
   "outputs": [
    {
     "ename": "TypeError",
     "evalue": "PersonalInformation.get_my_name() missing 1 required positional argument: 'self'",
     "output_type": "error",
     "traceback": [
      "\u001b[0;31m---------------------------------------------------------------------------\u001b[0m",
      "\u001b[0;31mTypeError\u001b[0m                                 Traceback (most recent call last)",
      "Cell \u001b[0;32mIn[42], line 1\u001b[0m\n\u001b[0;32m----> 1\u001b[0m \u001b[43mPersonalInformation\u001b[49m\u001b[38;5;241;43m.\u001b[39;49m\u001b[43mget_my_name\u001b[49m\u001b[43m(\u001b[49m\u001b[43m)\u001b[49m\n",
      "\u001b[0;31mTypeError\u001b[0m: PersonalInformation.get_my_name() missing 1 required positional argument: 'self'"
     ]
    }
   ],
   "source": [
    "PersonalInformation.get_my_name()"
   ]
  },
  {
   "cell_type": "code",
   "execution_count": 43,
   "id": "921d48c0-6200-46f4-94a9-2db03f45d0a5",
   "metadata": {},
   "outputs": [],
   "source": [
    "# static and class functions\n",
    "# reference https://www.geeksforgeeks.org/class-method-vs-static-method-python/\n",
    "\n",
    "class PersonalInformation():\n",
    "    def __init__(self, name, major):\n",
    "        self.name = name\n",
    "        self.major = major\n",
    "\n",
    "    @classmethod\n",
    "    def get_class_info(cls):\n",
    "        return 'Class method for Personal Information ' + str(cls.__name__)\n",
    "\n",
    "    @staticmethod\n",
    "    def get_class_info_static(something):\n",
    "        return 'Static method for Personal Information ' + str(something)\n",
    "        \n",
    "\n",
    "    def get_my_name(self):\n",
    "        return self.name\n",
    "    \n",
    "    \n",
    "    def get_my_major(self):\n",
    "        return self.major\n",
    "    \n",
    "    \n",
    "    def change_my_name(self, name):\n",
    "        self.name = name\n",
    "    \n",
    "    \n",
    "    def change_my_major(self, major):\n",
    "        self.major = major"
   ]
  },
  {
   "cell_type": "code",
   "execution_count": 44,
   "id": "7031c4f2-bdae-4e31-8c95-0a85bb47e4e2",
   "metadata": {},
   "outputs": [
    {
     "name": "stdout",
     "output_type": "stream",
     "text": [
      "Help on class PersonalInformation in module __main__:\n",
      "\n",
      "class PersonalInformation(builtins.object)\n",
      " |  PersonalInformation(name, major)\n",
      " |  \n",
      " |  Methods defined here:\n",
      " |  \n",
      " |  __init__(self, name, major)\n",
      " |      Initialize self.  See help(type(self)) for accurate signature.\n",
      " |  \n",
      " |  change_my_major(self, major)\n",
      " |  \n",
      " |  change_my_name(self, name)\n",
      " |  \n",
      " |  get_my_major(self)\n",
      " |  \n",
      " |  get_my_name(self)\n",
      " |  \n",
      " |  ----------------------------------------------------------------------\n",
      " |  Class methods defined here:\n",
      " |  \n",
      " |  get_class_info() from builtins.type\n",
      " |  \n",
      " |  ----------------------------------------------------------------------\n",
      " |  Static methods defined here:\n",
      " |  \n",
      " |  get_class_info_static(something)\n",
      " |  \n",
      " |  ----------------------------------------------------------------------\n",
      " |  Data descriptors defined here:\n",
      " |  \n",
      " |  __dict__\n",
      " |      dictionary for instance variables (if defined)\n",
      " |  \n",
      " |  __weakref__\n",
      " |      list of weak references to the object (if defined)\n",
      "\n"
     ]
    }
   ],
   "source": [
    "help(PersonalInformation)"
   ]
  },
  {
   "cell_type": "code",
   "execution_count": 45,
   "id": "9f9fc0b9-1509-44ab-9b65-e6376f4e2fe0",
   "metadata": {},
   "outputs": [
    {
     "data": {
      "text/plain": [
       "'Class method for Personal Information PersonalInformation'"
      ]
     },
     "execution_count": 45,
     "metadata": {},
     "output_type": "execute_result"
    }
   ],
   "source": [
    "PersonalInformation.get_class_info()"
   ]
  },
  {
   "cell_type": "code",
   "execution_count": 46,
   "id": "ca9aa9bf-fe9b-450f-9ae3-1fc21d7dfe0d",
   "metadata": {},
   "outputs": [
    {
     "data": {
      "text/plain": [
       "'Static method for Personal Information test'"
      ]
     },
     "execution_count": 46,
     "metadata": {},
     "output_type": "execute_result"
    }
   ],
   "source": [
    "PersonalInformation.get_class_info_static('test')"
   ]
  },
  {
   "cell_type": "code",
   "execution_count": 47,
   "id": "a42f42e6-01a3-4ece-a1ee-5ba80c80d836",
   "metadata": {},
   "outputs": [
    {
     "name": "stdout",
     "output_type": "stream",
     "text": [
      "Help on class tuple in module builtins:\n",
      "\n",
      "class tuple(object)\n",
      " |  tuple(iterable=(), /)\n",
      " |  \n",
      " |  Built-in immutable sequence.\n",
      " |  \n",
      " |  If no argument is given, the constructor returns an empty tuple.\n",
      " |  If iterable is specified the tuple is initialized from iterable's items.\n",
      " |  \n",
      " |  If the argument is a tuple, the return value is the same object.\n",
      " |  \n",
      " |  Built-in subclasses:\n",
      " |      asyncgen_hooks\n",
      " |      UnraisableHookArgs\n",
      " |  \n",
      " |  Methods defined here:\n",
      " |  \n",
      " |  __add__(self, value, /)\n",
      " |      Return self+value.\n",
      " |  \n",
      " |  __contains__(self, key, /)\n",
      " |      Return key in self.\n",
      " |  \n",
      " |  __eq__(self, value, /)\n",
      " |      Return self==value.\n",
      " |  \n",
      " |  __ge__(self, value, /)\n",
      " |      Return self>=value.\n",
      " |  \n",
      " |  __getattribute__(self, name, /)\n",
      " |      Return getattr(self, name).\n",
      " |  \n",
      " |  __getitem__(self, key, /)\n",
      " |      Return self[key].\n",
      " |  \n",
      " |  __getnewargs__(self, /)\n",
      " |  \n",
      " |  __gt__(self, value, /)\n",
      " |      Return self>value.\n",
      " |  \n",
      " |  __hash__(self, /)\n",
      " |      Return hash(self).\n",
      " |  \n",
      " |  __iter__(self, /)\n",
      " |      Implement iter(self).\n",
      " |  \n",
      " |  __le__(self, value, /)\n",
      " |      Return self<=value.\n",
      " |  \n",
      " |  __len__(self, /)\n",
      " |      Return len(self).\n",
      " |  \n",
      " |  __lt__(self, value, /)\n",
      " |      Return self<value.\n",
      " |  \n",
      " |  __mul__(self, value, /)\n",
      " |      Return self*value.\n",
      " |  \n",
      " |  __ne__(self, value, /)\n",
      " |      Return self!=value.\n",
      " |  \n",
      " |  __repr__(self, /)\n",
      " |      Return repr(self).\n",
      " |  \n",
      " |  __rmul__(self, value, /)\n",
      " |      Return value*self.\n",
      " |  \n",
      " |  count(self, value, /)\n",
      " |      Return number of occurrences of value.\n",
      " |  \n",
      " |  index(self, value, start=0, stop=9223372036854775807, /)\n",
      " |      Return first index of value.\n",
      " |      \n",
      " |      Raises ValueError if the value is not present.\n",
      " |  \n",
      " |  ----------------------------------------------------------------------\n",
      " |  Class methods defined here:\n",
      " |  \n",
      " |  __class_getitem__(...) from builtins.type\n",
      " |      See PEP 585\n",
      " |  \n",
      " |  ----------------------------------------------------------------------\n",
      " |  Static methods defined here:\n",
      " |  \n",
      " |  __new__(*args, **kwargs) from builtins.type\n",
      " |      Create and return a new object.  See help(type) for accurate signature.\n",
      "\n"
     ]
    }
   ],
   "source": [
    "help(tuple)"
   ]
  },
  {
   "cell_type": "code",
   "execution_count": 48,
   "id": "f05dd321-f64d-4c5a-9c1e-fe45cddcb384",
   "metadata": {},
   "outputs": [
    {
     "name": "stdout",
     "output_type": "stream",
     "text": [
      "Help on class list in module builtins:\n",
      "\n",
      "class list(object)\n",
      " |  list(iterable=(), /)\n",
      " |  \n",
      " |  Built-in mutable sequence.\n",
      " |  \n",
      " |  If no argument is given, the constructor creates a new empty list.\n",
      " |  The argument must be an iterable if specified.\n",
      " |  \n",
      " |  Methods defined here:\n",
      " |  \n",
      " |  __add__(self, value, /)\n",
      " |      Return self+value.\n",
      " |  \n",
      " |  __contains__(self, key, /)\n",
      " |      Return key in self.\n",
      " |  \n",
      " |  __delitem__(self, key, /)\n",
      " |      Delete self[key].\n",
      " |  \n",
      " |  __eq__(self, value, /)\n",
      " |      Return self==value.\n",
      " |  \n",
      " |  __ge__(self, value, /)\n",
      " |      Return self>=value.\n",
      " |  \n",
      " |  __getattribute__(self, name, /)\n",
      " |      Return getattr(self, name).\n",
      " |  \n",
      " |  __getitem__(...)\n",
      " |      x.__getitem__(y) <==> x[y]\n",
      " |  \n",
      " |  __gt__(self, value, /)\n",
      " |      Return self>value.\n",
      " |  \n",
      " |  __iadd__(self, value, /)\n",
      " |      Implement self+=value.\n",
      " |  \n",
      " |  __imul__(self, value, /)\n",
      " |      Implement self*=value.\n",
      " |  \n",
      " |  __init__(self, /, *args, **kwargs)\n",
      " |      Initialize self.  See help(type(self)) for accurate signature.\n",
      " |  \n",
      " |  __iter__(self, /)\n",
      " |      Implement iter(self).\n",
      " |  \n",
      " |  __le__(self, value, /)\n",
      " |      Return self<=value.\n",
      " |  \n",
      " |  __len__(self, /)\n",
      " |      Return len(self).\n",
      " |  \n",
      " |  __lt__(self, value, /)\n",
      " |      Return self<value.\n",
      " |  \n",
      " |  __mul__(self, value, /)\n",
      " |      Return self*value.\n",
      " |  \n",
      " |  __ne__(self, value, /)\n",
      " |      Return self!=value.\n",
      " |  \n",
      " |  __repr__(self, /)\n",
      " |      Return repr(self).\n",
      " |  \n",
      " |  __reversed__(self, /)\n",
      " |      Return a reverse iterator over the list.\n",
      " |  \n",
      " |  __rmul__(self, value, /)\n",
      " |      Return value*self.\n",
      " |  \n",
      " |  __setitem__(self, key, value, /)\n",
      " |      Set self[key] to value.\n",
      " |  \n",
      " |  __sizeof__(self, /)\n",
      " |      Return the size of the list in memory, in bytes.\n",
      " |  \n",
      " |  append(self, object, /)\n",
      " |      Append object to the end of the list.\n",
      " |  \n",
      " |  clear(self, /)\n",
      " |      Remove all items from list.\n",
      " |  \n",
      " |  copy(self, /)\n",
      " |      Return a shallow copy of the list.\n",
      " |  \n",
      " |  count(self, value, /)\n",
      " |      Return number of occurrences of value.\n",
      " |  \n",
      " |  extend(self, iterable, /)\n",
      " |      Extend list by appending elements from the iterable.\n",
      " |  \n",
      " |  index(self, value, start=0, stop=9223372036854775807, /)\n",
      " |      Return first index of value.\n",
      " |      \n",
      " |      Raises ValueError if the value is not present.\n",
      " |  \n",
      " |  insert(self, index, object, /)\n",
      " |      Insert object before index.\n",
      " |  \n",
      " |  pop(self, index=-1, /)\n",
      " |      Remove and return item at index (default last).\n",
      " |      \n",
      " |      Raises IndexError if list is empty or index is out of range.\n",
      " |  \n",
      " |  remove(self, value, /)\n",
      " |      Remove first occurrence of value.\n",
      " |      \n",
      " |      Raises ValueError if the value is not present.\n",
      " |  \n",
      " |  reverse(self, /)\n",
      " |      Reverse *IN PLACE*.\n",
      " |  \n",
      " |  sort(self, /, *, key=None, reverse=False)\n",
      " |      Sort the list in ascending order and return None.\n",
      " |      \n",
      " |      The sort is in-place (i.e. the list itself is modified) and stable (i.e. the\n",
      " |      order of two equal elements is maintained).\n",
      " |      \n",
      " |      If a key function is given, apply it once to each list item and sort them,\n",
      " |      ascending or descending, according to their function values.\n",
      " |      \n",
      " |      The reverse flag can be set to sort in descending order.\n",
      " |  \n",
      " |  ----------------------------------------------------------------------\n",
      " |  Class methods defined here:\n",
      " |  \n",
      " |  __class_getitem__(...) from builtins.type\n",
      " |      See PEP 585\n",
      " |  \n",
      " |  ----------------------------------------------------------------------\n",
      " |  Static methods defined here:\n",
      " |  \n",
      " |  __new__(*args, **kwargs) from builtins.type\n",
      " |      Create and return a new object.  See help(type) for accurate signature.\n",
      " |  \n",
      " |  ----------------------------------------------------------------------\n",
      " |  Data and other attributes defined here:\n",
      " |  \n",
      " |  __hash__ = None\n",
      "\n"
     ]
    }
   ],
   "source": [
    "help(list)"
   ]
  },
  {
   "cell_type": "code",
   "execution_count": 49,
   "id": "ac7888fa-3bde-427a-afeb-c83511af38ec",
   "metadata": {},
   "outputs": [
    {
     "name": "stdout",
     "output_type": "stream",
     "text": [
      "Help on class dict in module builtins:\n",
      "\n",
      "class dict(object)\n",
      " |  dict() -> new empty dictionary\n",
      " |  dict(mapping) -> new dictionary initialized from a mapping object's\n",
      " |      (key, value) pairs\n",
      " |  dict(iterable) -> new dictionary initialized as if via:\n",
      " |      d = {}\n",
      " |      for k, v in iterable:\n",
      " |          d[k] = v\n",
      " |  dict(**kwargs) -> new dictionary initialized with the name=value pairs\n",
      " |      in the keyword argument list.  For example:  dict(one=1, two=2)\n",
      " |  \n",
      " |  Built-in subclasses:\n",
      " |      StgDict\n",
      " |  \n",
      " |  Methods defined here:\n",
      " |  \n",
      " |  __contains__(self, key, /)\n",
      " |      True if the dictionary has the specified key, else False.\n",
      " |  \n",
      " |  __delitem__(self, key, /)\n",
      " |      Delete self[key].\n",
      " |  \n",
      " |  __eq__(self, value, /)\n",
      " |      Return self==value.\n",
      " |  \n",
      " |  __ge__(self, value, /)\n",
      " |      Return self>=value.\n",
      " |  \n",
      " |  __getattribute__(self, name, /)\n",
      " |      Return getattr(self, name).\n",
      " |  \n",
      " |  __getitem__(...)\n",
      " |      x.__getitem__(y) <==> x[y]\n",
      " |  \n",
      " |  __gt__(self, value, /)\n",
      " |      Return self>value.\n",
      " |  \n",
      " |  __init__(self, /, *args, **kwargs)\n",
      " |      Initialize self.  See help(type(self)) for accurate signature.\n",
      " |  \n",
      " |  __ior__(self, value, /)\n",
      " |      Return self|=value.\n",
      " |  \n",
      " |  __iter__(self, /)\n",
      " |      Implement iter(self).\n",
      " |  \n",
      " |  __le__(self, value, /)\n",
      " |      Return self<=value.\n",
      " |  \n",
      " |  __len__(self, /)\n",
      " |      Return len(self).\n",
      " |  \n",
      " |  __lt__(self, value, /)\n",
      " |      Return self<value.\n",
      " |  \n",
      " |  __ne__(self, value, /)\n",
      " |      Return self!=value.\n",
      " |  \n",
      " |  __or__(self, value, /)\n",
      " |      Return self|value.\n",
      " |  \n",
      " |  __repr__(self, /)\n",
      " |      Return repr(self).\n",
      " |  \n",
      " |  __reversed__(self, /)\n",
      " |      Return a reverse iterator over the dict keys.\n",
      " |  \n",
      " |  __ror__(self, value, /)\n",
      " |      Return value|self.\n",
      " |  \n",
      " |  __setitem__(self, key, value, /)\n",
      " |      Set self[key] to value.\n",
      " |  \n",
      " |  __sizeof__(...)\n",
      " |      D.__sizeof__() -> size of D in memory, in bytes\n",
      " |  \n",
      " |  clear(...)\n",
      " |      D.clear() -> None.  Remove all items from D.\n",
      " |  \n",
      " |  copy(...)\n",
      " |      D.copy() -> a shallow copy of D\n",
      " |  \n",
      " |  get(self, key, default=None, /)\n",
      " |      Return the value for key if key is in the dictionary, else default.\n",
      " |  \n",
      " |  items(...)\n",
      " |      D.items() -> a set-like object providing a view on D's items\n",
      " |  \n",
      " |  keys(...)\n",
      " |      D.keys() -> a set-like object providing a view on D's keys\n",
      " |  \n",
      " |  pop(...)\n",
      " |      D.pop(k[,d]) -> v, remove specified key and return the corresponding value.\n",
      " |      \n",
      " |      If the key is not found, return the default if given; otherwise,\n",
      " |      raise a KeyError.\n",
      " |  \n",
      " |  popitem(self, /)\n",
      " |      Remove and return a (key, value) pair as a 2-tuple.\n",
      " |      \n",
      " |      Pairs are returned in LIFO (last-in, first-out) order.\n",
      " |      Raises KeyError if the dict is empty.\n",
      " |  \n",
      " |  setdefault(self, key, default=None, /)\n",
      " |      Insert key with a value of default if key is not in the dictionary.\n",
      " |      \n",
      " |      Return the value for key if key is in the dictionary, else default.\n",
      " |  \n",
      " |  update(...)\n",
      " |      D.update([E, ]**F) -> None.  Update D from dict/iterable E and F.\n",
      " |      If E is present and has a .keys() method, then does:  for k in E: D[k] = E[k]\n",
      " |      If E is present and lacks a .keys() method, then does:  for k, v in E: D[k] = v\n",
      " |      In either case, this is followed by: for k in F:  D[k] = F[k]\n",
      " |  \n",
      " |  values(...)\n",
      " |      D.values() -> an object providing a view on D's values\n",
      " |  \n",
      " |  ----------------------------------------------------------------------\n",
      " |  Class methods defined here:\n",
      " |  \n",
      " |  __class_getitem__(...) from builtins.type\n",
      " |      See PEP 585\n",
      " |  \n",
      " |  fromkeys(iterable, value=None, /) from builtins.type\n",
      " |      Create a new dictionary with keys from iterable and values set to value.\n",
      " |  \n",
      " |  ----------------------------------------------------------------------\n",
      " |  Static methods defined here:\n",
      " |  \n",
      " |  __new__(*args, **kwargs) from builtins.type\n",
      " |      Create and return a new object.  See help(type) for accurate signature.\n",
      " |  \n",
      " |  ----------------------------------------------------------------------\n",
      " |  Data and other attributes defined here:\n",
      " |  \n",
      " |  __hash__ = None\n",
      "\n"
     ]
    }
   ],
   "source": [
    "help(dict)"
   ]
  },
  {
   "cell_type": "code",
   "execution_count": 50,
   "id": "cc1491c1-f2ec-42f9-b755-f097463d2eb9",
   "metadata": {},
   "outputs": [
    {
     "name": "stdout",
     "output_type": "stream",
     "text": [
      "Help on class int in module builtins:\n",
      "\n",
      "class int(object)\n",
      " |  int([x]) -> integer\n",
      " |  int(x, base=10) -> integer\n",
      " |  \n",
      " |  Convert a number or string to an integer, or return 0 if no arguments\n",
      " |  are given.  If x is a number, return x.__int__().  For floating point\n",
      " |  numbers, this truncates towards zero.\n",
      " |  \n",
      " |  If x is not a number or if base is given, then x must be a string,\n",
      " |  bytes, or bytearray instance representing an integer literal in the\n",
      " |  given base.  The literal can be preceded by '+' or '-' and be surrounded\n",
      " |  by whitespace.  The base defaults to 10.  Valid bases are 0 and 2-36.\n",
      " |  Base 0 means to interpret the base from the string as an integer literal.\n",
      " |  >>> int('0b100', base=0)\n",
      " |  4\n",
      " |  \n",
      " |  Built-in subclasses:\n",
      " |      bool\n",
      " |  \n",
      " |  Methods defined here:\n",
      " |  \n",
      " |  __abs__(self, /)\n",
      " |      abs(self)\n",
      " |  \n",
      " |  __add__(self, value, /)\n",
      " |      Return self+value.\n",
      " |  \n",
      " |  __and__(self, value, /)\n",
      " |      Return self&value.\n",
      " |  \n",
      " |  __bool__(self, /)\n",
      " |      True if self else False\n",
      " |  \n",
      " |  __ceil__(...)\n",
      " |      Ceiling of an Integral returns itself.\n",
      " |  \n",
      " |  __divmod__(self, value, /)\n",
      " |      Return divmod(self, value).\n",
      " |  \n",
      " |  __eq__(self, value, /)\n",
      " |      Return self==value.\n",
      " |  \n",
      " |  __float__(self, /)\n",
      " |      float(self)\n",
      " |  \n",
      " |  __floor__(...)\n",
      " |      Flooring an Integral returns itself.\n",
      " |  \n",
      " |  __floordiv__(self, value, /)\n",
      " |      Return self//value.\n",
      " |  \n",
      " |  __format__(self, format_spec, /)\n",
      " |      Default object formatter.\n",
      " |  \n",
      " |  __ge__(self, value, /)\n",
      " |      Return self>=value.\n",
      " |  \n",
      " |  __getattribute__(self, name, /)\n",
      " |      Return getattr(self, name).\n",
      " |  \n",
      " |  __getnewargs__(self, /)\n",
      " |  \n",
      " |  __gt__(self, value, /)\n",
      " |      Return self>value.\n",
      " |  \n",
      " |  __hash__(self, /)\n",
      " |      Return hash(self).\n",
      " |  \n",
      " |  __index__(self, /)\n",
      " |      Return self converted to an integer, if self is suitable for use as an index into a list.\n",
      " |  \n",
      " |  __int__(self, /)\n",
      " |      int(self)\n",
      " |  \n",
      " |  __invert__(self, /)\n",
      " |      ~self\n",
      " |  \n",
      " |  __le__(self, value, /)\n",
      " |      Return self<=value.\n",
      " |  \n",
      " |  __lshift__(self, value, /)\n",
      " |      Return self<<value.\n",
      " |  \n",
      " |  __lt__(self, value, /)\n",
      " |      Return self<value.\n",
      " |  \n",
      " |  __mod__(self, value, /)\n",
      " |      Return self%value.\n",
      " |  \n",
      " |  __mul__(self, value, /)\n",
      " |      Return self*value.\n",
      " |  \n",
      " |  __ne__(self, value, /)\n",
      " |      Return self!=value.\n",
      " |  \n",
      " |  __neg__(self, /)\n",
      " |      -self\n",
      " |  \n",
      " |  __or__(self, value, /)\n",
      " |      Return self|value.\n",
      " |  \n",
      " |  __pos__(self, /)\n",
      " |      +self\n",
      " |  \n",
      " |  __pow__(self, value, mod=None, /)\n",
      " |      Return pow(self, value, mod).\n",
      " |  \n",
      " |  __radd__(self, value, /)\n",
      " |      Return value+self.\n",
      " |  \n",
      " |  __rand__(self, value, /)\n",
      " |      Return value&self.\n",
      " |  \n",
      " |  __rdivmod__(self, value, /)\n",
      " |      Return divmod(value, self).\n",
      " |  \n",
      " |  __repr__(self, /)\n",
      " |      Return repr(self).\n",
      " |  \n",
      " |  __rfloordiv__(self, value, /)\n",
      " |      Return value//self.\n",
      " |  \n",
      " |  __rlshift__(self, value, /)\n",
      " |      Return value<<self.\n",
      " |  \n",
      " |  __rmod__(self, value, /)\n",
      " |      Return value%self.\n",
      " |  \n",
      " |  __rmul__(self, value, /)\n",
      " |      Return value*self.\n",
      " |  \n",
      " |  __ror__(self, value, /)\n",
      " |      Return value|self.\n",
      " |  \n",
      " |  __round__(...)\n",
      " |      Rounding an Integral returns itself.\n",
      " |      \n",
      " |      Rounding with an ndigits argument also returns an integer.\n",
      " |  \n",
      " |  __rpow__(self, value, mod=None, /)\n",
      " |      Return pow(value, self, mod).\n",
      " |  \n",
      " |  __rrshift__(self, value, /)\n",
      " |      Return value>>self.\n",
      " |  \n",
      " |  __rshift__(self, value, /)\n",
      " |      Return self>>value.\n",
      " |  \n",
      " |  __rsub__(self, value, /)\n",
      " |      Return value-self.\n",
      " |  \n",
      " |  __rtruediv__(self, value, /)\n",
      " |      Return value/self.\n",
      " |  \n",
      " |  __rxor__(self, value, /)\n",
      " |      Return value^self.\n",
      " |  \n",
      " |  __sizeof__(self, /)\n",
      " |      Returns size in memory, in bytes.\n",
      " |  \n",
      " |  __sub__(self, value, /)\n",
      " |      Return self-value.\n",
      " |  \n",
      " |  __truediv__(self, value, /)\n",
      " |      Return self/value.\n",
      " |  \n",
      " |  __trunc__(...)\n",
      " |      Truncating an Integral returns itself.\n",
      " |  \n",
      " |  __xor__(self, value, /)\n",
      " |      Return self^value.\n",
      " |  \n",
      " |  as_integer_ratio(self, /)\n",
      " |      Return integer ratio.\n",
      " |      \n",
      " |      Return a pair of integers, whose ratio is exactly equal to the original int\n",
      " |      and with a positive denominator.\n",
      " |      \n",
      " |      >>> (10).as_integer_ratio()\n",
      " |      (10, 1)\n",
      " |      >>> (-10).as_integer_ratio()\n",
      " |      (-10, 1)\n",
      " |      >>> (0).as_integer_ratio()\n",
      " |      (0, 1)\n",
      " |  \n",
      " |  bit_count(self, /)\n",
      " |      Number of ones in the binary representation of the absolute value of self.\n",
      " |      \n",
      " |      Also known as the population count.\n",
      " |      \n",
      " |      >>> bin(13)\n",
      " |      '0b1101'\n",
      " |      >>> (13).bit_count()\n",
      " |      3\n",
      " |  \n",
      " |  bit_length(self, /)\n",
      " |      Number of bits necessary to represent self in binary.\n",
      " |      \n",
      " |      >>> bin(37)\n",
      " |      '0b100101'\n",
      " |      >>> (37).bit_length()\n",
      " |      6\n",
      " |  \n",
      " |  conjugate(...)\n",
      " |      Returns self, the complex conjugate of any int.\n",
      " |  \n",
      " |  to_bytes(self, /, length, byteorder, *, signed=False)\n",
      " |      Return an array of bytes representing an integer.\n",
      " |      \n",
      " |      length\n",
      " |        Length of bytes object to use.  An OverflowError is raised if the\n",
      " |        integer is not representable with the given number of bytes.\n",
      " |      byteorder\n",
      " |        The byte order used to represent the integer.  If byteorder is 'big',\n",
      " |        the most significant byte is at the beginning of the byte array.  If\n",
      " |        byteorder is 'little', the most significant byte is at the end of the\n",
      " |        byte array.  To request the native byte order of the host system, use\n",
      " |        `sys.byteorder' as the byte order value.\n",
      " |      signed\n",
      " |        Determines whether two's complement is used to represent the integer.\n",
      " |        If signed is False and a negative integer is given, an OverflowError\n",
      " |        is raised.\n",
      " |  \n",
      " |  ----------------------------------------------------------------------\n",
      " |  Class methods defined here:\n",
      " |  \n",
      " |  from_bytes(bytes, byteorder, *, signed=False) from builtins.type\n",
      " |      Return the integer represented by the given array of bytes.\n",
      " |      \n",
      " |      bytes\n",
      " |        Holds the array of bytes to convert.  The argument must either\n",
      " |        support the buffer protocol or be an iterable object producing bytes.\n",
      " |        Bytes and bytearray are examples of built-in objects that support the\n",
      " |        buffer protocol.\n",
      " |      byteorder\n",
      " |        The byte order used to represent the integer.  If byteorder is 'big',\n",
      " |        the most significant byte is at the beginning of the byte array.  If\n",
      " |        byteorder is 'little', the most significant byte is at the end of the\n",
      " |        byte array.  To request the native byte order of the host system, use\n",
      " |        `sys.byteorder' as the byte order value.\n",
      " |      signed\n",
      " |        Indicates whether two's complement is used to represent the integer.\n",
      " |  \n",
      " |  ----------------------------------------------------------------------\n",
      " |  Static methods defined here:\n",
      " |  \n",
      " |  __new__(*args, **kwargs) from builtins.type\n",
      " |      Create and return a new object.  See help(type) for accurate signature.\n",
      " |  \n",
      " |  ----------------------------------------------------------------------\n",
      " |  Data descriptors defined here:\n",
      " |  \n",
      " |  denominator\n",
      " |      the denominator of a rational number in lowest terms\n",
      " |  \n",
      " |  imag\n",
      " |      the imaginary part of a complex number\n",
      " |  \n",
      " |  numerator\n",
      " |      the numerator of a rational number in lowest terms\n",
      " |  \n",
      " |  real\n",
      " |      the real part of a complex number\n",
      "\n"
     ]
    }
   ],
   "source": [
    "help(int)"
   ]
  },
  {
   "cell_type": "markdown",
   "id": "a4bf5267-10e8-4b99-b97b-a9822ce8a2fd",
   "metadata": {},
   "source": [
    "## Python coding style"
   ]
  },
  {
   "cell_type": "markdown",
   "id": "f0e89722",
   "metadata": {},
   "source": [
    "[reference: PEP 8 – Style Guide for Python Code](https://peps.python.org/pep-0008/)e"
   ]
  },
  {
   "cell_type": "markdown",
   "id": "e0c49f5d",
   "metadata": {},
   "source": [
    "- use meaningful variable/function names\n",
    "- do not write very long code blocks (>1000 lines): divide them into functions\n",
    "- break lines if too long\n",
    "- be careful not to overwrite keywords and built-in functions\n",
    "- be causious when using `from library import *`"
   ]
  },
  {
   "cell_type": "code",
   "execution_count": 51,
   "id": "cd40019d",
   "metadata": {},
   "outputs": [],
   "source": [
    "########################################\n",
    "# exercise: write a function that finds all (positive) prime numbers \n",
    "# that are less than a given integer"
   ]
  },
  {
   "cell_type": "code",
   "execution_count": 52,
   "id": "56e6802e",
   "metadata": {},
   "outputs": [],
   "source": [
    "def find_prime(value):\n",
    "    assert isinstance(value, int)\n",
    "    prime_numbers = [2]\n",
    "    \n",
    "    if value < 2:\n",
    "        return []\n",
    "    elif value == 2:\n",
    "        return prime_numbers\n",
    "    \n",
    "    for num in range(3,value+1):\n",
    "        is_prime = True\n",
    "        for div in prime_numbers:\n",
    "            if num % div == 0:\n",
    "                is_prime = False\n",
    "                \n",
    "        if is_prime:\n",
    "            prime_numbers.append(num)\n",
    "            \n",
    "    return prime_numbers\n",
    "\n",
    "assert find_prime(1) == []\n",
    "assert find_prime(2) == [2]\n",
    "assert find_prime(3) == [2,3]\n",
    "assert find_prime(4) == [2,3]\n",
    "assert find_prime(5) == [2,3,5]\n",
    "assert find_prime(6) == [2,3,5]\n",
    "assert find_prime(7) == [2,3,5,7]\n",
    "assert find_prime(8) == [2,3,5,7]\n",
    "assert find_prime(9) == [2,3,5,7]\n",
    "assert find_prime(10) == [2,3,5,7]\n",
    "assert find_prime(11) == [2,3,5,7,11]\n",
    "assert find_prime(12) == [2,3,5,7,11]\n",
    "assert find_prime(13) == [2,3,5,7,11,13]\n",
    "assert find_prime(14) == [2,3,5,7,11,13]\n",
    "assert find_prime(15) == [2,3,5,7,11,13]"
   ]
  },
  {
   "cell_type": "code",
   "execution_count": 53,
   "id": "da40083a",
   "metadata": {},
   "outputs": [
    {
     "name": "stdout",
     "output_type": "stream",
     "text": [
      "[2, 3, 5, 7, 11, 13, 17, 19, 23, 29, 31, 37, 41, 43, 47, 53, 59, 61, 67, 71, 73, 79, 83, 89, 97, 101, 103, 107, 109, 113, 127, 131, 137, 139, 149, 151, 157, 163, 167, 173, 179, 181, 191, 193, 197, 199, 211, 223, 227, 229, 233, 239, 241, 251]\n"
     ]
    }
   ],
   "source": [
    "print(find_prime(256))"
   ]
  },
  {
   "cell_type": "code",
   "execution_count": 54,
   "id": "2210a342",
   "metadata": {},
   "outputs": [],
   "source": [
    "########################################\n",
    "# exercise: \n",
    "# change the functionality above into a class\n",
    "# the class is initialized by a starting number\n",
    "# then, implement a method called find_prime, with a stopping number as the input\n",
    "# for example,\n",
    "# for p = Prime(2) (initialize the object)\n",
    "# p.find_prime(15) will return [2,3,5,7,11,13]\n",
    "# for p = Prime(5) (initialize the object)\n",
    "# p.find_prime(15) will return [5,7,11,13]\n",
    "\n",
    "\n",
    "class Prime(object):\n",
    "    def __init__(self, start=2):\n",
    "        assert isinstance(start, int)\n",
    "        self.start = start\n",
    "        self.prime_numbers = [2]\n",
    "\n",
    "\n",
    "    def find_prime(self, stop):\n",
    "        assert isinstance(stop, int)\n",
    "\n",
    "        found = []\n",
    "        \n",
    "        if stop < 2:\n",
    "            return []\n",
    "        elif stop == 2:\n",
    "            return [2]\n",
    "\n",
    "        if self.start == 2:\n",
    "            found = [2]\n",
    "        \n",
    "        for num in range(3,stop+1):\n",
    "            is_prime = True\n",
    "            for div in self.prime_numbers:\n",
    "                if num % div == 0:\n",
    "                    is_prime = False\n",
    "                    \n",
    "            if is_prime:\n",
    "                self.prime_numbers.append(num)\n",
    "                if num >= self.start:\n",
    "                    found.append(num)\n",
    "                \n",
    "        return found\n",
    "\n",
    "p = Prime(5)\n",
    "assert p.find_prime(15) == [5,7,11,13]"
   ]
  },
  {
   "cell_type": "code",
   "execution_count": 55,
   "id": "0d4567b4-1554-4916-9a22-a2498dcf8f97",
   "metadata": {},
   "outputs": [],
   "source": [
    "pp = Prime(2)\n",
    "assert pp.find_prime(15) == [2,3,5,7,11,13]"
   ]
  },
  {
   "cell_type": "markdown",
   "id": "c92d247e-342f-4905-993f-c62c3a54dd6e",
   "metadata": {},
   "source": [
    "# Q&A"
   ]
  },
  {
   "cell_type": "code",
   "execution_count": null,
   "id": "81af3e0e-b1cf-4bf7-bff6-e5eea19e8b0b",
   "metadata": {},
   "outputs": [],
   "source": []
  }
 ],
 "metadata": {
  "kernelspec": {
   "display_name": "Python 3 (ipykernel)",
   "language": "python",
   "name": "python3"
  },
  "language_info": {
   "codemirror_mode": {
    "name": "ipython",
    "version": 3
   },
   "file_extension": ".py",
   "mimetype": "text/x-python",
   "name": "python",
   "nbconvert_exporter": "python",
   "pygments_lexer": "ipython3",
   "version": "3.10.10"
  }
 },
 "nbformat": 4,
 "nbformat_minor": 5
}
