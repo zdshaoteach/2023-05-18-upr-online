{
 "cells": [
  {
   "cell_type": "code",
   "execution_count": 1,
   "id": "258ba2ff-e8a4-4baf-8cd8-35acd479d418",
   "metadata": {},
   "outputs": [
    {
     "name": "stdout",
     "output_type": "stream",
     "text": [
      "12\n"
     ]
    }
   ],
   "source": [
    "import pkg.script1"
   ]
  },
  {
   "cell_type": "code",
   "execution_count": 2,
   "id": "aafe15c6-c348-4095-9297-59311855a657",
   "metadata": {},
   "outputs": [],
   "source": [
    "import importlib\n",
    "\n",
    "lib = importlib.import_module('pkg.script1')"
   ]
  },
  {
   "cell_type": "code",
   "execution_count": 3,
   "id": "9bfbda36-e748-46df-aaf9-11d4aac13e03",
   "metadata": {},
   "outputs": [
    {
     "data": {
      "text/plain": [
       "['__builtins__',\n",
       " '__cached__',\n",
       " '__doc__',\n",
       " '__file__',\n",
       " '__loader__',\n",
       " '__name__',\n",
       " '__package__',\n",
       " '__spec__',\n",
       " 'function']"
      ]
     },
     "execution_count": 3,
     "metadata": {},
     "output_type": "execute_result"
    }
   ],
   "source": [
    "dir(lib)"
   ]
  },
  {
   "cell_type": "code",
   "execution_count": 4,
   "id": "c5753b37-b963-450a-9041-80a77d738579",
   "metadata": {},
   "outputs": [
    {
     "data": {
      "text/plain": [
       "['__builtins__',\n",
       " '__cached__',\n",
       " '__doc__',\n",
       " '__file__',\n",
       " '__loader__',\n",
       " '__name__',\n",
       " '__package__',\n",
       " '__spec__',\n",
       " 'function']"
      ]
     },
     "execution_count": 4,
     "metadata": {},
     "output_type": "execute_result"
    }
   ],
   "source": [
    "dir(pkg.script1)"
   ]
  },
  {
   "cell_type": "code",
   "execution_count": null,
   "id": "71a0eba5-8fd2-4a55-b270-f178e306426a",
   "metadata": {},
   "outputs": [],
   "source": []
  }
 ],
 "metadata": {
  "kernelspec": {
   "display_name": "Python 3 (ipykernel)",
   "language": "python",
   "name": "python3"
  },
  "language_info": {
   "codemirror_mode": {
    "name": "ipython",
    "version": 3
   },
   "file_extension": ".py",
   "mimetype": "text/x-python",
   "name": "python",
   "nbconvert_exporter": "python",
   "pygments_lexer": "ipython3",
   "version": "3.10.10"
  }
 },
 "nbformat": 4,
 "nbformat_minor": 5
}
