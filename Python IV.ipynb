{
 "cells": [
  {
   "cell_type": "markdown",
   "id": "70997b90",
   "metadata": {},
   "source": [
    "# Python IV"
   ]
  },
  {
   "cell_type": "markdown",
   "id": "4c9c9963",
   "metadata": {},
   "source": [
    "---\n",
    "\n",
    "reference curriculum: \n",
    "\n",
    "- [Programming with Python](https://swcarpentry.github.io/python-novice-inflammation/)\n",
    "- [Plotting and Programming in Python](https://swcarpentry.github.io/python-novice-gapminder/)"
   ]
  },
  {
   "cell_type": "markdown",
   "id": "a66169dc",
   "metadata": {},
   "source": [
    "---\n",
    "\n",
    "Duration:\n",
    "- 90 mins\n",
    "\n",
    "---"
   ]
  },
  {
   "cell_type": "markdown",
   "id": "7e42d884-beb8-4b31-8874-7b54b630eab3",
   "metadata": {},
   "source": [
    "## reflect on the errors we have encountered"
   ]
  },
  {
   "cell_type": "markdown",
   "id": "f5b0114c-5a6a-4dc5-835c-ce07c1bd5192",
   "metadata": {},
   "source": [
    "- to name them"
   ]
  },
  {
   "cell_type": "markdown",
   "id": "980cfeaa",
   "metadata": {},
   "source": [
    "## Defensive Programming"
   ]
  },
  {
   "cell_type": "markdown",
   "id": "64f7d232",
   "metadata": {},
   "source": [
    "### syntax errors\n",
    "\n",
    "a `compile` of the code will detect syntax errors\n",
    "\n",
    "high occurrence syntax errors\n",
    "\n",
    "- :\n",
    "- indention\n",
    "- ,\n",
    "- parentheses"
   ]
  },
  {
   "cell_type": "code",
   "execution_count": 1,
   "id": "2937e90a",
   "metadata": {},
   "outputs": [
    {
     "ename": "SyntaxError",
     "evalue": "expected ':' (845857748.py, line 2)",
     "output_type": "error",
     "traceback": [
      "\u001b[0;36m  Cell \u001b[0;32mIn[1], line 2\u001b[0;36m\u001b[0m\n\u001b[0;31m    def sqaure(number)\u001b[0m\n\u001b[0m                      ^\u001b[0m\n\u001b[0;31mSyntaxError\u001b[0m\u001b[0;31m:\u001b[0m expected ':'\n"
     ]
    }
   ],
   "source": [
    "# syntax error\n",
    "def sqaure(number)\n",
    "    return number ** 2"
   ]
  },
  {
   "cell_type": "markdown",
   "id": "5726cb63-869f-4695-8c73-c93ce240cb41",
   "metadata": {},
   "source": [
    "### runtime error\n",
    "\n",
    "an execution of each line of the code with a fresh setup will reveal runtime error\n",
    "e.g., out of index range, undefined variable inside a function, file does not exist, etc.\n",
    "\n",
    "method: write test cases to execute each line of code (white-box testing)\n",
    "\n",
    "- regulate inputs, give more information\n",
    "- be careful not to rewrite keywords and functions\n",
    "    - prefer to use `from math import log` instead of `from math import *`\n",
    "- be careful with file reading and writing\n",
    "- be careful about indices (out of bounds)\n",
    "- be careful about mis-spelling"
   ]
  },
  {
   "cell_type": "code",
   "execution_count": 2,
   "id": "73a9f03b",
   "metadata": {},
   "outputs": [],
   "source": [
    "# syntax error\n",
    "def sqaure(number):\n",
    "    return number / 0"
   ]
  },
  {
   "cell_type": "code",
   "execution_count": 3,
   "id": "95031669-aace-45a7-9e50-d9a25c373137",
   "metadata": {},
   "outputs": [
    {
     "ename": "ZeroDivisionError",
     "evalue": "division by zero",
     "output_type": "error",
     "traceback": [
      "\u001b[0;31m---------------------------------------------------------------------------\u001b[0m",
      "\u001b[0;31mZeroDivisionError\u001b[0m                         Traceback (most recent call last)",
      "Cell \u001b[0;32mIn[3], line 1\u001b[0m\n\u001b[0;32m----> 1\u001b[0m \u001b[43msqaure\u001b[49m\u001b[43m(\u001b[49m\u001b[38;5;241;43m15\u001b[39;49m\u001b[43m)\u001b[49m\n",
      "Cell \u001b[0;32mIn[2], line 3\u001b[0m, in \u001b[0;36msqaure\u001b[0;34m(number)\u001b[0m\n\u001b[1;32m      2\u001b[0m \u001b[38;5;28;01mdef\u001b[39;00m \u001b[38;5;21msqaure\u001b[39m(number):\n\u001b[0;32m----> 3\u001b[0m     \u001b[38;5;28;01mreturn\u001b[39;00m \u001b[43mnumber\u001b[49m\u001b[43m \u001b[49m\u001b[38;5;241;43m/\u001b[39;49m\u001b[43m \u001b[49m\u001b[38;5;241;43m0\u001b[39;49m\n",
      "\u001b[0;31mZeroDivisionError\u001b[0m: division by zero"
     ]
    }
   ],
   "source": [
    "sqaure(15)"
   ]
  },
  {
   "cell_type": "markdown",
   "id": "fc850f63-da6b-473d-af12-d86b661818c1",
   "metadata": {},
   "source": [
    "### logic error\n",
    "\n",
    "- ensure the output is desired\n",
    "- Exhaustive Testing (too much work)\n",
    "- test with **Mathematical Induction**\n",
    "- black-box tests with typical cases\n",
    "- be care of **zero** situation (special cases)"
   ]
  },
  {
   "cell_type": "code",
   "execution_count": 4,
   "id": "66eefd14",
   "metadata": {},
   "outputs": [],
   "source": [
    "# syntax error\n",
    "def sqaure(number):\n",
    "    return number + number"
   ]
  },
  {
   "cell_type": "code",
   "execution_count": 5,
   "id": "4810b5a5",
   "metadata": {},
   "outputs": [
    {
     "data": {
      "text/plain": [
       "8"
      ]
     },
     "execution_count": 5,
     "metadata": {},
     "output_type": "execute_result"
    }
   ],
   "source": [
    "sqaure(4)"
   ]
  },
  {
   "cell_type": "code",
   "execution_count": 6,
   "id": "7ccc9292-9a6f-4a89-9941-caf776ef9ef8",
   "metadata": {},
   "outputs": [
    {
     "ename": "AssertionError",
     "evalue": "",
     "output_type": "error",
     "traceback": [
      "\u001b[0;31m---------------------------------------------------------------------------\u001b[0m",
      "\u001b[0;31mAssertionError\u001b[0m                            Traceback (most recent call last)",
      "Cell \u001b[0;32mIn[6], line 1\u001b[0m\n\u001b[0;32m----> 1\u001b[0m \u001b[38;5;28;01massert\u001b[39;00m sqaure(\u001b[38;5;241m4\u001b[39m) \u001b[38;5;241m==\u001b[39m \u001b[38;5;241m16\u001b[39m\n",
      "\u001b[0;31mAssertionError\u001b[0m: "
     ]
    }
   ],
   "source": [
    "assert sqaure(4) == 16"
   ]
  },
  {
   "cell_type": "markdown",
   "id": "c804bf12-b00a-4719-8ab3-d6b64c6dfb03",
   "metadata": {},
   "source": [
    "### example and exercise: shopping\n",
    "\n",
    "go shopping, which to buy ? how much to pay ? how to test my shopping function ?\n",
    "\n",
    "---\n",
    "I am going shopping with money in my wallet. I also have a shopping list.\n",
    "- what if I have a long shopping list but I do not have enough money?\n",
    "- what if I do not want to buy expensive item?\n",
    "\n",
    "exercise: count the bill\n",
    "- program efficiency\n",
    "- early quit of a for loop\n",
    "- break a for loop"
   ]
  },
  {
   "cell_type": "code",
   "execution_count": null,
   "id": "e77c3326",
   "metadata": {},
   "outputs": [],
   "source": [
    "def shopping(wallet, shopping_list, too_expensive)\n",
    "    # how to write a loop to count the total payment?\n",
    "    total_amount = 0.0\n",
    "    buying_list = []\n",
    "\n",
    "\tfor index, item in enumerate(shopping_list)\n",
    "        payment = total_amount + item[2]\n",
    "\t\tif item[2] > too_expensive:\n",
    "            print('I do not want to buy the #{} item {} \\n \\\n",
    "                because it is too expensive'.format(\n",
    "                i, item[1]))\n",
    "\n",
    "        elif payment <= wallet:\n",
    "            print(\"The #{} item I want to buy is {}, \\n \\\n",
    "                and it costs {} dollars.\".format(\n",
    "                i, item[1], item[2]))\n",
    "            total_amount = payment\n",
    "            buying_list.append(item[1])\n",
    "\n",
    "        else:\n",
    "            print('I do not have enough money for', item)\n",
    "            \n",
    "        print('total amount of the bill is', total_amount, 'dollars.')\n",
    "    return total_amount\n",
    "\n",
    "def test_shopping():\n",
    "    # test case\n",
    "    shopping_list = [\n",
    "        ('rice', 2.0), \n",
    "        ('olive oil', 5.5), \n",
    "        ('salt', 0.9), \n",
    "        ('sugar', 1.5), \n",
    "        ('apple', 2.9)\n",
    "    ]\n",
    "    wallet = 100.0\n",
    "    too_expensive = 100.0\n",
    "    shopping(wallet, shopping_list, too_expensive)\n",
    "\n",
    "test_shopping()"
   ]
  },
  {
   "cell_type": "code",
   "execution_count": null,
   "id": "129ad6c5",
   "metadata": {},
   "outputs": [],
   "source": [
    "def test_shopping():\n",
    "    # test case\n",
    "    shopping_list = [\n",
    "        ('rice', 2.0), \n",
    "        ('olive oil', 5.5), \n",
    "        ('salt', 0.9), \n",
    "        ('sugar', 1.5), \n",
    "        ('apple', 2.9)\n",
    "    ]\n",
    "    wallet = 10.0\n",
    "    too_expensive = 10.0\n",
    "    shopping(wallet, shopping_list, too_expensive)\n",
    "test_shopping()"
   ]
  },
  {
   "cell_type": "code",
   "execution_count": null,
   "id": "4974eaf5",
   "metadata": {},
   "outputs": [],
   "source": [
    "def test_shopping():\n",
    "    # test case\n",
    "    shopping_list = [\n",
    "        ('rice', 2.0), \n",
    "        ('olive oil', 5.5), \n",
    "        ('salt', 0.9), \n",
    "        ('sugar', 1.5), \n",
    "        ('apple', 2.9)\n",
    "    ]\n",
    "    wallet = 6.0\n",
    "    too_expensive = 5.0\n",
    "    shopping(wallet, shopping_list, too_expensive)\n",
    "test_shopping()"
   ]
  },
  {
   "cell_type": "markdown",
   "id": "772c038b",
   "metadata": {},
   "source": [
    "## How to debug my code?\n",
    "\n",
    "1. a lot of printing\n",
    "2. writing detailed logs\n",
    "3. use pdb\n",
    "4. use a GUI debugging interface"
   ]
  },
  {
   "cell_type": "markdown",
   "id": "9874d839",
   "metadata": {},
   "source": [
    "### Use `pdb`\n",
    "\n",
    "terms\n",
    "- break points\n",
    "- step / step in (out)\n",
    "- continue (c)\n",
    "- stop"
   ]
  },
  {
   "cell_type": "code",
   "execution_count": 7,
   "id": "aa385317",
   "metadata": {},
   "outputs": [
    {
     "ename": "AssertionError",
     "evalue": "",
     "output_type": "error",
     "traceback": [
      "\u001b[0;31m---------------------------------------------------------------------------\u001b[0m",
      "\u001b[0;31mAssertionError\u001b[0m                            Traceback (most recent call last)",
      "Cell \u001b[0;32mIn[7], line 6\u001b[0m\n\u001b[1;32m      3\u001b[0m     \u001b[38;5;28;01mreturn\u001b[39;00m r\n\u001b[1;32m      5\u001b[0m \u001b[38;5;28;01massert\u001b[39;00m square(\u001b[38;5;241m2\u001b[39m) \u001b[38;5;241m==\u001b[39m \u001b[38;5;241m4\u001b[39m\n\u001b[0;32m----> 6\u001b[0m \u001b[38;5;28;01massert\u001b[39;00m square(\u001b[38;5;241m3\u001b[39m) \u001b[38;5;241m==\u001b[39m \u001b[38;5;241m9\u001b[39m\n",
      "\u001b[0;31mAssertionError\u001b[0m: "
     ]
    }
   ],
   "source": [
    "def square(x):\n",
    "    r = x + x\n",
    "    return r\n",
    "\n",
    "assert square(2) == 4\n",
    "assert square(3) == 9"
   ]
  },
  {
   "cell_type": "code",
   "execution_count": 8,
   "id": "15c8f412",
   "metadata": {},
   "outputs": [
    {
     "name": "stdout",
     "output_type": "stream",
     "text": [
      "> \u001b[0;32m/tmp/ipykernel_38609/3956239356.py\u001b[0m(6)\u001b[0;36msquare\u001b[0;34m()\u001b[0m\n",
      "\u001b[0;32m      4 \u001b[0;31m    \u001b[0mr\u001b[0m \u001b[0;34m=\u001b[0m \u001b[0mx\u001b[0m \u001b[0;34m+\u001b[0m \u001b[0mx\u001b[0m\u001b[0;34m\u001b[0m\u001b[0;34m\u001b[0m\u001b[0m\n",
      "\u001b[0m\u001b[0;32m      5 \u001b[0;31m    \u001b[0mpdb\u001b[0m\u001b[0;34m.\u001b[0m\u001b[0mset_trace\u001b[0m\u001b[0;34m(\u001b[0m\u001b[0;34m)\u001b[0m\u001b[0;34m\u001b[0m\u001b[0;34m\u001b[0m\u001b[0m\n",
      "\u001b[0m\u001b[0;32m----> 6 \u001b[0;31m    \u001b[0;32mreturn\u001b[0m \u001b[0mr\u001b[0m\u001b[0;34m\u001b[0m\u001b[0;34m\u001b[0m\u001b[0m\n",
      "\u001b[0m\u001b[0;32m      7 \u001b[0;31m\u001b[0;34m\u001b[0m\u001b[0m\n",
      "\u001b[0m\u001b[0;32m      8 \u001b[0;31m\u001b[0;32massert\u001b[0m \u001b[0msquare\u001b[0m\u001b[0;34m(\u001b[0m\u001b[0;36m2\u001b[0m\u001b[0;34m)\u001b[0m \u001b[0;34m==\u001b[0m \u001b[0;36m4\u001b[0m\u001b[0;34m\u001b[0m\u001b[0;34m\u001b[0m\u001b[0m\n",
      "\u001b[0m\n"
     ]
    },
    {
     "name": "stdin",
     "output_type": "stream",
     "text": [
      "ipdb>  s\n"
     ]
    },
    {
     "name": "stdout",
     "output_type": "stream",
     "text": [
      "--Return--\n",
      "4\n",
      "> \u001b[0;32m/tmp/ipykernel_38609/3956239356.py\u001b[0m(6)\u001b[0;36msquare\u001b[0;34m()\u001b[0m\n",
      "\u001b[0;32m      4 \u001b[0;31m    \u001b[0mr\u001b[0m \u001b[0;34m=\u001b[0m \u001b[0mx\u001b[0m \u001b[0;34m+\u001b[0m \u001b[0mx\u001b[0m\u001b[0;34m\u001b[0m\u001b[0;34m\u001b[0m\u001b[0m\n",
      "\u001b[0m\u001b[0;32m      5 \u001b[0;31m    \u001b[0mpdb\u001b[0m\u001b[0;34m.\u001b[0m\u001b[0mset_trace\u001b[0m\u001b[0;34m(\u001b[0m\u001b[0;34m)\u001b[0m\u001b[0;34m\u001b[0m\u001b[0;34m\u001b[0m\u001b[0m\n",
      "\u001b[0m\u001b[0;32m----> 6 \u001b[0;31m    \u001b[0;32mreturn\u001b[0m \u001b[0mr\u001b[0m\u001b[0;34m\u001b[0m\u001b[0;34m\u001b[0m\u001b[0m\n",
      "\u001b[0m\u001b[0;32m      7 \u001b[0;31m\u001b[0;34m\u001b[0m\u001b[0m\n",
      "\u001b[0m\u001b[0;32m      8 \u001b[0;31m\u001b[0;32massert\u001b[0m \u001b[0msquare\u001b[0m\u001b[0;34m(\u001b[0m\u001b[0;36m2\u001b[0m\u001b[0;34m)\u001b[0m \u001b[0;34m==\u001b[0m \u001b[0;36m4\u001b[0m\u001b[0;34m\u001b[0m\u001b[0;34m\u001b[0m\u001b[0m\n",
      "\u001b[0m\n"
     ]
    },
    {
     "name": "stdin",
     "output_type": "stream",
     "text": [
      "ipdb>  x\n"
     ]
    },
    {
     "name": "stdout",
     "output_type": "stream",
     "text": [
      "2\n"
     ]
    },
    {
     "name": "stdin",
     "output_type": "stream",
     "text": [
      "ipdb>  r\n"
     ]
    },
    {
     "name": "stdout",
     "output_type": "stream",
     "text": [
      "--Return--\n",
      "None\n",
      "> \u001b[0;32m/tmp/ipykernel_38609/3956239356.py\u001b[0m(8)\u001b[0;36m<module>\u001b[0;34m()\u001b[0m\n",
      "\u001b[0;32m      5 \u001b[0;31m    \u001b[0mpdb\u001b[0m\u001b[0;34m.\u001b[0m\u001b[0mset_trace\u001b[0m\u001b[0;34m(\u001b[0m\u001b[0;34m)\u001b[0m\u001b[0;34m\u001b[0m\u001b[0;34m\u001b[0m\u001b[0m\n",
      "\u001b[0m\u001b[0;32m      6 \u001b[0;31m    \u001b[0;32mreturn\u001b[0m \u001b[0mr\u001b[0m\u001b[0;34m\u001b[0m\u001b[0;34m\u001b[0m\u001b[0m\n",
      "\u001b[0m\u001b[0;32m      7 \u001b[0;31m\u001b[0;34m\u001b[0m\u001b[0m\n",
      "\u001b[0m\u001b[0;32m----> 8 \u001b[0;31m\u001b[0;32massert\u001b[0m \u001b[0msquare\u001b[0m\u001b[0;34m(\u001b[0m\u001b[0;36m2\u001b[0m\u001b[0;34m)\u001b[0m \u001b[0;34m==\u001b[0m \u001b[0;36m4\u001b[0m\u001b[0;34m\u001b[0m\u001b[0;34m\u001b[0m\u001b[0m\n",
      "\u001b[0m\u001b[0;32m      9 \u001b[0;31m\u001b[0;32massert\u001b[0m \u001b[0msquare\u001b[0m\u001b[0;34m(\u001b[0m\u001b[0;36m3\u001b[0m\u001b[0;34m)\u001b[0m \u001b[0;34m==\u001b[0m \u001b[0;36m9\u001b[0m\u001b[0;34m\u001b[0m\u001b[0;34m\u001b[0m\u001b[0m\n",
      "\u001b[0m\n"
     ]
    },
    {
     "name": "stdin",
     "output_type": "stream",
     "text": [
      "ipdb>  s\n"
     ]
    },
    {
     "name": "stdout",
     "output_type": "stream",
     "text": [
      "\u001b[0;31m    [... skipped 1 hidden frame]\u001b[0m\n",
      "\n",
      "> \u001b[0;32m/Users/doris/mambaforge/lib/python3.10/site-packages/IPython/core/interactiveshell.py\u001b[0m(3511)\u001b[0;36mrun_code\u001b[0;34m()\u001b[0m\n",
      "\u001b[0;32m   3509 \u001b[0;31m            \u001b[0;32mfinally\u001b[0m\u001b[0;34m:\u001b[0m\u001b[0;34m\u001b[0m\u001b[0;34m\u001b[0m\u001b[0m\n",
      "\u001b[0m\u001b[0;32m   3510 \u001b[0;31m                \u001b[0;31m# Reset our crash handler in place\u001b[0m\u001b[0;34m\u001b[0m\u001b[0;34m\u001b[0m\u001b[0m\n",
      "\u001b[0m\u001b[0;32m-> 3511 \u001b[0;31m                \u001b[0msys\u001b[0m\u001b[0;34m.\u001b[0m\u001b[0mexcepthook\u001b[0m \u001b[0;34m=\u001b[0m \u001b[0mold_excepthook\u001b[0m\u001b[0;34m\u001b[0m\u001b[0;34m\u001b[0m\u001b[0m\n",
      "\u001b[0m\u001b[0;32m   3512 \u001b[0;31m        \u001b[0;32mexcept\u001b[0m \u001b[0mSystemExit\u001b[0m \u001b[0;32mas\u001b[0m \u001b[0me\u001b[0m\u001b[0;34m:\u001b[0m\u001b[0;34m\u001b[0m\u001b[0;34m\u001b[0m\u001b[0m\n",
      "\u001b[0m\u001b[0;32m   3513 \u001b[0;31m            \u001b[0;32mif\u001b[0m \u001b[0mresult\u001b[0m \u001b[0;32mis\u001b[0m \u001b[0;32mnot\u001b[0m \u001b[0;32mNone\u001b[0m\u001b[0;34m:\u001b[0m\u001b[0;34m\u001b[0m\u001b[0;34m\u001b[0m\u001b[0m\n",
      "\u001b[0m\n"
     ]
    },
    {
     "name": "stdin",
     "output_type": "stream",
     "text": [
      "ipdb>  s\n"
     ]
    },
    {
     "name": "stdout",
     "output_type": "stream",
     "text": [
      "\u001b[0;31m    [... skipped 1 hidden frame]\u001b[0m\n",
      "\n",
      "> \u001b[0;32m/Users/doris/mambaforge/lib/python3.10/site-packages/IPython/core/interactiveshell.py\u001b[0m(3532)\u001b[0;36mrun_code\u001b[0;34m()\u001b[0m\n",
      "\u001b[0;32m   3530 \u001b[0;31m            \u001b[0mself\u001b[0m\u001b[0;34m.\u001b[0m\u001b[0mshowtraceback\u001b[0m\u001b[0;34m(\u001b[0m\u001b[0mrunning_compiled_code\u001b[0m\u001b[0;34m=\u001b[0m\u001b[0;32mTrue\u001b[0m\u001b[0;34m)\u001b[0m\u001b[0;34m\u001b[0m\u001b[0;34m\u001b[0m\u001b[0m\n",
      "\u001b[0m\u001b[0;32m   3531 \u001b[0;31m        \u001b[0;32melse\u001b[0m\u001b[0;34m:\u001b[0m\u001b[0;34m\u001b[0m\u001b[0;34m\u001b[0m\u001b[0m\n",
      "\u001b[0m\u001b[0;32m-> 3532 \u001b[0;31m            \u001b[0moutflag\u001b[0m \u001b[0;34m=\u001b[0m \u001b[0;32mFalse\u001b[0m\u001b[0;34m\u001b[0m\u001b[0;34m\u001b[0m\u001b[0m\n",
      "\u001b[0m\u001b[0;32m   3533 \u001b[0;31m        \u001b[0;32mreturn\u001b[0m \u001b[0moutflag\u001b[0m\u001b[0;34m\u001b[0m\u001b[0;34m\u001b[0m\u001b[0m\n",
      "\u001b[0m\u001b[0;32m   3534 \u001b[0;31m\u001b[0;34m\u001b[0m\u001b[0m\n",
      "\u001b[0m\n"
     ]
    },
    {
     "name": "stdin",
     "output_type": "stream",
     "text": [
      "ipdb>  c\n"
     ]
    },
    {
     "name": "stdout",
     "output_type": "stream",
     "text": [
      "> \u001b[0;32m/tmp/ipykernel_38609/3956239356.py\u001b[0m(6)\u001b[0;36msquare\u001b[0;34m()\u001b[0m\n",
      "\u001b[0;32m      4 \u001b[0;31m    \u001b[0mr\u001b[0m \u001b[0;34m=\u001b[0m \u001b[0mx\u001b[0m \u001b[0;34m+\u001b[0m \u001b[0mx\u001b[0m\u001b[0;34m\u001b[0m\u001b[0;34m\u001b[0m\u001b[0m\n",
      "\u001b[0m\u001b[0;32m      5 \u001b[0;31m    \u001b[0mpdb\u001b[0m\u001b[0;34m.\u001b[0m\u001b[0mset_trace\u001b[0m\u001b[0;34m(\u001b[0m\u001b[0;34m)\u001b[0m\u001b[0;34m\u001b[0m\u001b[0;34m\u001b[0m\u001b[0m\n",
      "\u001b[0m\u001b[0;32m----> 6 \u001b[0;31m    \u001b[0;32mreturn\u001b[0m \u001b[0mr\u001b[0m\u001b[0;34m\u001b[0m\u001b[0;34m\u001b[0m\u001b[0m\n",
      "\u001b[0m\u001b[0;32m      7 \u001b[0;31m\u001b[0;34m\u001b[0m\u001b[0m\n",
      "\u001b[0m\u001b[0;32m      8 \u001b[0;31m\u001b[0;32massert\u001b[0m \u001b[0msquare\u001b[0m\u001b[0;34m(\u001b[0m\u001b[0;36m2\u001b[0m\u001b[0;34m)\u001b[0m \u001b[0;34m==\u001b[0m \u001b[0;36m4\u001b[0m\u001b[0;34m\u001b[0m\u001b[0;34m\u001b[0m\u001b[0m\n",
      "\u001b[0m\n"
     ]
    },
    {
     "name": "stdin",
     "output_type": "stream",
     "text": [
      "ipdb>  x\n"
     ]
    },
    {
     "name": "stdout",
     "output_type": "stream",
     "text": [
      "3\n"
     ]
    },
    {
     "name": "stdin",
     "output_type": "stream",
     "text": [
      "ipdb>  r\n"
     ]
    },
    {
     "name": "stdout",
     "output_type": "stream",
     "text": [
      "--Return--\n",
      "6\n",
      "> \u001b[0;32m/tmp/ipykernel_38609/3956239356.py\u001b[0m(6)\u001b[0;36msquare\u001b[0;34m()\u001b[0m\n",
      "\u001b[0;32m      4 \u001b[0;31m    \u001b[0mr\u001b[0m \u001b[0;34m=\u001b[0m \u001b[0mx\u001b[0m \u001b[0;34m+\u001b[0m \u001b[0mx\u001b[0m\u001b[0;34m\u001b[0m\u001b[0;34m\u001b[0m\u001b[0m\n",
      "\u001b[0m\u001b[0;32m      5 \u001b[0;31m    \u001b[0mpdb\u001b[0m\u001b[0;34m.\u001b[0m\u001b[0mset_trace\u001b[0m\u001b[0;34m(\u001b[0m\u001b[0;34m)\u001b[0m\u001b[0;34m\u001b[0m\u001b[0;34m\u001b[0m\u001b[0m\n",
      "\u001b[0m\u001b[0;32m----> 6 \u001b[0;31m    \u001b[0;32mreturn\u001b[0m \u001b[0mr\u001b[0m\u001b[0;34m\u001b[0m\u001b[0;34m\u001b[0m\u001b[0m\n",
      "\u001b[0m\u001b[0;32m      7 \u001b[0;31m\u001b[0;34m\u001b[0m\u001b[0m\n",
      "\u001b[0m\u001b[0;32m      8 \u001b[0;31m\u001b[0;32massert\u001b[0m \u001b[0msquare\u001b[0m\u001b[0;34m(\u001b[0m\u001b[0;36m2\u001b[0m\u001b[0;34m)\u001b[0m \u001b[0;34m==\u001b[0m \u001b[0;36m4\u001b[0m\u001b[0;34m\u001b[0m\u001b[0;34m\u001b[0m\u001b[0m\n",
      "\u001b[0m\n"
     ]
    },
    {
     "name": "stdin",
     "output_type": "stream",
     "text": [
      "ipdb>  c\n"
     ]
    },
    {
     "ename": "AssertionError",
     "evalue": "",
     "output_type": "error",
     "traceback": [
      "\u001b[0;31m---------------------------------------------------------------------------\u001b[0m",
      "\u001b[0;31mAssertionError\u001b[0m                            Traceback (most recent call last)",
      "Cell \u001b[0;32mIn[8], line 9\u001b[0m\n\u001b[1;32m      6\u001b[0m     \u001b[38;5;28;01mreturn\u001b[39;00m r\n\u001b[1;32m      8\u001b[0m \u001b[38;5;28;01massert\u001b[39;00m square(\u001b[38;5;241m2\u001b[39m) \u001b[38;5;241m==\u001b[39m \u001b[38;5;241m4\u001b[39m\n\u001b[0;32m----> 9\u001b[0m \u001b[38;5;28;01massert\u001b[39;00m square(\u001b[38;5;241m3\u001b[39m) \u001b[38;5;241m==\u001b[39m \u001b[38;5;241m9\u001b[39m\n",
      "\u001b[0;31mAssertionError\u001b[0m: "
     ]
    }
   ],
   "source": [
    "import pdb\n",
    "\n",
    "def square(x):\n",
    "    r = x + x\n",
    "    pdb.set_trace()\n",
    "    return r\n",
    "\n",
    "assert square(2) == 4\n",
    "assert square(3) == 9"
   ]
  },
  {
   "cell_type": "code",
   "execution_count": 9,
   "id": "c06dde51-fe16-430b-b07f-1558ca9ada4d",
   "metadata": {},
   "outputs": [
    {
     "name": "stdout",
     "output_type": "stream",
     "text": [
      "Patient's BMI is: 0.000367\n",
      "Patient's BMI is: 0.000367\n",
      "Patient's BMI is: 0.000367\n"
     ]
    }
   ],
   "source": [
    "# exercise\n",
    "### Debug the code bellow\n",
    "### where is the mistake?\n",
    "# debug with the jupyter lab interface\n",
    "patients = [[70, 1.8], [80, 1.9], [150, 1.7]]\n",
    "\n",
    "def calculate_bmi(weight, height):\n",
    "    return weight / (height ** 2)\n",
    "\n",
    "for patient in patients:\n",
    "    weight, height = patients[0]\n",
    "    bmi = calculate_bmi(height, weight)\n",
    "    print(\"Patient's BMI is: %f\" % bmi)"
   ]
  },
  {
   "cell_type": "markdown",
   "id": "fc01dd2a-2436-4ed1-ac6f-675aa94336af",
   "metadata": {},
   "source": [
    "### [7 Steps to Debug Efficiently and Effectively](https://www.codementor.io/@mattgoldspink/how-to-debug-code-efficiently-and-effectively-du107u9jh)\n",
    "\n",
    "1. Always Reproduce the Bug Before You Start Changing Code.\n",
    "2. Understand Stack Traces.\n",
    "3. Write a Test Case that Reproduces the Bug.\n",
    "4. Know Your Error Codes.\n",
    "5. Google! Bing! Duck! Duck! Go!\n",
    "6. Pair Program Your Way Out of It.\n",
    "7. Celebrate Your Fix."
   ]
  },
  {
   "cell_type": "markdown",
   "id": "fa9ee84f-ba83-48ba-95ba-8aeecc80d6fd",
   "metadata": {},
   "source": [
    "## Command-line program"
   ]
  },
  {
   "cell_type": "code",
   "execution_count": 10,
   "id": "0e5d5eda-ee41-4138-a835-829f976e43c1",
   "metadata": {},
   "outputs": [],
   "source": [
    "code = \"\"\"\n",
    "def function(parameter):\n",
    "    print(parameter)\n",
    "\n",
    "function(12)\n",
    "\"\"\"\n",
    "\n",
    "with open('script1.py', 'w') as f:\n",
    "    f.write(code)"
   ]
  },
  {
   "cell_type": "code",
   "execution_count": 11,
   "id": "87814106-9fef-422f-9313-04ab4891af55",
   "metadata": {},
   "outputs": [
    {
     "name": "stdout",
     "output_type": "stream",
     "text": [
      "\n",
      "def function(parameter):\n",
      "    print(parameter)\n",
      "\n",
      "function(12)\n"
     ]
    }
   ],
   "source": [
    "!cat script1.py"
   ]
  },
  {
   "cell_type": "code",
   "execution_count": 12,
   "id": "2f426d8f-a360-428c-9fca-ec4c6bb106f1",
   "metadata": {},
   "outputs": [
    {
     "name": "stdout",
     "output_type": "stream",
     "text": [
      "12\n"
     ]
    }
   ],
   "source": [
    "!python script1.py"
   ]
  },
  {
   "cell_type": "code",
   "execution_count": 13,
   "id": "0f2be6e4-4111-4d7e-85b3-18e8eb06f18f",
   "metadata": {},
   "outputs": [
    {
     "name": "stdout",
     "output_type": "stream",
     "text": [
      "12\n"
     ]
    }
   ],
   "source": [
    "import importlib\n",
    "\n",
    "try:\n",
    "    del m1\n",
    "    print('remove m1')\n",
    "except:\n",
    "    pass\n",
    "\n",
    "m1 = importlib.import_module('script1')"
   ]
  },
  {
   "cell_type": "code",
   "execution_count": 14,
   "id": "45560b7e-8d9d-4ada-86e5-24b5a682f504",
   "metadata": {},
   "outputs": [
    {
     "name": "stdout",
     "output_type": "stream",
     "text": [
      "Help on module script1:\n",
      "\n",
      "NAME\n",
      "    script1\n",
      "\n",
      "FUNCTIONS\n",
      "    function(parameter)\n",
      "\n",
      "FILE\n",
      "    /Users/doris/projects/2023-05-18-upr-online/script1.py\n",
      "\n",
      "\n"
     ]
    }
   ],
   "source": [
    "help(m1)"
   ]
  },
  {
   "cell_type": "code",
   "execution_count": 15,
   "id": "6c583eca-3987-4bf0-b862-048ddb0d5dc0",
   "metadata": {},
   "outputs": [],
   "source": [
    "code = \"\"\"\n",
    "def function(parameter):\n",
    "    print(parameter)\n",
    "    \n",
    "if __name__ == '__main__':\n",
    "    function(12)\n",
    "\"\"\"\n",
    "\n",
    "with open('script2.py', 'w') as f:\n",
    "    f.write(code)"
   ]
  },
  {
   "cell_type": "code",
   "execution_count": 16,
   "id": "e41e772a-f65b-4d1c-8164-a9f208944149",
   "metadata": {},
   "outputs": [
    {
     "name": "stdout",
     "output_type": "stream",
     "text": [
      "12\n"
     ]
    }
   ],
   "source": [
    "!python script2.py"
   ]
  },
  {
   "cell_type": "code",
   "execution_count": 17,
   "id": "92447120-de71-4576-9995-91c6100e9324",
   "metadata": {},
   "outputs": [],
   "source": [
    "m2 = importlib.import_module('script2')"
   ]
  },
  {
   "cell_type": "code",
   "execution_count": 18,
   "id": "125bf11b-769f-4f92-a61e-ea99a7659883",
   "metadata": {},
   "outputs": [
    {
     "name": "stdout",
     "output_type": "stream",
     "text": [
      "Help on module script2:\n",
      "\n",
      "NAME\n",
      "    script2\n",
      "\n",
      "FUNCTIONS\n",
      "    function(parameter)\n",
      "\n",
      "FILE\n",
      "    /Users/doris/projects/2023-05-18-upr-online/script2.py\n",
      "\n",
      "\n"
     ]
    }
   ],
   "source": [
    "help(m2)"
   ]
  },
  {
   "cell_type": "code",
   "execution_count": 19,
   "id": "06558b4f-5f10-41e7-8c10-db4d6695736f",
   "metadata": {},
   "outputs": [],
   "source": [
    "code = \"\"\"\n",
    "import sys\n",
    "\n",
    "def function(parameter):\n",
    "    print(parameter)\n",
    "\n",
    "if __name__ == '__main__':\n",
    "    print('input parameters are:', sys.argv)\n",
    "    if len(sys.argv) > 1:\n",
    "        for i in range(1, len(sys.argv)):\n",
    "            function(sys.argv[i])\n",
    "\"\"\"\n",
    "\n",
    "with open('script3.py', 'w') as f:\n",
    "    f.write(code)"
   ]
  },
  {
   "cell_type": "code",
   "execution_count": 20,
   "id": "8c52593d-11e0-42fa-a2aa-9e737abc5092",
   "metadata": {},
   "outputs": [
    {
     "name": "stdout",
     "output_type": "stream",
     "text": [
      "input parameters are: ['script3.py', 'this', 'is', 'a', 'test']\n",
      "this\n",
      "is\n",
      "a\n",
      "test\n"
     ]
    }
   ],
   "source": [
    "!python script3.py this is a test"
   ]
  },
  {
   "cell_type": "code",
   "execution_count": 21,
   "id": "fe38a63b-1b49-4aac-ad71-60fbc5b0473a",
   "metadata": {},
   "outputs": [],
   "source": [
    "code = \"\"\"\n",
    "import argparse\n",
    "parser = argparse.ArgumentParser(description='Process some inputs.')\n",
    "parser.add_argument('--input1', type=int,\n",
    "                    help='the first input')\n",
    "parser.add_argument('--input2', type=int, \n",
    "                    help='the second input')\n",
    "\n",
    "def function(parameter):\n",
    "    print(parameter)\n",
    "\n",
    "if __name__ == '__main__':\n",
    "    args = parser.parse_args()\n",
    "    function(args.input1)\n",
    "    function(args.input2)\n",
    "\"\"\"\n",
    "\n",
    "with open('script4.py', 'w') as f:\n",
    "    f.write(code)"
   ]
  },
  {
   "cell_type": "code",
   "execution_count": 22,
   "id": "6ccabac0-e9ee-41ce-acc8-d8b0f60295cc",
   "metadata": {},
   "outputs": [
    {
     "name": "stdout",
     "output_type": "stream",
     "text": [
      "12\n",
      "13\n"
     ]
    }
   ],
   "source": [
    "!python script4.py --input1 12 --input2 13"
   ]
  },
  {
   "cell_type": "code",
   "execution_count": 23,
   "id": "14ef464d-adf9-4371-92d1-691d6e7d71c9",
   "metadata": {},
   "outputs": [
    {
     "name": "stdout",
     "output_type": "stream",
     "text": [
      "12\n",
      "13\n"
     ]
    }
   ],
   "source": [
    "!python script4.py --input2 13 --input1 12"
   ]
  },
  {
   "cell_type": "markdown",
   "id": "5be54b0d-a538-4915-96b6-c19d97bcc45d",
   "metadata": {},
   "source": [
    "### input complex configurations with .yaml files\n",
    "\n",
    "see [Hydra is an open-source Python framework that simplifies the development of research and other complex applications.](https://hydra.cc/docs/intro/)"
   ]
  },
  {
   "cell_type": "code",
   "execution_count": null,
   "id": "b704d7a1-fdb7-45b6-8863-976676638dc5",
   "metadata": {},
   "outputs": [],
   "source": []
  }
 ],
 "metadata": {
  "kernelspec": {
   "display_name": "Python 3 (ipykernel)",
   "language": "python",
   "name": "python3"
  },
  "language_info": {
   "codemirror_mode": {
    "name": "ipython",
    "version": 3
   },
   "file_extension": ".py",
   "mimetype": "text/x-python",
   "name": "python",
   "nbconvert_exporter": "python",
   "pygments_lexer": "ipython3",
   "version": "3.10.10"
  }
 },
 "nbformat": 4,
 "nbformat_minor": 5
}
